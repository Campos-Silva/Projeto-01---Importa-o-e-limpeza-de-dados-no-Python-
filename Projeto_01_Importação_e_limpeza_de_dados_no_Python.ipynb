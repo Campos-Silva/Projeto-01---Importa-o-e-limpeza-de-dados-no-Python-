{
  "nbformat": 4,
  "nbformat_minor": 0,
  "metadata": {
    "colab": {
      "name": "Projeto 01 - Importação e limpeza de dados no Python.ipynb",
      "provenance": [],
      "collapsed_sections": []
    },
    "kernelspec": {
      "name": "python3",
      "display_name": "Python 3"
    }
  },
  "cells": [
    {
      "cell_type": "markdown",
      "metadata": {
        "id": "UEC3NOc6SrPj"
      },
      "source": [
        "# Projeto 01 - Importação e limpeza de dados no Python "
      ]
    },
    {
      "cell_type": "markdown",
      "metadata": {
        "id": "tAeliozjS3wH"
      },
      "source": [
        "### Objetivos desse projeto:"
      ]
    },
    {
      "cell_type": "markdown",
      "metadata": {
        "id": "zxQIWFc1S-vG"
      },
      "source": [
        "Nesse projeto irei demonstrar como são realizadas 2 etapas essenciais de qualquer trabalho de Data Science, que são:\n",
        "\n",
        "- (1) Importação e conhecimento prévio sobre um conjunto de dados;\n",
        "- (2) Limpeza dos dados / Pré-processamento."
      ]
    },
    {
      "cell_type": "markdown",
      "metadata": {
        "id": "5KMbnuT5idDq"
      },
      "source": [
        "###Detalhamento do Dataset estudado"
      ]
    },
    {
      "cell_type": "markdown",
      "metadata": {
        "id": "MyqlSYHJjNQX"
      },
      "source": [
        "-  Para atingir esses objetivos irei trabalhar com um Dataset oriundo do site a seguir: https://www.kaggle.com/nehalbirla/vehicle-dataset-from-cardekho\n",
        "\n",
        "-  Esse dataset possui dados de carros alugados o qual permite fazer diversas análises em Data Science, inclusive criar modelos preditivos de machine learning, através de regressão linear.\n",
        "\n"
      ]
    },
    {
      "cell_type": "markdown",
      "metadata": {
        "id": "_av-ZGVuFWVL"
      },
      "source": [
        "### Perguntas centrais do Dataset:\n",
        "\n"
      ]
    },
    {
      "cell_type": "markdown",
      "metadata": {
        "id": "fJ-PU5ToHYP3"
      },
      "source": [
        "Nesse dataset podemos explorar as seguintes perguntas centrais:\n",
        "\n",
        "- O valor de preço de venda final desses carros usados está relacionada aos seus atributos?\n",
        "\n",
        "- Se sim, quais os atributos que irão influenciar nesse valor de preço?\n",
        "\n"
      ]
    },
    {
      "cell_type": "markdown",
      "metadata": {
        "id": "XwQoziYDZaQC"
      },
      "source": [
        "##### - Para respondê-las primeiro tenho de realizar a \"(1) Importação e conhecimento prévio sobre um conjunto de dados\" e \"(2) Limpeza dos dados / Pré-processamento\"."
      ]
    },
    {
      "cell_type": "markdown",
      "metadata": {
        "id": "9iwSmzBQKJ10"
      },
      "source": [
        "##### - Só após concluídas essas etapas que posso dar prosseguimento a etapas subsequentes de Data Science, como \"Análises Exploratórias do dataset\" e \"Criação de  Modelos de Machine Learning\"."
      ]
    },
    {
      "cell_type": "markdown",
      "metadata": {
        "id": "LKxUNsVYKp_x"
      },
      "source": [
        "##### - Essas outras etapas serão realizadas em um próximo projeto."
      ]
    },
    {
      "cell_type": "markdown",
      "metadata": {
        "id": "nw-Z_QgkSYmd"
      },
      "source": [
        "# Bibliotecas utilizadas nesse projeto:\n",
        "\n",
        "- pandas\n",
        "\n",
        "- numpy\n",
        "\n",
        "- missingno\n",
        "\n",
        "- matplotlib"
      ]
    },
    {
      "cell_type": "markdown",
      "metadata": {
        "id": "MDRwGW8PpMsH"
      },
      "source": [
        "# (1) Importação e conhecimento prévio sobre um conjunto de dados"
      ]
    },
    {
      "cell_type": "code",
      "metadata": {
        "id": "RZCb59Gto6RO"
      },
      "source": [
        "#Vou trabalhar com a biblioteca pandas para importar e explorar inicialmente o Dataset\n",
        "\n",
        "#Importando a biblioteca pandas\n",
        "\n",
        "import pandas as pd"
      ],
      "execution_count": 377,
      "outputs": []
    },
    {
      "cell_type": "code",
      "metadata": {
        "id": "FUpOk2EO74B7"
      },
      "source": [
        "#Importando a biblioteca Numpy\n",
        "\n",
        "import numpy as np"
      ],
      "execution_count": 378,
      "outputs": []
    },
    {
      "cell_type": "code",
      "metadata": {
        "id": "sdFyRFfSjbbD"
      },
      "source": [
        "#Agora vou importar o meu conjunto de dados através dessa biblioteca\n",
        "\n",
        "carros = pd.read_csv(\"Car details v3.csv\")"
      ],
      "execution_count": 379,
      "outputs": []
    },
    {
      "cell_type": "markdown",
      "metadata": {
        "id": "fEtPjJZzzDe5"
      },
      "source": [
        "Aqui irei começar a entender como está configurado o meu conjunto de dados."
      ]
    },
    {
      "cell_type": "code",
      "metadata": {
        "colab": {
          "base_uri": "https://localhost:8080/"
        },
        "id": "BaTt3Djwk0dK",
        "outputId": "bf314a1a-09f8-43c2-f8a5-6111fcf8b124"
      },
      "source": [
        "#Vou identificar quantas linhas e colunas existem nesse conjunto de dados\n",
        "\n",
        "carros.shape"
      ],
      "execution_count": 380,
      "outputs": [
        {
          "output_type": "execute_result",
          "data": {
            "text/plain": [
              "(8128, 13)"
            ]
          },
          "metadata": {
            "tags": []
          },
          "execution_count": 380
        }
      ]
    },
    {
      "cell_type": "code",
      "metadata": {
        "id": "2lLLIGmNpRmb",
        "colab": {
          "base_uri": "https://localhost:8080/",
          "height": 195
        },
        "outputId": "5cdc322e-c6c1-42aa-eb91-31c5f3104673"
      },
      "source": [
        "#Quero visualizar as 5 primeiras linhas para identificar quais são as variáveis que existem nesse dataset.\n",
        "\n",
        "carros.head(5)"
      ],
      "execution_count": 381,
      "outputs": [
        {
          "output_type": "execute_result",
          "data": {
            "text/html": [
              "<div>\n",
              "<style scoped>\n",
              "    .dataframe tbody tr th:only-of-type {\n",
              "        vertical-align: middle;\n",
              "    }\n",
              "\n",
              "    .dataframe tbody tr th {\n",
              "        vertical-align: top;\n",
              "    }\n",
              "\n",
              "    .dataframe thead th {\n",
              "        text-align: right;\n",
              "    }\n",
              "</style>\n",
              "<table border=\"1\" class=\"dataframe\">\n",
              "  <thead>\n",
              "    <tr style=\"text-align: right;\">\n",
              "      <th></th>\n",
              "      <th>name</th>\n",
              "      <th>year</th>\n",
              "      <th>selling_price</th>\n",
              "      <th>km_driven</th>\n",
              "      <th>fuel</th>\n",
              "      <th>seller_type</th>\n",
              "      <th>transmission</th>\n",
              "      <th>owner</th>\n",
              "      <th>mileage</th>\n",
              "      <th>engine</th>\n",
              "      <th>max_power</th>\n",
              "      <th>torque</th>\n",
              "      <th>seats</th>\n",
              "    </tr>\n",
              "  </thead>\n",
              "  <tbody>\n",
              "    <tr>\n",
              "      <th>0</th>\n",
              "      <td>Maruti Swift Dzire VDI</td>\n",
              "      <td>2014</td>\n",
              "      <td>450000</td>\n",
              "      <td>145500</td>\n",
              "      <td>Diesel</td>\n",
              "      <td>Individual</td>\n",
              "      <td>Manual</td>\n",
              "      <td>First Owner</td>\n",
              "      <td>23.4 kmpl</td>\n",
              "      <td>1248 CC</td>\n",
              "      <td>74 bhp</td>\n",
              "      <td>190Nm@ 2000rpm</td>\n",
              "      <td>5.0</td>\n",
              "    </tr>\n",
              "    <tr>\n",
              "      <th>1</th>\n",
              "      <td>Skoda Rapid 1.5 TDI Ambition</td>\n",
              "      <td>2014</td>\n",
              "      <td>370000</td>\n",
              "      <td>120000</td>\n",
              "      <td>Diesel</td>\n",
              "      <td>Individual</td>\n",
              "      <td>Manual</td>\n",
              "      <td>Second Owner</td>\n",
              "      <td>21.14 kmpl</td>\n",
              "      <td>1498 CC</td>\n",
              "      <td>103.52 bhp</td>\n",
              "      <td>250Nm@ 1500-2500rpm</td>\n",
              "      <td>5.0</td>\n",
              "    </tr>\n",
              "    <tr>\n",
              "      <th>2</th>\n",
              "      <td>Honda City 2017-2020 EXi</td>\n",
              "      <td>2006</td>\n",
              "      <td>158000</td>\n",
              "      <td>140000</td>\n",
              "      <td>Petrol</td>\n",
              "      <td>Individual</td>\n",
              "      <td>Manual</td>\n",
              "      <td>Third Owner</td>\n",
              "      <td>17.7 kmpl</td>\n",
              "      <td>1497 CC</td>\n",
              "      <td>78 bhp</td>\n",
              "      <td>12.7@ 2,700(kgm@ rpm)</td>\n",
              "      <td>5.0</td>\n",
              "    </tr>\n",
              "    <tr>\n",
              "      <th>3</th>\n",
              "      <td>Hyundai i20 Sportz Diesel</td>\n",
              "      <td>2010</td>\n",
              "      <td>225000</td>\n",
              "      <td>127000</td>\n",
              "      <td>Diesel</td>\n",
              "      <td>Individual</td>\n",
              "      <td>Manual</td>\n",
              "      <td>First Owner</td>\n",
              "      <td>23.0 kmpl</td>\n",
              "      <td>1396 CC</td>\n",
              "      <td>90 bhp</td>\n",
              "      <td>22.4 kgm at 1750-2750rpm</td>\n",
              "      <td>5.0</td>\n",
              "    </tr>\n",
              "    <tr>\n",
              "      <th>4</th>\n",
              "      <td>Maruti Swift VXI BSIII</td>\n",
              "      <td>2007</td>\n",
              "      <td>130000</td>\n",
              "      <td>120000</td>\n",
              "      <td>Petrol</td>\n",
              "      <td>Individual</td>\n",
              "      <td>Manual</td>\n",
              "      <td>First Owner</td>\n",
              "      <td>16.1 kmpl</td>\n",
              "      <td>1298 CC</td>\n",
              "      <td>88.2 bhp</td>\n",
              "      <td>11.5@ 4,500(kgm@ rpm)</td>\n",
              "      <td>5.0</td>\n",
              "    </tr>\n",
              "  </tbody>\n",
              "</table>\n",
              "</div>"
            ],
            "text/plain": [
              "                           name  year  ...                    torque  seats\n",
              "0        Maruti Swift Dzire VDI  2014  ...            190Nm@ 2000rpm    5.0\n",
              "1  Skoda Rapid 1.5 TDI Ambition  2014  ...       250Nm@ 1500-2500rpm    5.0\n",
              "2      Honda City 2017-2020 EXi  2006  ...     12.7@ 2,700(kgm@ rpm)    5.0\n",
              "3     Hyundai i20 Sportz Diesel  2010  ...  22.4 kgm at 1750-2750rpm    5.0\n",
              "4        Maruti Swift VXI BSIII  2007  ...     11.5@ 4,500(kgm@ rpm)    5.0\n",
              "\n",
              "[5 rows x 13 columns]"
            ]
          },
          "metadata": {
            "tags": []
          },
          "execution_count": 381
        }
      ]
    },
    {
      "cell_type": "code",
      "metadata": {
        "colab": {
          "base_uri": "https://localhost:8080/",
          "height": 366
        },
        "id": "OIUbNChYlE_m",
        "outputId": "e8f6dffb-075b-4155-847f-cc94f4aafda7"
      },
      "source": [
        "#Vou alterar o nome das colunas para nomes em português\n",
        "\n",
        "carros.columns = \"nome_completo_do_carro\", \"ano\",\t\"preco_de_venda\" , \"km_rodado\" ,\t\"tipo_combustivel\" ,\t\"tipo_do_vendedor\"\t, \"transmissao\", \"dono\", \"consumo_do_combustivel\", \"motor\", \"potencia_do_motor\", \"torque\", \"assentos\"\n",
        "carros.head(5)"
      ],
      "execution_count": 382,
      "outputs": [
        {
          "output_type": "execute_result",
          "data": {
            "text/html": [
              "<div>\n",
              "<style scoped>\n",
              "    .dataframe tbody tr th:only-of-type {\n",
              "        vertical-align: middle;\n",
              "    }\n",
              "\n",
              "    .dataframe tbody tr th {\n",
              "        vertical-align: top;\n",
              "    }\n",
              "\n",
              "    .dataframe thead th {\n",
              "        text-align: right;\n",
              "    }\n",
              "</style>\n",
              "<table border=\"1\" class=\"dataframe\">\n",
              "  <thead>\n",
              "    <tr style=\"text-align: right;\">\n",
              "      <th></th>\n",
              "      <th>nome_completo_do_carro</th>\n",
              "      <th>ano</th>\n",
              "      <th>preco_de_venda</th>\n",
              "      <th>km_rodado</th>\n",
              "      <th>tipo_combustivel</th>\n",
              "      <th>tipo_do_vendedor</th>\n",
              "      <th>transmissao</th>\n",
              "      <th>dono</th>\n",
              "      <th>consumo_do_combustivel</th>\n",
              "      <th>motor</th>\n",
              "      <th>potencia_do_motor</th>\n",
              "      <th>torque</th>\n",
              "      <th>assentos</th>\n",
              "    </tr>\n",
              "  </thead>\n",
              "  <tbody>\n",
              "    <tr>\n",
              "      <th>0</th>\n",
              "      <td>Maruti Swift Dzire VDI</td>\n",
              "      <td>2014</td>\n",
              "      <td>450000</td>\n",
              "      <td>145500</td>\n",
              "      <td>Diesel</td>\n",
              "      <td>Individual</td>\n",
              "      <td>Manual</td>\n",
              "      <td>First Owner</td>\n",
              "      <td>23.4 kmpl</td>\n",
              "      <td>1248 CC</td>\n",
              "      <td>74 bhp</td>\n",
              "      <td>190Nm@ 2000rpm</td>\n",
              "      <td>5.0</td>\n",
              "    </tr>\n",
              "    <tr>\n",
              "      <th>1</th>\n",
              "      <td>Skoda Rapid 1.5 TDI Ambition</td>\n",
              "      <td>2014</td>\n",
              "      <td>370000</td>\n",
              "      <td>120000</td>\n",
              "      <td>Diesel</td>\n",
              "      <td>Individual</td>\n",
              "      <td>Manual</td>\n",
              "      <td>Second Owner</td>\n",
              "      <td>21.14 kmpl</td>\n",
              "      <td>1498 CC</td>\n",
              "      <td>103.52 bhp</td>\n",
              "      <td>250Nm@ 1500-2500rpm</td>\n",
              "      <td>5.0</td>\n",
              "    </tr>\n",
              "    <tr>\n",
              "      <th>2</th>\n",
              "      <td>Honda City 2017-2020 EXi</td>\n",
              "      <td>2006</td>\n",
              "      <td>158000</td>\n",
              "      <td>140000</td>\n",
              "      <td>Petrol</td>\n",
              "      <td>Individual</td>\n",
              "      <td>Manual</td>\n",
              "      <td>Third Owner</td>\n",
              "      <td>17.7 kmpl</td>\n",
              "      <td>1497 CC</td>\n",
              "      <td>78 bhp</td>\n",
              "      <td>12.7@ 2,700(kgm@ rpm)</td>\n",
              "      <td>5.0</td>\n",
              "    </tr>\n",
              "    <tr>\n",
              "      <th>3</th>\n",
              "      <td>Hyundai i20 Sportz Diesel</td>\n",
              "      <td>2010</td>\n",
              "      <td>225000</td>\n",
              "      <td>127000</td>\n",
              "      <td>Diesel</td>\n",
              "      <td>Individual</td>\n",
              "      <td>Manual</td>\n",
              "      <td>First Owner</td>\n",
              "      <td>23.0 kmpl</td>\n",
              "      <td>1396 CC</td>\n",
              "      <td>90 bhp</td>\n",
              "      <td>22.4 kgm at 1750-2750rpm</td>\n",
              "      <td>5.0</td>\n",
              "    </tr>\n",
              "    <tr>\n",
              "      <th>4</th>\n",
              "      <td>Maruti Swift VXI BSIII</td>\n",
              "      <td>2007</td>\n",
              "      <td>130000</td>\n",
              "      <td>120000</td>\n",
              "      <td>Petrol</td>\n",
              "      <td>Individual</td>\n",
              "      <td>Manual</td>\n",
              "      <td>First Owner</td>\n",
              "      <td>16.1 kmpl</td>\n",
              "      <td>1298 CC</td>\n",
              "      <td>88.2 bhp</td>\n",
              "      <td>11.5@ 4,500(kgm@ rpm)</td>\n",
              "      <td>5.0</td>\n",
              "    </tr>\n",
              "  </tbody>\n",
              "</table>\n",
              "</div>"
            ],
            "text/plain": [
              "         nome_completo_do_carro   ano  ...                    torque  assentos\n",
              "0        Maruti Swift Dzire VDI  2014  ...            190Nm@ 2000rpm       5.0\n",
              "1  Skoda Rapid 1.5 TDI Ambition  2014  ...       250Nm@ 1500-2500rpm       5.0\n",
              "2      Honda City 2017-2020 EXi  2006  ...     12.7@ 2,700(kgm@ rpm)       5.0\n",
              "3     Hyundai i20 Sportz Diesel  2010  ...  22.4 kgm at 1750-2750rpm       5.0\n",
              "4        Maruti Swift VXI BSIII  2007  ...     11.5@ 4,500(kgm@ rpm)       5.0\n",
              "\n",
              "[5 rows x 13 columns]"
            ]
          },
          "metadata": {
            "tags": []
          },
          "execution_count": 382
        }
      ]
    },
    {
      "cell_type": "markdown",
      "metadata": {
        "id": "v10JxteZzlbg"
      },
      "source": [
        "Vou identificar quais são os tipos de dados para cada variável."
      ]
    },
    {
      "cell_type": "code",
      "metadata": {
        "colab": {
          "base_uri": "https://localhost:8080/"
        },
        "id": "PmSoS6Z2zplE",
        "outputId": "5e37ac3b-7def-4424-bd94-0428ee618cbe"
      },
      "source": [
        "carros.dtypes"
      ],
      "execution_count": 383,
      "outputs": [
        {
          "output_type": "execute_result",
          "data": {
            "text/plain": [
              "nome_completo_do_carro     object\n",
              "ano                         int64\n",
              "preco_de_venda              int64\n",
              "km_rodado                   int64\n",
              "tipo_combustivel           object\n",
              "tipo_do_vendedor           object\n",
              "transmissao                object\n",
              "dono                       object\n",
              "consumo_do_combustivel     object\n",
              "motor                      object\n",
              "potencia_do_motor          object\n",
              "torque                     object\n",
              "assentos                  float64\n",
              "dtype: object"
            ]
          },
          "metadata": {
            "tags": []
          },
          "execution_count": 383
        }
      ]
    },
    {
      "cell_type": "markdown",
      "metadata": {
        "id": "o3Z_ejTr3qYK"
      },
      "source": [
        "No site https://pbpython.com/pandas_dtypes.html, encontramos uma imagem que ilustra o significado para os diferentes tipos de valores da biblioteca pandas, por meio da função \"dtype\"."
      ]
    },
    {
      "cell_type": "markdown",
      "metadata": {
        "id": "f7oItsAXy-xS"
      },
      "source": [
        "![imagem_1.PNG](data:image/png;base64,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)\n",
        "\n",
        "\n",
        "\n",
        "\n",
        "\n"
      ]
    },
    {
      "cell_type": "markdown",
      "metadata": {
        "id": "AA4316m03QBO"
      },
      "source": [
        "####Por meio dessa referência e da função realizada identifiquei que há os seguintes tipos de valores no dataset:\n",
        " \n",
        "\n",
        "- \"object\", o qual é dado é dado para texto e valores não numéricos;\n",
        "\n",
        "- \"int64\", que se refere a números inteiros;\n",
        "\n",
        "- \"float64\", que se refere a valores com decimais."
      ]
    },
    {
      "cell_type": "markdown",
      "metadata": {
        "id": "Nj7CU7D_AnKE"
      },
      "source": [
        "####Assim, esse dataset possui:\n",
        "\n",
        "- **4** variáveis numéricas que são: \"ano\", \"preco_de_venda\", \"km_rodado\" e \"assentos\";\n",
        "\n",
        "- **9** variáveis categóricas que são: \"nome_completo_do_carro\", \"tipo_combustivel\",\t\"tipo_do_vendedor\", \"transmissao\", \"dono\", \"consumo_do_combustivel\", \"motor\", \"potencia_do_motor\" e \"torque\".\n",
        "\n"
      ]
    },
    {
      "cell_type": "markdown",
      "metadata": {
        "id": "i2qpcO3H1p71"
      },
      "source": [
        "## Resumo de estatísticas descritivas para o dataset\n",
        "\n",
        "- Informações para valores numéricos"
      ]
    },
    {
      "cell_type": "code",
      "metadata": {
        "colab": {
          "base_uri": "https://localhost:8080/",
          "height": 284
        },
        "id": "Fub2mP-B12bq",
        "outputId": "6d25e951-3c43-4736-96a5-8e507dfb5049"
      },
      "source": [
        "carros.describe()"
      ],
      "execution_count": 384,
      "outputs": [
        {
          "output_type": "execute_result",
          "data": {
            "text/html": [
              "<div>\n",
              "<style scoped>\n",
              "    .dataframe tbody tr th:only-of-type {\n",
              "        vertical-align: middle;\n",
              "    }\n",
              "\n",
              "    .dataframe tbody tr th {\n",
              "        vertical-align: top;\n",
              "    }\n",
              "\n",
              "    .dataframe thead th {\n",
              "        text-align: right;\n",
              "    }\n",
              "</style>\n",
              "<table border=\"1\" class=\"dataframe\">\n",
              "  <thead>\n",
              "    <tr style=\"text-align: right;\">\n",
              "      <th></th>\n",
              "      <th>ano</th>\n",
              "      <th>preco_de_venda</th>\n",
              "      <th>km_rodado</th>\n",
              "      <th>assentos</th>\n",
              "    </tr>\n",
              "  </thead>\n",
              "  <tbody>\n",
              "    <tr>\n",
              "      <th>count</th>\n",
              "      <td>8128.000000</td>\n",
              "      <td>8.128000e+03</td>\n",
              "      <td>8.128000e+03</td>\n",
              "      <td>7907.000000</td>\n",
              "    </tr>\n",
              "    <tr>\n",
              "      <th>mean</th>\n",
              "      <td>2013.804011</td>\n",
              "      <td>6.382718e+05</td>\n",
              "      <td>6.981951e+04</td>\n",
              "      <td>5.416719</td>\n",
              "    </tr>\n",
              "    <tr>\n",
              "      <th>std</th>\n",
              "      <td>4.044249</td>\n",
              "      <td>8.062534e+05</td>\n",
              "      <td>5.655055e+04</td>\n",
              "      <td>0.959588</td>\n",
              "    </tr>\n",
              "    <tr>\n",
              "      <th>min</th>\n",
              "      <td>1983.000000</td>\n",
              "      <td>2.999900e+04</td>\n",
              "      <td>1.000000e+00</td>\n",
              "      <td>2.000000</td>\n",
              "    </tr>\n",
              "    <tr>\n",
              "      <th>25%</th>\n",
              "      <td>2011.000000</td>\n",
              "      <td>2.549990e+05</td>\n",
              "      <td>3.500000e+04</td>\n",
              "      <td>5.000000</td>\n",
              "    </tr>\n",
              "    <tr>\n",
              "      <th>50%</th>\n",
              "      <td>2015.000000</td>\n",
              "      <td>4.500000e+05</td>\n",
              "      <td>6.000000e+04</td>\n",
              "      <td>5.000000</td>\n",
              "    </tr>\n",
              "    <tr>\n",
              "      <th>75%</th>\n",
              "      <td>2017.000000</td>\n",
              "      <td>6.750000e+05</td>\n",
              "      <td>9.800000e+04</td>\n",
              "      <td>5.000000</td>\n",
              "    </tr>\n",
              "    <tr>\n",
              "      <th>max</th>\n",
              "      <td>2020.000000</td>\n",
              "      <td>1.000000e+07</td>\n",
              "      <td>2.360457e+06</td>\n",
              "      <td>14.000000</td>\n",
              "    </tr>\n",
              "  </tbody>\n",
              "</table>\n",
              "</div>"
            ],
            "text/plain": [
              "               ano  preco_de_venda     km_rodado     assentos\n",
              "count  8128.000000    8.128000e+03  8.128000e+03  7907.000000\n",
              "mean   2013.804011    6.382718e+05  6.981951e+04     5.416719\n",
              "std       4.044249    8.062534e+05  5.655055e+04     0.959588\n",
              "min    1983.000000    2.999900e+04  1.000000e+00     2.000000\n",
              "25%    2011.000000    2.549990e+05  3.500000e+04     5.000000\n",
              "50%    2015.000000    4.500000e+05  6.000000e+04     5.000000\n",
              "75%    2017.000000    6.750000e+05  9.800000e+04     5.000000\n",
              "max    2020.000000    1.000000e+07  2.360457e+06    14.000000"
            ]
          },
          "metadata": {
            "tags": []
          },
          "execution_count": 384
        }
      ]
    },
    {
      "cell_type": "markdown",
      "metadata": {
        "id": "7JxRvseX2FBi"
      },
      "source": [
        "## Resumo de estatísticas descritivas para o dataset\n",
        "\n",
        "- Incluindo todas as variáveis, inclusive as categóricas"
      ]
    },
    {
      "cell_type": "code",
      "metadata": {
        "colab": {
          "base_uri": "https://localhost:8080/",
          "height": 410
        },
        "id": "j6uod4-Q2PEd",
        "outputId": "ad7359e9-1438-4de7-d0b1-50d2d1a02862"
      },
      "source": [
        "carros.describe(include=\"all\")"
      ],
      "execution_count": 385,
      "outputs": [
        {
          "output_type": "execute_result",
          "data": {
            "text/html": [
              "<div>\n",
              "<style scoped>\n",
              "    .dataframe tbody tr th:only-of-type {\n",
              "        vertical-align: middle;\n",
              "    }\n",
              "\n",
              "    .dataframe tbody tr th {\n",
              "        vertical-align: top;\n",
              "    }\n",
              "\n",
              "    .dataframe thead th {\n",
              "        text-align: right;\n",
              "    }\n",
              "</style>\n",
              "<table border=\"1\" class=\"dataframe\">\n",
              "  <thead>\n",
              "    <tr style=\"text-align: right;\">\n",
              "      <th></th>\n",
              "      <th>nome_completo_do_carro</th>\n",
              "      <th>ano</th>\n",
              "      <th>preco_de_venda</th>\n",
              "      <th>km_rodado</th>\n",
              "      <th>tipo_combustivel</th>\n",
              "      <th>tipo_do_vendedor</th>\n",
              "      <th>transmissao</th>\n",
              "      <th>dono</th>\n",
              "      <th>consumo_do_combustivel</th>\n",
              "      <th>motor</th>\n",
              "      <th>potencia_do_motor</th>\n",
              "      <th>torque</th>\n",
              "      <th>assentos</th>\n",
              "    </tr>\n",
              "  </thead>\n",
              "  <tbody>\n",
              "    <tr>\n",
              "      <th>count</th>\n",
              "      <td>8128</td>\n",
              "      <td>8128.000000</td>\n",
              "      <td>8.128000e+03</td>\n",
              "      <td>8.128000e+03</td>\n",
              "      <td>8128</td>\n",
              "      <td>8128</td>\n",
              "      <td>8128</td>\n",
              "      <td>8128</td>\n",
              "      <td>7907</td>\n",
              "      <td>7907</td>\n",
              "      <td>7913</td>\n",
              "      <td>7906</td>\n",
              "      <td>7907.000000</td>\n",
              "    </tr>\n",
              "    <tr>\n",
              "      <th>unique</th>\n",
              "      <td>2058</td>\n",
              "      <td>NaN</td>\n",
              "      <td>NaN</td>\n",
              "      <td>NaN</td>\n",
              "      <td>4</td>\n",
              "      <td>3</td>\n",
              "      <td>2</td>\n",
              "      <td>5</td>\n",
              "      <td>393</td>\n",
              "      <td>121</td>\n",
              "      <td>322</td>\n",
              "      <td>441</td>\n",
              "      <td>NaN</td>\n",
              "    </tr>\n",
              "    <tr>\n",
              "      <th>top</th>\n",
              "      <td>Maruti Swift Dzire VDI</td>\n",
              "      <td>NaN</td>\n",
              "      <td>NaN</td>\n",
              "      <td>NaN</td>\n",
              "      <td>Diesel</td>\n",
              "      <td>Individual</td>\n",
              "      <td>Manual</td>\n",
              "      <td>First Owner</td>\n",
              "      <td>18.9 kmpl</td>\n",
              "      <td>1248 CC</td>\n",
              "      <td>74 bhp</td>\n",
              "      <td>190Nm@ 2000rpm</td>\n",
              "      <td>NaN</td>\n",
              "    </tr>\n",
              "    <tr>\n",
              "      <th>freq</th>\n",
              "      <td>129</td>\n",
              "      <td>NaN</td>\n",
              "      <td>NaN</td>\n",
              "      <td>NaN</td>\n",
              "      <td>4402</td>\n",
              "      <td>6766</td>\n",
              "      <td>7078</td>\n",
              "      <td>5289</td>\n",
              "      <td>225</td>\n",
              "      <td>1017</td>\n",
              "      <td>377</td>\n",
              "      <td>530</td>\n",
              "      <td>NaN</td>\n",
              "    </tr>\n",
              "    <tr>\n",
              "      <th>mean</th>\n",
              "      <td>NaN</td>\n",
              "      <td>2013.804011</td>\n",
              "      <td>6.382718e+05</td>\n",
              "      <td>6.981951e+04</td>\n",
              "      <td>NaN</td>\n",
              "      <td>NaN</td>\n",
              "      <td>NaN</td>\n",
              "      <td>NaN</td>\n",
              "      <td>NaN</td>\n",
              "      <td>NaN</td>\n",
              "      <td>NaN</td>\n",
              "      <td>NaN</td>\n",
              "      <td>5.416719</td>\n",
              "    </tr>\n",
              "    <tr>\n",
              "      <th>std</th>\n",
              "      <td>NaN</td>\n",
              "      <td>4.044249</td>\n",
              "      <td>8.062534e+05</td>\n",
              "      <td>5.655055e+04</td>\n",
              "      <td>NaN</td>\n",
              "      <td>NaN</td>\n",
              "      <td>NaN</td>\n",
              "      <td>NaN</td>\n",
              "      <td>NaN</td>\n",
              "      <td>NaN</td>\n",
              "      <td>NaN</td>\n",
              "      <td>NaN</td>\n",
              "      <td>0.959588</td>\n",
              "    </tr>\n",
              "    <tr>\n",
              "      <th>min</th>\n",
              "      <td>NaN</td>\n",
              "      <td>1983.000000</td>\n",
              "      <td>2.999900e+04</td>\n",
              "      <td>1.000000e+00</td>\n",
              "      <td>NaN</td>\n",
              "      <td>NaN</td>\n",
              "      <td>NaN</td>\n",
              "      <td>NaN</td>\n",
              "      <td>NaN</td>\n",
              "      <td>NaN</td>\n",
              "      <td>NaN</td>\n",
              "      <td>NaN</td>\n",
              "      <td>2.000000</td>\n",
              "    </tr>\n",
              "    <tr>\n",
              "      <th>25%</th>\n",
              "      <td>NaN</td>\n",
              "      <td>2011.000000</td>\n",
              "      <td>2.549990e+05</td>\n",
              "      <td>3.500000e+04</td>\n",
              "      <td>NaN</td>\n",
              "      <td>NaN</td>\n",
              "      <td>NaN</td>\n",
              "      <td>NaN</td>\n",
              "      <td>NaN</td>\n",
              "      <td>NaN</td>\n",
              "      <td>NaN</td>\n",
              "      <td>NaN</td>\n",
              "      <td>5.000000</td>\n",
              "    </tr>\n",
              "    <tr>\n",
              "      <th>50%</th>\n",
              "      <td>NaN</td>\n",
              "      <td>2015.000000</td>\n",
              "      <td>4.500000e+05</td>\n",
              "      <td>6.000000e+04</td>\n",
              "      <td>NaN</td>\n",
              "      <td>NaN</td>\n",
              "      <td>NaN</td>\n",
              "      <td>NaN</td>\n",
              "      <td>NaN</td>\n",
              "      <td>NaN</td>\n",
              "      <td>NaN</td>\n",
              "      <td>NaN</td>\n",
              "      <td>5.000000</td>\n",
              "    </tr>\n",
              "    <tr>\n",
              "      <th>75%</th>\n",
              "      <td>NaN</td>\n",
              "      <td>2017.000000</td>\n",
              "      <td>6.750000e+05</td>\n",
              "      <td>9.800000e+04</td>\n",
              "      <td>NaN</td>\n",
              "      <td>NaN</td>\n",
              "      <td>NaN</td>\n",
              "      <td>NaN</td>\n",
              "      <td>NaN</td>\n",
              "      <td>NaN</td>\n",
              "      <td>NaN</td>\n",
              "      <td>NaN</td>\n",
              "      <td>5.000000</td>\n",
              "    </tr>\n",
              "    <tr>\n",
              "      <th>max</th>\n",
              "      <td>NaN</td>\n",
              "      <td>2020.000000</td>\n",
              "      <td>1.000000e+07</td>\n",
              "      <td>2.360457e+06</td>\n",
              "      <td>NaN</td>\n",
              "      <td>NaN</td>\n",
              "      <td>NaN</td>\n",
              "      <td>NaN</td>\n",
              "      <td>NaN</td>\n",
              "      <td>NaN</td>\n",
              "      <td>NaN</td>\n",
              "      <td>NaN</td>\n",
              "      <td>14.000000</td>\n",
              "    </tr>\n",
              "  </tbody>\n",
              "</table>\n",
              "</div>"
            ],
            "text/plain": [
              "        nome_completo_do_carro          ano  ...          torque     assentos\n",
              "count                     8128  8128.000000  ...            7906  7907.000000\n",
              "unique                    2058          NaN  ...             441          NaN\n",
              "top     Maruti Swift Dzire VDI          NaN  ...  190Nm@ 2000rpm          NaN\n",
              "freq                       129          NaN  ...             530          NaN\n",
              "mean                       NaN  2013.804011  ...             NaN     5.416719\n",
              "std                        NaN     4.044249  ...             NaN     0.959588\n",
              "min                        NaN  1983.000000  ...             NaN     2.000000\n",
              "25%                        NaN  2011.000000  ...             NaN     5.000000\n",
              "50%                        NaN  2015.000000  ...             NaN     5.000000\n",
              "75%                        NaN  2017.000000  ...             NaN     5.000000\n",
              "max                        NaN  2020.000000  ...             NaN    14.000000\n",
              "\n",
              "[11 rows x 13 columns]"
            ]
          },
          "metadata": {
            "tags": []
          },
          "execution_count": 385
        }
      ]
    },
    {
      "cell_type": "markdown",
      "metadata": {
        "id": "zAe9NmIj3urN"
      },
      "source": [
        "# (2) Limpeza dos dados / Pré-processamento."
      ]
    },
    {
      "cell_type": "markdown",
      "metadata": {
        "id": "iBeaXGFt00_3"
      },
      "source": [
        "#### Essa etapa de limpeza dos dados é uma das mais importantes etapas em trabalhos de Data Science."
      ]
    },
    {
      "cell_type": "markdown",
      "metadata": {
        "id": "M0pYfhs30lri"
      },
      "source": [
        "#### Isso porque é nessa etapa que:"
      ]
    },
    {
      "cell_type": "markdown",
      "metadata": {
        "id": "Js1wROeGC00H"
      },
      "source": [
        "- (1) identificamos e lidamos com a existência de possíveis valores ausentes que possam prejudicar as análises posteriores;\n",
        "\n",
        "- (2) identificamos se os dados de cada variável estão formatados corretamente. Dados devidamente formatados garantem que as análises preditivas de machine learning ajudem a responder as perguntas centrais de forma eficaz;\n",
        "\n",
        "- (3) identificamos se os dados estão normalizados ou não. A normalização é uma etapa importante, uma vez que torna valores de variáveis específicas dentro de uma mesma escala de proporções. Isso permite que modelos preditivos possam ser criados de forma eficaz;\n",
        "\n",
        "- (4) compartimentalizamos dados, ato também conhecido como \"Binning\". Binning é o ato de compartimentalizar dados de uma variável quantitativa em determinados grupos através de seus valores. Tal conversão ajuda a melhor entender a distribuição desses valores.\n",
        "\n",
        "- (5) transformamos variáveis categóricas para variáveis numéricas, criando variáveis indicadoras. É com o uso de variáveis indicadoras que conseguimos utilizar variáveis categóricas para análises de regressão."
      ]
    },
    {
      "cell_type": "markdown",
      "metadata": {
        "id": "gQfZq9Yg7rlJ"
      },
      "source": [
        "## Nesse tópico irei realizar todas essas tarefas descritas acima:"
      ]
    },
    {
      "cell_type": "markdown",
      "metadata": {
        "id": "AcT6IBkQ_-RQ"
      },
      "source": [
        "#- (1) Identificar e manejar valores ausentes"
      ]
    },
    {
      "cell_type": "markdown",
      "metadata": {
        "id": "lknjIcOH3Efw"
      },
      "source": [
        "####Há várias formas para lidar com dados ausentes. E pode ser feita, por exemplo, de 4 formas como descritas a seguir:"
      ]
    },
    {
      "cell_type": "markdown",
      "metadata": {
        "id": "BpA12lXYDoGo"
      },
      "source": [
        "- A - Rever os dados originais e checar se na hora de passar para a planilha um determinado valor não foi \"perdido\";\n",
        "\n",
        "- B - Substituir o valor ausente por outro valor;\n",
        "\n",
        "- C - Remover as linhas ou apenas as colunas que contêm esses valores ausentes.\n",
        "\n",
        "- D - Deixar da forma que está;\n",
        "\n"
      ]
    },
    {
      "cell_type": "markdown",
      "metadata": {
        "id": "3cMAC4iIbgYW"
      },
      "source": [
        "Temos de checar inicialmente se há valores ausentes nesses dados"
      ]
    },
    {
      "cell_type": "code",
      "metadata": {
        "colab": {
          "base_uri": "https://localhost:8080/",
          "height": 732
        },
        "id": "qimQY1iWE8Mh",
        "outputId": "bacb6012-0ad8-40c8-f428-8eee86de90e6"
      },
      "source": [
        "#Identificando graficamente a ausência de valores no dataset\n",
        "\n",
        "import missingno as msg\n",
        "msg.matrix(carros)"
      ],
      "execution_count": 386,
      "outputs": [
        {
          "output_type": "execute_result",
          "data": {
            "text/plain": [
              "<matplotlib.axes._subplots.AxesSubplot at 0x7f35fb828f90>"
            ]
          },
          "metadata": {
            "tags": []
          },
          "execution_count": 386
        },
        {
          "output_type": "display_data",
          "data": {
            "image/png": "[encoded data removed]",
            "text/plain": [
              "<Figure size 1800x720 with 2 Axes>"
            ]
          },
          "metadata": {
            "tags": [],
            "needs_background": "light"
          }
        }
      ]
    },
    {
      "cell_type": "code",
      "metadata": {
        "colab": {
          "base_uri": "https://localhost:8080/"
        },
        "id": "0eC_cA0OCZ8B",
        "outputId": "8c11b9e6-e01c-4a32-9763-19fcacd37d9e"
      },
      "source": [
        "# Identificando quantos valores ausentes existem para cada variável\n",
        "carros.isnull().sum()"
      ],
      "execution_count": 387,
      "outputs": [
        {
          "output_type": "execute_result",
          "data": {
            "text/plain": [
              "nome_completo_do_carro      0\n",
              "ano                         0\n",
              "preco_de_venda              0\n",
              "km_rodado                   0\n",
              "tipo_combustivel            0\n",
              "tipo_do_vendedor            0\n",
              "transmissao                 0\n",
              "dono                        0\n",
              "consumo_do_combustivel    221\n",
              "motor                     221\n",
              "potencia_do_motor         215\n",
              "torque                    222\n",
              "assentos                  221\n",
              "dtype: int64"
            ]
          },
          "metadata": {
            "tags": []
          },
          "execution_count": 387
        }
      ]
    },
    {
      "cell_type": "markdown",
      "metadata": {
        "id": "A2yvGPmMCwkw"
      },
      "source": [
        "####Através do resultado da função acima, identifiquei que o conjunto de dados têm 5 variáveis com valores nulos, que são: (1) \"consumo_do_combustivel \", (2) \"motor\", (3) \"potencia_do_motor \", (4) \"torque\" e (5) \"assentos\"."
      ]
    },
    {
      "cell_type": "markdown",
      "metadata": {
        "id": "kqIsyGEsbDxO"
      },
      "source": [
        "#### Como esses dados foram coletados por outra pessoa, eu não tenho acesso ao banco original dos dados. Assim, não tenho como checar se algum dado foi \"perdido\" no momento que foi passado para a planilha atual."
      ]
    },
    {
      "cell_type": "markdown",
      "metadata": {
        "id": "lrsG1yzmQrhN"
      },
      "source": [
        "#### Para esse projeto vou demonstrar como posso lidar usando as seguintes formas:\n",
        "\n"
      ]
    },
    {
      "cell_type": "markdown",
      "metadata": {
        "id": "gNfda_Os4sr5"
      },
      "source": [
        "- (A) - Substituir o valor ausente por outro;\n",
        "\n",
        "- (B) - Remover a linha / ou coluna\" em que está esse valor ausente."
      ]
    },
    {
      "cell_type": "markdown",
      "metadata": {
        "id": "n75IYxJgRVyI"
      },
      "source": [
        "Para exemplificar como lidamos com dados ausentes vou utilizar apenas a variável numérica \"assentos\"."
      ]
    },
    {
      "cell_type": "markdown",
      "metadata": {
        "id": "wAhhmG-y6BMK"
      },
      "source": [
        "## (A) - Substituir o valor ausente por outro"
      ]
    },
    {
      "cell_type": "markdown",
      "metadata": {
        "id": "gaJOoh1s6t2f"
      },
      "source": [
        "Para substituir um valor ausente por algum outro podemos, por exemplo, substituir pela média de todos esses valores da variável. É isso que irei fazer."
      ]
    },
    {
      "cell_type": "code",
      "metadata": {
        "colab": {
          "base_uri": "https://localhost:8080/"
        },
        "id": "-u4NxGCk6inP",
        "outputId": "60863b75-38f3-49e9-ad3b-15db76fbddd1"
      },
      "source": [
        "#Identificando a média da variável \"assentos\"\n",
        "\n",
        "mean = carros[\"assentos\"].mean()\n",
        "\n",
        "mean"
      ],
      "execution_count": 388,
      "outputs": [
        {
          "output_type": "execute_result",
          "data": {
            "text/plain": [
              "5.41671936259011"
            ]
          },
          "metadata": {
            "tags": []
          },
          "execution_count": 388
        }
      ]
    },
    {
      "cell_type": "code",
      "metadata": {
        "id": "hX9dsNB5869_"
      },
      "source": [
        "#Substituindo os valores ausentes dessa variável por sua média\n",
        "\n",
        "carros[\"assentos\"].fillna(value=mean, inplace=True)"
      ],
      "execution_count": 389,
      "outputs": []
    },
    {
      "cell_type": "code",
      "metadata": {
        "colab": {
          "base_uri": "https://localhost:8080/"
        },
        "id": "NF_DkaMD9X6Y",
        "outputId": "b0fbffce-8c4c-48c7-95f7-0a1c50ab8b31"
      },
      "source": [
        "# Identificando quantos valores ausentes existem para cada variável, incluindo a variável \"assentos\"\n",
        "carros.isnull().sum()"
      ],
      "execution_count": 390,
      "outputs": [
        {
          "output_type": "execute_result",
          "data": {
            "text/plain": [
              "nome_completo_do_carro      0\n",
              "ano                         0\n",
              "preco_de_venda              0\n",
              "km_rodado                   0\n",
              "tipo_combustivel            0\n",
              "tipo_do_vendedor            0\n",
              "transmissao                 0\n",
              "dono                        0\n",
              "consumo_do_combustivel    221\n",
              "motor                     221\n",
              "potencia_do_motor         215\n",
              "torque                    222\n",
              "assentos                    0\n",
              "dtype: int64"
            ]
          },
          "metadata": {
            "tags": []
          },
          "execution_count": 390
        }
      ]
    },
    {
      "cell_type": "markdown",
      "metadata": {
        "id": "cunlp8h09zvm"
      },
      "source": [
        "Por meio das funções acima é possível identificar que não há mais nenhum valor ausente para a variável \"assentos\"."
      ]
    },
    {
      "cell_type": "markdown",
      "metadata": {
        "id": "rUukRtwjjZZc"
      },
      "source": [
        "## (B) - Remover a linha / ou coluna\" em que está esse valor ausente\n",
        "\n"
      ]
    },
    {
      "cell_type": "markdown",
      "metadata": {
        "id": "c0tz5arq9D_g"
      },
      "source": [
        "Importando novamente os dados iniciais"
      ]
    },
    {
      "cell_type": "code",
      "metadata": {
        "colab": {
          "base_uri": "https://localhost:8080/",
          "height": 366
        },
        "id": "k5kTGwhA9O0X",
        "outputId": "955b6437-f855-46fd-bc60-eb6929d2d5b3"
      },
      "source": [
        "carros = pd.read_csv(\"Car details v3.csv\")\n",
        "\n",
        "#Vou alterar o nome das colunas para nomes em português\n",
        "\n",
        "carros.columns = \"nome_completo_do_carro\", \"ano\",\t\"preco_de_venda\" , \"km_rodado\" ,\t\"tipo_combustivel\" ,\t\"tipo_do_vendedor\"\t, \"transmissao\", \"dono\", \"consumo_do_combustivel\", \"motor\", \"potencia_do_motor\", \"torque\", \"assentos\"\n",
        "carros.head(5)"
      ],
      "execution_count": 391,
      "outputs": [
        {
          "output_type": "execute_result",
          "data": {
            "text/html": [
              "<div>\n",
              "<style scoped>\n",
              "    .dataframe tbody tr th:only-of-type {\n",
              "        vertical-align: middle;\n",
              "    }\n",
              "\n",
              "    .dataframe tbody tr th {\n",
              "        vertical-align: top;\n",
              "    }\n",
              "\n",
              "    .dataframe thead th {\n",
              "        text-align: right;\n",
              "    }\n",
              "</style>\n",
              "<table border=\"1\" class=\"dataframe\">\n",
              "  <thead>\n",
              "    <tr style=\"text-align: right;\">\n",
              "      <th></th>\n",
              "      <th>nome_completo_do_carro</th>\n",
              "      <th>ano</th>\n",
              "      <th>preco_de_venda</th>\n",
              "      <th>km_rodado</th>\n",
              "      <th>tipo_combustivel</th>\n",
              "      <th>tipo_do_vendedor</th>\n",
              "      <th>transmissao</th>\n",
              "      <th>dono</th>\n",
              "      <th>consumo_do_combustivel</th>\n",
              "      <th>motor</th>\n",
              "      <th>potencia_do_motor</th>\n",
              "      <th>torque</th>\n",
              "      <th>assentos</th>\n",
              "    </tr>\n",
              "  </thead>\n",
              "  <tbody>\n",
              "    <tr>\n",
              "      <th>0</th>\n",
              "      <td>Maruti Swift Dzire VDI</td>\n",
              "      <td>2014</td>\n",
              "      <td>450000</td>\n",
              "      <td>145500</td>\n",
              "      <td>Diesel</td>\n",
              "      <td>Individual</td>\n",
              "      <td>Manual</td>\n",
              "      <td>First Owner</td>\n",
              "      <td>23.4 kmpl</td>\n",
              "      <td>1248 CC</td>\n",
              "      <td>74 bhp</td>\n",
              "      <td>190Nm@ 2000rpm</td>\n",
              "      <td>5.0</td>\n",
              "    </tr>\n",
              "    <tr>\n",
              "      <th>1</th>\n",
              "      <td>Skoda Rapid 1.5 TDI Ambition</td>\n",
              "      <td>2014</td>\n",
              "      <td>370000</td>\n",
              "      <td>120000</td>\n",
              "      <td>Diesel</td>\n",
              "      <td>Individual</td>\n",
              "      <td>Manual</td>\n",
              "      <td>Second Owner</td>\n",
              "      <td>21.14 kmpl</td>\n",
              "      <td>1498 CC</td>\n",
              "      <td>103.52 bhp</td>\n",
              "      <td>250Nm@ 1500-2500rpm</td>\n",
              "      <td>5.0</td>\n",
              "    </tr>\n",
              "    <tr>\n",
              "      <th>2</th>\n",
              "      <td>Honda City 2017-2020 EXi</td>\n",
              "      <td>2006</td>\n",
              "      <td>158000</td>\n",
              "      <td>140000</td>\n",
              "      <td>Petrol</td>\n",
              "      <td>Individual</td>\n",
              "      <td>Manual</td>\n",
              "      <td>Third Owner</td>\n",
              "      <td>17.7 kmpl</td>\n",
              "      <td>1497 CC</td>\n",
              "      <td>78 bhp</td>\n",
              "      <td>12.7@ 2,700(kgm@ rpm)</td>\n",
              "      <td>5.0</td>\n",
              "    </tr>\n",
              "    <tr>\n",
              "      <th>3</th>\n",
              "      <td>Hyundai i20 Sportz Diesel</td>\n",
              "      <td>2010</td>\n",
              "      <td>225000</td>\n",
              "      <td>127000</td>\n",
              "      <td>Diesel</td>\n",
              "      <td>Individual</td>\n",
              "      <td>Manual</td>\n",
              "      <td>First Owner</td>\n",
              "      <td>23.0 kmpl</td>\n",
              "      <td>1396 CC</td>\n",
              "      <td>90 bhp</td>\n",
              "      <td>22.4 kgm at 1750-2750rpm</td>\n",
              "      <td>5.0</td>\n",
              "    </tr>\n",
              "    <tr>\n",
              "      <th>4</th>\n",
              "      <td>Maruti Swift VXI BSIII</td>\n",
              "      <td>2007</td>\n",
              "      <td>130000</td>\n",
              "      <td>120000</td>\n",
              "      <td>Petrol</td>\n",
              "      <td>Individual</td>\n",
              "      <td>Manual</td>\n",
              "      <td>First Owner</td>\n",
              "      <td>16.1 kmpl</td>\n",
              "      <td>1298 CC</td>\n",
              "      <td>88.2 bhp</td>\n",
              "      <td>11.5@ 4,500(kgm@ rpm)</td>\n",
              "      <td>5.0</td>\n",
              "    </tr>\n",
              "  </tbody>\n",
              "</table>\n",
              "</div>"
            ],
            "text/plain": [
              "         nome_completo_do_carro   ano  ...                    torque  assentos\n",
              "0        Maruti Swift Dzire VDI  2014  ...            190Nm@ 2000rpm       5.0\n",
              "1  Skoda Rapid 1.5 TDI Ambition  2014  ...       250Nm@ 1500-2500rpm       5.0\n",
              "2      Honda City 2017-2020 EXi  2006  ...     12.7@ 2,700(kgm@ rpm)       5.0\n",
              "3     Hyundai i20 Sportz Diesel  2010  ...  22.4 kgm at 1750-2750rpm       5.0\n",
              "4        Maruti Swift VXI BSIII  2007  ...     11.5@ 4,500(kgm@ rpm)       5.0\n",
              "\n",
              "[5 rows x 13 columns]"
            ]
          },
          "metadata": {
            "tags": []
          },
          "execution_count": 391
        }
      ]
    },
    {
      "cell_type": "code",
      "metadata": {
        "id": "LHwkisC2jipV"
      },
      "source": [
        "#Removendo apenas as linhas com valores ausentes da variável \"assentos\"\n",
        "\n",
        "carros.dropna(subset=[\"assentos\"], axis=0, inplace = True)\n",
        "\n",
        "carros = carros.dropna(subset=[\"assentos\"], axis=0,)"
      ],
      "execution_count": 392,
      "outputs": []
    },
    {
      "cell_type": "code",
      "metadata": {
        "colab": {
          "base_uri": "https://localhost:8080/"
        },
        "id": "_SVCn6sikacy",
        "outputId": "8494d1a3-c531-4c79-c276-1ffb7e1379bd"
      },
      "source": [
        "#Checando novamente para ver se há valores ausentes nessa variável:\n",
        "\n",
        "carros.isnull().sum()"
      ],
      "execution_count": 393,
      "outputs": [
        {
          "output_type": "execute_result",
          "data": {
            "text/plain": [
              "nome_completo_do_carro    0\n",
              "ano                       0\n",
              "preco_de_venda            0\n",
              "km_rodado                 0\n",
              "tipo_combustivel          0\n",
              "tipo_do_vendedor          0\n",
              "transmissao               0\n",
              "dono                      0\n",
              "consumo_do_combustivel    0\n",
              "motor                     0\n",
              "potencia_do_motor         0\n",
              "torque                    1\n",
              "assentos                  0\n",
              "dtype: int64"
            ]
          },
          "metadata": {
            "tags": []
          },
          "execution_count": 393
        }
      ]
    },
    {
      "cell_type": "markdown",
      "metadata": {
        "id": "OJXGbFjYF8P0"
      },
      "source": [
        "- Ainda há uma variável com valor ausente. Assim, irei remover também essa linha da variável \"torque\"."
      ]
    },
    {
      "cell_type": "code",
      "metadata": {
        "id": "jrsB6oESGKQb"
      },
      "source": [
        "#Removendo apenas as linhas com valores ausentes\n",
        "\n",
        "carros.dropna(subset=[\"torque\"], axis=0, inplace = True)\n",
        "\n",
        "carros = carros.dropna(subset=[\"torque\"], axis=0,)"
      ],
      "execution_count": 394,
      "outputs": []
    },
    {
      "cell_type": "code",
      "metadata": {
        "colab": {
          "base_uri": "https://localhost:8080/"
        },
        "id": "NxsOKFdEGSma",
        "outputId": "4e6abfde-b570-4c07-bcf9-379df578cf37"
      },
      "source": [
        "#Checando novamente para ver se há valores ausentes nessa variável:\n",
        "\n",
        "carros.isnull().sum()"
      ],
      "execution_count": 395,
      "outputs": [
        {
          "output_type": "execute_result",
          "data": {
            "text/plain": [
              "nome_completo_do_carro    0\n",
              "ano                       0\n",
              "preco_de_venda            0\n",
              "km_rodado                 0\n",
              "tipo_combustivel          0\n",
              "tipo_do_vendedor          0\n",
              "transmissao               0\n",
              "dono                      0\n",
              "consumo_do_combustivel    0\n",
              "motor                     0\n",
              "potencia_do_motor         0\n",
              "torque                    0\n",
              "assentos                  0\n",
              "dtype: int64"
            ]
          },
          "metadata": {
            "tags": []
          },
          "execution_count": 395
        }
      ]
    },
    {
      "cell_type": "markdown",
      "metadata": {
        "id": "TX4AKLBSGWsB"
      },
      "source": [
        "Não há mais nhuma variável com valor ausente. Assim, podemos prosseguir."
      ]
    },
    {
      "cell_type": "markdown",
      "metadata": {
        "id": "IptN9E2s9dl1"
      },
      "source": [
        "##Observação:"
      ]
    },
    {
      "cell_type": "markdown",
      "metadata": {
        "id": "t5HSrLsL_C06"
      },
      "source": [
        "####- Para as próximas etapas irei *manter essa configuração atual*, no qual as linhas com valores ausentes foram removidas."
      ]
    },
    {
      "cell_type": "markdown",
      "metadata": {
        "id": "_qzpWUKkHZ3c"
      },
      "source": [
        "# - (2) Formatação dos dados"
      ]
    },
    {
      "cell_type": "code",
      "metadata": {
        "colab": {
          "base_uri": "https://localhost:8080/",
          "height": 366
        },
        "id": "yWFr2wjqHnyR",
        "outputId": "613165c6-a0bf-414b-bc59-5f21aaab3823"
      },
      "source": [
        "#Revendo novamente os dados\n",
        "\n",
        "carros.head(5)"
      ],
      "execution_count": 396,
      "outputs": [
        {
          "output_type": "execute_result",
          "data": {
            "text/html": [
              "<div>\n",
              "<style scoped>\n",
              "    .dataframe tbody tr th:only-of-type {\n",
              "        vertical-align: middle;\n",
              "    }\n",
              "\n",
              "    .dataframe tbody tr th {\n",
              "        vertical-align: top;\n",
              "    }\n",
              "\n",
              "    .dataframe thead th {\n",
              "        text-align: right;\n",
              "    }\n",
              "</style>\n",
              "<table border=\"1\" class=\"dataframe\">\n",
              "  <thead>\n",
              "    <tr style=\"text-align: right;\">\n",
              "      <th></th>\n",
              "      <th>nome_completo_do_carro</th>\n",
              "      <th>ano</th>\n",
              "      <th>preco_de_venda</th>\n",
              "      <th>km_rodado</th>\n",
              "      <th>tipo_combustivel</th>\n",
              "      <th>tipo_do_vendedor</th>\n",
              "      <th>transmissao</th>\n",
              "      <th>dono</th>\n",
              "      <th>consumo_do_combustivel</th>\n",
              "      <th>motor</th>\n",
              "      <th>potencia_do_motor</th>\n",
              "      <th>torque</th>\n",
              "      <th>assentos</th>\n",
              "    </tr>\n",
              "  </thead>\n",
              "  <tbody>\n",
              "    <tr>\n",
              "      <th>0</th>\n",
              "      <td>Maruti Swift Dzire VDI</td>\n",
              "      <td>2014</td>\n",
              "      <td>450000</td>\n",
              "      <td>145500</td>\n",
              "      <td>Diesel</td>\n",
              "      <td>Individual</td>\n",
              "      <td>Manual</td>\n",
              "      <td>First Owner</td>\n",
              "      <td>23.4 kmpl</td>\n",
              "      <td>1248 CC</td>\n",
              "      <td>74 bhp</td>\n",
              "      <td>190Nm@ 2000rpm</td>\n",
              "      <td>5.0</td>\n",
              "    </tr>\n",
              "    <tr>\n",
              "      <th>1</th>\n",
              "      <td>Skoda Rapid 1.5 TDI Ambition</td>\n",
              "      <td>2014</td>\n",
              "      <td>370000</td>\n",
              "      <td>120000</td>\n",
              "      <td>Diesel</td>\n",
              "      <td>Individual</td>\n",
              "      <td>Manual</td>\n",
              "      <td>Second Owner</td>\n",
              "      <td>21.14 kmpl</td>\n",
              "      <td>1498 CC</td>\n",
              "      <td>103.52 bhp</td>\n",
              "      <td>250Nm@ 1500-2500rpm</td>\n",
              "      <td>5.0</td>\n",
              "    </tr>\n",
              "    <tr>\n",
              "      <th>2</th>\n",
              "      <td>Honda City 2017-2020 EXi</td>\n",
              "      <td>2006</td>\n",
              "      <td>158000</td>\n",
              "      <td>140000</td>\n",
              "      <td>Petrol</td>\n",
              "      <td>Individual</td>\n",
              "      <td>Manual</td>\n",
              "      <td>Third Owner</td>\n",
              "      <td>17.7 kmpl</td>\n",
              "      <td>1497 CC</td>\n",
              "      <td>78 bhp</td>\n",
              "      <td>12.7@ 2,700(kgm@ rpm)</td>\n",
              "      <td>5.0</td>\n",
              "    </tr>\n",
              "    <tr>\n",
              "      <th>3</th>\n",
              "      <td>Hyundai i20 Sportz Diesel</td>\n",
              "      <td>2010</td>\n",
              "      <td>225000</td>\n",
              "      <td>127000</td>\n",
              "      <td>Diesel</td>\n",
              "      <td>Individual</td>\n",
              "      <td>Manual</td>\n",
              "      <td>First Owner</td>\n",
              "      <td>23.0 kmpl</td>\n",
              "      <td>1396 CC</td>\n",
              "      <td>90 bhp</td>\n",
              "      <td>22.4 kgm at 1750-2750rpm</td>\n",
              "      <td>5.0</td>\n",
              "    </tr>\n",
              "    <tr>\n",
              "      <th>4</th>\n",
              "      <td>Maruti Swift VXI BSIII</td>\n",
              "      <td>2007</td>\n",
              "      <td>130000</td>\n",
              "      <td>120000</td>\n",
              "      <td>Petrol</td>\n",
              "      <td>Individual</td>\n",
              "      <td>Manual</td>\n",
              "      <td>First Owner</td>\n",
              "      <td>16.1 kmpl</td>\n",
              "      <td>1298 CC</td>\n",
              "      <td>88.2 bhp</td>\n",
              "      <td>11.5@ 4,500(kgm@ rpm)</td>\n",
              "      <td>5.0</td>\n",
              "    </tr>\n",
              "  </tbody>\n",
              "</table>\n",
              "</div>"
            ],
            "text/plain": [
              "         nome_completo_do_carro   ano  ...                    torque  assentos\n",
              "0        Maruti Swift Dzire VDI  2014  ...            190Nm@ 2000rpm       5.0\n",
              "1  Skoda Rapid 1.5 TDI Ambition  2014  ...       250Nm@ 1500-2500rpm       5.0\n",
              "2      Honda City 2017-2020 EXi  2006  ...     12.7@ 2,700(kgm@ rpm)       5.0\n",
              "3     Hyundai i20 Sportz Diesel  2010  ...  22.4 kgm at 1750-2750rpm       5.0\n",
              "4        Maruti Swift VXI BSIII  2007  ...     11.5@ 4,500(kgm@ rpm)       5.0\n",
              "\n",
              "[5 rows x 13 columns]"
            ]
          },
          "metadata": {
            "tags": []
          },
          "execution_count": 396
        }
      ]
    },
    {
      "cell_type": "markdown",
      "metadata": {
        "id": "ynfI_DVZCYSX"
      },
      "source": [
        "#Observação:\n",
        "\n",
        "- Irei checar todas as 13 variáveis e irei formatá-las, uma a uma caso caso eu identifique a necessidade;\n",
        "\n",
        "- Essa formatação permitirá que as perguntas centrais mencionadas no começo do projeto sejam atingidas de forma eficaz;\n",
        "\n",
        "- As perguntas centrais serão alvo de estudo dos próximos projetos, mas irão necessitar dos passos a seguir.\n",
        "\n",
        "- Após formatadas eu irei salvar um novo dataframe. Isso fará com que eu tenha acesso fácil a esse novo dataset já com as devidas formatações."
      ]
    },
    {
      "cell_type": "markdown",
      "metadata": {
        "id": "YQgeJsdMnOu0"
      },
      "source": [
        "## Variável 1- \"nome_completo_do_carro\""
      ]
    },
    {
      "cell_type": "markdown",
      "metadata": {
        "id": "Ziack4wWnavZ"
      },
      "source": [
        "Como é uma variável categórica, a melhor forma de checar se os dados estão corretamente formatados será através dos valores únicos:\n"
      ]
    },
    {
      "cell_type": "code",
      "metadata": {
        "colab": {
          "base_uri": "https://localhost:8080/"
        },
        "id": "udaQmrqboNMU",
        "outputId": "02ae69a0-a3c7-4a4c-f94c-a4147350a9b4"
      },
      "source": [
        "#Identificando os valores únicos dessa variável\n",
        "\n",
        "carros.nome_completo_do_carro.unique()\n"
      ],
      "execution_count": 397,
      "outputs": [
        {
          "output_type": "execute_result",
          "data": {
            "text/plain": [
              "array(['Maruti Swift Dzire VDI', 'Skoda Rapid 1.5 TDI Ambition',\n",
              "       'Honda City 2017-2020 EXi', ..., 'Tata Nexon 1.5 Revotorq XT',\n",
              "       'Ford Freestyle Titanium Plus Diesel BSIV',\n",
              "       'Toyota Innova 2.5 GX (Diesel) 8 Seater BS IV'], dtype=object)"
            ]
          },
          "metadata": {
            "tags": []
          },
          "execution_count": 397
        }
      ]
    },
    {
      "cell_type": "code",
      "metadata": {
        "colab": {
          "base_uri": "https://localhost:8080/"
        },
        "id": "CI1zXxjYpqXc",
        "outputId": "39e466ce-31b9-4f96-ef57-d219253c4c89"
      },
      "source": [
        "carros.nome_completo_do_carro.drop_duplicates()"
      ],
      "execution_count": 398,
      "outputs": [
        {
          "output_type": "execute_result",
          "data": {
            "text/plain": [
              "0                             Maruti Swift Dzire VDI\n",
              "1                       Skoda Rapid 1.5 TDI Ambition\n",
              "2                           Honda City 2017-2020 EXi\n",
              "3                          Hyundai i20 Sportz Diesel\n",
              "4                             Maruti Swift VXI BSIII\n",
              "                            ...                     \n",
              "8087                           Tata Bolt Revotron XM\n",
              "8094              Tata Manza Aura (ABS) Safire BS IV\n",
              "8100                      Tata Nexon 1.5 Revotorq XT\n",
              "8109        Ford Freestyle Titanium Plus Diesel BSIV\n",
              "8113    Toyota Innova 2.5 GX (Diesel) 8 Seater BS IV\n",
              "Name: nome_completo_do_carro, Length: 1982, dtype: object"
            ]
          },
          "metadata": {
            "tags": []
          },
          "execution_count": 398
        }
      ]
    },
    {
      "cell_type": "markdown",
      "metadata": {
        "id": "0yTphx5qE0vt"
      },
      "source": [
        "Essa variável \"nome_completo_do_carro\" está devidamente formatada."
      ]
    },
    {
      "cell_type": "markdown",
      "metadata": {
        "id": "m57k3AxPp_Sp"
      },
      "source": [
        "# 2 - Variável \"ano\""
      ]
    },
    {
      "cell_type": "code",
      "metadata": {
        "colab": {
          "base_uri": "https://localhost:8080/"
        },
        "id": "IUBKkknuqG5h",
        "outputId": "2ab0c6ab-176c-4ade-bd62-b666e6cde2f7"
      },
      "source": [
        "#valores únicos:\n",
        "\n",
        "carros.ano.unique()"
      ],
      "execution_count": 399,
      "outputs": [
        {
          "output_type": "execute_result",
          "data": {
            "text/plain": [
              "array([2014, 2006, 2010, 2007, 2017, 2001, 2011, 2013, 2005, 2009, 2016,\n",
              "       2012, 2002, 2015, 2018, 2019, 2008, 2020, 1999, 2000, 2003, 2004,\n",
              "       1994, 1998, 1997, 1995, 1996])"
            ]
          },
          "metadata": {
            "tags": []
          },
          "execution_count": 399
        }
      ]
    },
    {
      "cell_type": "markdown",
      "metadata": {
        "id": "zbEslW5qqOdx"
      },
      "source": [
        "Variável \"ano\" está formatada corretamente."
      ]
    },
    {
      "cell_type": "markdown",
      "metadata": {
        "id": "MlJ8rJqYqUyB"
      },
      "source": [
        "# 3- Variável \"preco_de_venda\""
      ]
    },
    {
      "cell_type": "code",
      "metadata": {
        "colab": {
          "base_uri": "https://localhost:8080/",
          "height": 366
        },
        "id": "5danyDcjiwte",
        "outputId": "1418638e-f2e5-433c-b492-c8fa2f03837a"
      },
      "source": [
        "#Revendo novamente os dados\n",
        "\n",
        "carros.head(5)"
      ],
      "execution_count": 400,
      "outputs": [
        {
          "output_type": "execute_result",
          "data": {
            "text/html": [
              "<div>\n",
              "<style scoped>\n",
              "    .dataframe tbody tr th:only-of-type {\n",
              "        vertical-align: middle;\n",
              "    }\n",
              "\n",
              "    .dataframe tbody tr th {\n",
              "        vertical-align: top;\n",
              "    }\n",
              "\n",
              "    .dataframe thead th {\n",
              "        text-align: right;\n",
              "    }\n",
              "</style>\n",
              "<table border=\"1\" class=\"dataframe\">\n",
              "  <thead>\n",
              "    <tr style=\"text-align: right;\">\n",
              "      <th></th>\n",
              "      <th>nome_completo_do_carro</th>\n",
              "      <th>ano</th>\n",
              "      <th>preco_de_venda</th>\n",
              "      <th>km_rodado</th>\n",
              "      <th>tipo_combustivel</th>\n",
              "      <th>tipo_do_vendedor</th>\n",
              "      <th>transmissao</th>\n",
              "      <th>dono</th>\n",
              "      <th>consumo_do_combustivel</th>\n",
              "      <th>motor</th>\n",
              "      <th>potencia_do_motor</th>\n",
              "      <th>torque</th>\n",
              "      <th>assentos</th>\n",
              "    </tr>\n",
              "  </thead>\n",
              "  <tbody>\n",
              "    <tr>\n",
              "      <th>0</th>\n",
              "      <td>Maruti Swift Dzire VDI</td>\n",
              "      <td>2014</td>\n",
              "      <td>450000</td>\n",
              "      <td>145500</td>\n",
              "      <td>Diesel</td>\n",
              "      <td>Individual</td>\n",
              "      <td>Manual</td>\n",
              "      <td>First Owner</td>\n",
              "      <td>23.4 kmpl</td>\n",
              "      <td>1248 CC</td>\n",
              "      <td>74 bhp</td>\n",
              "      <td>190Nm@ 2000rpm</td>\n",
              "      <td>5.0</td>\n",
              "    </tr>\n",
              "    <tr>\n",
              "      <th>1</th>\n",
              "      <td>Skoda Rapid 1.5 TDI Ambition</td>\n",
              "      <td>2014</td>\n",
              "      <td>370000</td>\n",
              "      <td>120000</td>\n",
              "      <td>Diesel</td>\n",
              "      <td>Individual</td>\n",
              "      <td>Manual</td>\n",
              "      <td>Second Owner</td>\n",
              "      <td>21.14 kmpl</td>\n",
              "      <td>1498 CC</td>\n",
              "      <td>103.52 bhp</td>\n",
              "      <td>250Nm@ 1500-2500rpm</td>\n",
              "      <td>5.0</td>\n",
              "    </tr>\n",
              "    <tr>\n",
              "      <th>2</th>\n",
              "      <td>Honda City 2017-2020 EXi</td>\n",
              "      <td>2006</td>\n",
              "      <td>158000</td>\n",
              "      <td>140000</td>\n",
              "      <td>Petrol</td>\n",
              "      <td>Individual</td>\n",
              "      <td>Manual</td>\n",
              "      <td>Third Owner</td>\n",
              "      <td>17.7 kmpl</td>\n",
              "      <td>1497 CC</td>\n",
              "      <td>78 bhp</td>\n",
              "      <td>12.7@ 2,700(kgm@ rpm)</td>\n",
              "      <td>5.0</td>\n",
              "    </tr>\n",
              "    <tr>\n",
              "      <th>3</th>\n",
              "      <td>Hyundai i20 Sportz Diesel</td>\n",
              "      <td>2010</td>\n",
              "      <td>225000</td>\n",
              "      <td>127000</td>\n",
              "      <td>Diesel</td>\n",
              "      <td>Individual</td>\n",
              "      <td>Manual</td>\n",
              "      <td>First Owner</td>\n",
              "      <td>23.0 kmpl</td>\n",
              "      <td>1396 CC</td>\n",
              "      <td>90 bhp</td>\n",
              "      <td>22.4 kgm at 1750-2750rpm</td>\n",
              "      <td>5.0</td>\n",
              "    </tr>\n",
              "    <tr>\n",
              "      <th>4</th>\n",
              "      <td>Maruti Swift VXI BSIII</td>\n",
              "      <td>2007</td>\n",
              "      <td>130000</td>\n",
              "      <td>120000</td>\n",
              "      <td>Petrol</td>\n",
              "      <td>Individual</td>\n",
              "      <td>Manual</td>\n",
              "      <td>First Owner</td>\n",
              "      <td>16.1 kmpl</td>\n",
              "      <td>1298 CC</td>\n",
              "      <td>88.2 bhp</td>\n",
              "      <td>11.5@ 4,500(kgm@ rpm)</td>\n",
              "      <td>5.0</td>\n",
              "    </tr>\n",
              "  </tbody>\n",
              "</table>\n",
              "</div>"
            ],
            "text/plain": [
              "         nome_completo_do_carro   ano  ...                    torque  assentos\n",
              "0        Maruti Swift Dzire VDI  2014  ...            190Nm@ 2000rpm       5.0\n",
              "1  Skoda Rapid 1.5 TDI Ambition  2014  ...       250Nm@ 1500-2500rpm       5.0\n",
              "2      Honda City 2017-2020 EXi  2006  ...     12.7@ 2,700(kgm@ rpm)       5.0\n",
              "3     Hyundai i20 Sportz Diesel  2010  ...  22.4 kgm at 1750-2750rpm       5.0\n",
              "4        Maruti Swift VXI BSIII  2007  ...     11.5@ 4,500(kgm@ rpm)       5.0\n",
              "\n",
              "[5 rows x 13 columns]"
            ]
          },
          "metadata": {
            "tags": []
          },
          "execution_count": 400
        }
      ]
    },
    {
      "cell_type": "markdown",
      "metadata": {
        "id": "enFzpyUb9sxG"
      },
      "source": [
        "### **Observação**:\n",
        "\n",
        "- A variável preço de venda (\"preco_de_venda\") é uma das mais importantes variáveis desse dataset. Isso porque é com ela que irei checar se essa variável é influenciada por outras caracteristicas desse dataset.\n",
        "\n",
        "- Ao buscar informações sobre esse dataset, no site de referência, observei que o criador desse dataset colocou o valor de \"preco_de_venda\" em unidades de Rupia indiana (INR), que é a moeda corrente oficial da Índia.\n",
        "\n",
        "- No entanto, pretendo analisar sob o ponto de vista da moeda \"dólar\". Assim, terei de formatar os valores para dólares.\n",
        "\n",
        "- Um dólar, cuja unidade é USD, equivale a aproximadamente 72,38 INR na data que escrevi esse projeto (28/05/2021). Aqui irei adotar que a proporção é de 73 INR para 1 USD.\n",
        "\n",
        "- Dessa forma, irei dividir todos os valores da coluna \"preco_de_venda\" por 73 conforme função abaixo:"
      ]
    },
    {
      "cell_type": "code",
      "metadata": {
        "colab": {
          "base_uri": "https://localhost:8080/",
          "height": 366
        },
        "id": "tHU_NaWLsXJu",
        "outputId": "3e206895-b8d9-4788-c00c-e1d8658545b7"
      },
      "source": [
        "#Dividindo a coluna por 73\n",
        "\n",
        "carros[\"preco_de_venda\"]= carros[\"preco_de_venda\"].div(73)\n",
        "\n",
        "#Renomeando essa coluna agora para preco_de_venda_USD\n",
        "\n",
        "carros.rename(columns={\"preco_de_venda\": \"preco_de_venda_USD\"}, inplace=True)\n",
        "\n",
        "carros.head(5)"
      ],
      "execution_count": 401,
      "outputs": [
        {
          "output_type": "execute_result",
          "data": {
            "text/html": [
              "<div>\n",
              "<style scoped>\n",
              "    .dataframe tbody tr th:only-of-type {\n",
              "        vertical-align: middle;\n",
              "    }\n",
              "\n",
              "    .dataframe tbody tr th {\n",
              "        vertical-align: top;\n",
              "    }\n",
              "\n",
              "    .dataframe thead th {\n",
              "        text-align: right;\n",
              "    }\n",
              "</style>\n",
              "<table border=\"1\" class=\"dataframe\">\n",
              "  <thead>\n",
              "    <tr style=\"text-align: right;\">\n",
              "      <th></th>\n",
              "      <th>nome_completo_do_carro</th>\n",
              "      <th>ano</th>\n",
              "      <th>preco_de_venda_USD</th>\n",
              "      <th>km_rodado</th>\n",
              "      <th>tipo_combustivel</th>\n",
              "      <th>tipo_do_vendedor</th>\n",
              "      <th>transmissao</th>\n",
              "      <th>dono</th>\n",
              "      <th>consumo_do_combustivel</th>\n",
              "      <th>motor</th>\n",
              "      <th>potencia_do_motor</th>\n",
              "      <th>torque</th>\n",
              "      <th>assentos</th>\n",
              "    </tr>\n",
              "  </thead>\n",
              "  <tbody>\n",
              "    <tr>\n",
              "      <th>0</th>\n",
              "      <td>Maruti Swift Dzire VDI</td>\n",
              "      <td>2014</td>\n",
              "      <td>6164.383562</td>\n",
              "      <td>145500</td>\n",
              "      <td>Diesel</td>\n",
              "      <td>Individual</td>\n",
              "      <td>Manual</td>\n",
              "      <td>First Owner</td>\n",
              "      <td>23.4 kmpl</td>\n",
              "      <td>1248 CC</td>\n",
              "      <td>74 bhp</td>\n",
              "      <td>190Nm@ 2000rpm</td>\n",
              "      <td>5.0</td>\n",
              "    </tr>\n",
              "    <tr>\n",
              "      <th>1</th>\n",
              "      <td>Skoda Rapid 1.5 TDI Ambition</td>\n",
              "      <td>2014</td>\n",
              "      <td>5068.493151</td>\n",
              "      <td>120000</td>\n",
              "      <td>Diesel</td>\n",
              "      <td>Individual</td>\n",
              "      <td>Manual</td>\n",
              "      <td>Second Owner</td>\n",
              "      <td>21.14 kmpl</td>\n",
              "      <td>1498 CC</td>\n",
              "      <td>103.52 bhp</td>\n",
              "      <td>250Nm@ 1500-2500rpm</td>\n",
              "      <td>5.0</td>\n",
              "    </tr>\n",
              "    <tr>\n",
              "      <th>2</th>\n",
              "      <td>Honda City 2017-2020 EXi</td>\n",
              "      <td>2006</td>\n",
              "      <td>2164.383562</td>\n",
              "      <td>140000</td>\n",
              "      <td>Petrol</td>\n",
              "      <td>Individual</td>\n",
              "      <td>Manual</td>\n",
              "      <td>Third Owner</td>\n",
              "      <td>17.7 kmpl</td>\n",
              "      <td>1497 CC</td>\n",
              "      <td>78 bhp</td>\n",
              "      <td>12.7@ 2,700(kgm@ rpm)</td>\n",
              "      <td>5.0</td>\n",
              "    </tr>\n",
              "    <tr>\n",
              "      <th>3</th>\n",
              "      <td>Hyundai i20 Sportz Diesel</td>\n",
              "      <td>2010</td>\n",
              "      <td>3082.191781</td>\n",
              "      <td>127000</td>\n",
              "      <td>Diesel</td>\n",
              "      <td>Individual</td>\n",
              "      <td>Manual</td>\n",
              "      <td>First Owner</td>\n",
              "      <td>23.0 kmpl</td>\n",
              "      <td>1396 CC</td>\n",
              "      <td>90 bhp</td>\n",
              "      <td>22.4 kgm at 1750-2750rpm</td>\n",
              "      <td>5.0</td>\n",
              "    </tr>\n",
              "    <tr>\n",
              "      <th>4</th>\n",
              "      <td>Maruti Swift VXI BSIII</td>\n",
              "      <td>2007</td>\n",
              "      <td>1780.821918</td>\n",
              "      <td>120000</td>\n",
              "      <td>Petrol</td>\n",
              "      <td>Individual</td>\n",
              "      <td>Manual</td>\n",
              "      <td>First Owner</td>\n",
              "      <td>16.1 kmpl</td>\n",
              "      <td>1298 CC</td>\n",
              "      <td>88.2 bhp</td>\n",
              "      <td>11.5@ 4,500(kgm@ rpm)</td>\n",
              "      <td>5.0</td>\n",
              "    </tr>\n",
              "  </tbody>\n",
              "</table>\n",
              "</div>"
            ],
            "text/plain": [
              "         nome_completo_do_carro   ano  ...                    torque  assentos\n",
              "0        Maruti Swift Dzire VDI  2014  ...            190Nm@ 2000rpm       5.0\n",
              "1  Skoda Rapid 1.5 TDI Ambition  2014  ...       250Nm@ 1500-2500rpm       5.0\n",
              "2      Honda City 2017-2020 EXi  2006  ...     12.7@ 2,700(kgm@ rpm)       5.0\n",
              "3     Hyundai i20 Sportz Diesel  2010  ...  22.4 kgm at 1750-2750rpm       5.0\n",
              "4        Maruti Swift VXI BSIII  2007  ...     11.5@ 4,500(kgm@ rpm)       5.0\n",
              "\n",
              "[5 rows x 13 columns]"
            ]
          },
          "metadata": {
            "tags": []
          },
          "execution_count": 401
        }
      ]
    },
    {
      "cell_type": "markdown",
      "metadata": {
        "id": "cVps22qTxGZj"
      },
      "source": [
        "- Valores totais para essa variável \"preco_venda_USD\""
      ]
    },
    {
      "cell_type": "code",
      "metadata": {
        "colab": {
          "base_uri": "https://localhost:8080/"
        },
        "id": "FeeI-wGlmHxy",
        "outputId": "f44b4e26-2821-403a-bc2d-8d2f59a2041b"
      },
      "source": [
        "carros.preco_de_venda_USD"
      ],
      "execution_count": 402,
      "outputs": [
        {
          "output_type": "execute_result",
          "data": {
            "text/plain": [
              "0       6164.383562\n",
              "1       5068.493151\n",
              "2       2164.383562\n",
              "3       3082.191781\n",
              "4       1780.821918\n",
              "           ...     \n",
              "8123    4383.561644\n",
              "8124    1849.315068\n",
              "8125    5232.876712\n",
              "8126    3972.602740\n",
              "8127    3972.602740\n",
              "Name: preco_de_venda_USD, Length: 7906, dtype: float64"
            ]
          },
          "metadata": {
            "tags": []
          },
          "execution_count": 402
        }
      ]
    },
    {
      "cell_type": "markdown",
      "metadata": {
        "id": "Y-5Hc1nnuNY_"
      },
      "source": [
        "- Por meio da função acima identifiquei que essa variável agora está formatada corretamente."
      ]
    },
    {
      "cell_type": "markdown",
      "metadata": {
        "id": "fcFZS9Abumgh"
      },
      "source": [
        "# Variável 4 - \"km_rodado\""
      ]
    },
    {
      "cell_type": "code",
      "metadata": {
        "colab": {
          "base_uri": "https://localhost:8080/"
        },
        "id": "KOb_trJGuvEY",
        "outputId": "7a6e26f6-0161-4bfa-cfb3-23bba81ddb06"
      },
      "source": [
        "#valores únicos:\n",
        "\n",
        "carros.km_rodado.unique()"
      ],
      "execution_count": 403,
      "outputs": [
        {
          "output_type": "execute_result",
          "data": {
            "text/plain": [
              "array([ 145500,  120000,  140000,  127000,   45000,  175000,    5000,\n",
              "         90000,  169000,   68000,  100000,   40000,   70000,   53000,\n",
              "         80000,   50000,   72000,   35000,   28000,   25000,    2388,\n",
              "         16200,   10000,   15000,   42000,   60000,   76000,   28900,\n",
              "         86300,   23300,   32600,   10300,   77000,   99000,   27800,\n",
              "         49800,  151000,   54700,   64000,   63000,  127700,   33900,\n",
              "         59000,  110000,  147000,   30000,  135000,    9850,   78000,\n",
              "        170000,   49000,   32000,   38000,   44000,   12000,   55500,\n",
              "         61500,  150000,   37800,  114000,   48000,   69000,   13000,\n",
              "         76139,   65000,    1303,   31800,   20000,   17000,   21000,\n",
              "         37000,   29500,    7500,   19000,   41000,   39000,   22000,\n",
              "         47000,   72200,   49900,    9000,   11000,   95000,   18000,\n",
              "         46100,   16000,    9654,   24300,   42163,    8000,   71000,\n",
              "          9500,   36600,   14000,  120600,   86000,    7800,   31377,\n",
              "         75000,   93000,  125000,   13500,  162500,   92500,  158000,\n",
              "          2000,  181000,  193000,  122358,   95200,   33033,   63063,\n",
              "        207890,    7976,   16500,   99361,   33000,   80100,  160000,\n",
              "         26000,   29000,   58000,   36000,  185000,  162000,   67000,\n",
              "         52000,   68089,   58343,   38817,   56494,   79328,    5621,\n",
              "         25538,   69779,   56290,    8500,    7032,  106000,  240000,\n",
              "        214000,    1000,  265000,  134000,    2136,  250000,  130000,\n",
              "         99500,  119000,   44665,  123000,   34000,  146000,   85000,\n",
              "        201850,   46000,  190000,   43000,   14200,   19100,   54000,\n",
              "        101500,   55735,    1500,  181491,   53319,   40906,   31711,\n",
              "         43755,   66693,   59549,   94385,   73730,  221889,  116104,\n",
              "        150546,  148120,  142000,  126000,   24000,  101000,  168000,\n",
              "        165000,   98500,   98000,   77800,   51492,  136000,   91000,\n",
              "        167000,  180000,    6000,   91500,  132478,   51000,  105000,\n",
              "        137500,   88000,  156060,  107000,   57000,  300000,  200000,\n",
              "         18945,  144000,  107825,    1620,  141000,  108000,   55000,\n",
              "         37944,   90400,   96000,  193623,   63186,  219000,   23000,\n",
              "         94000,  140500,  143000,  195000,  360003,    8079,  114368,\n",
              "         79990,   81632,  155201,  101504,   90165,   86017,   85036,\n",
              "        125531,  206000,   49700,   74000,    6550,   56000,   41779,\n",
              "         31000,   13534,    7000,   28156,   63309,  155000,   11500,\n",
              "          3000,  157000,   27000,   26300,   89100,  104000,  210000,\n",
              "        216000,   84000,  161000,   72113,  113000,   96443,   51500,\n",
              "        104500,   49102,   81000,  227000,  117000,    8576,   19723,\n",
              "         21446,   52289,   52236,   54470,   25471,   33928,   59736,\n",
              "         54290,    2118,   61379,   58544,   74381,   63982,   56429,\n",
              "         19500,   56832,   30528,   65285,   20102,   52380,   74250,\n",
              "         57247,  178000,   42323,   42462,   54723,   42545,   20375,\n",
              "         43978,   40200,   27233,   28832,  103000,  142500,  115000,\n",
              "         35500,   17500,   92000,    4500,   83000,    6750,   18500,\n",
              "         50478,    9200,    2300,    4295,    5229,    4701,    6757,\n",
              "         28182,   11533,   11688,   57728,   23712,   70670,   43381,\n",
              "         79011,   58500,   43500,   12700,   49455,   46815,  334000,\n",
              "        100875,  118000,  128000,  144030,  176000,   89000,   97000,\n",
              "         12800,   65100,   15200,   82000,  116500,  145000,   73000,\n",
              "        113226,  160500,  132000,  217000,  139000,    3500,   62000,\n",
              "       1500000,  120005,   16830,   93468,   16589,   53201,   25272,\n",
              "         53619,    6001,  202000,   71717,   84321,  177000,  205000,\n",
              "         41800,   88700,  188000,  225000,    5500,    4875,    2700,\n",
              "         58511,   26235,   26766,    1600,   24522,   13663,   58945,\n",
              "        375000,  156975,   27620,  143200,  138000,  189000,  156000,\n",
              "         10800,   67500,  255000,   71850,  112000,  159000,   76131,\n",
              "         51777,   64788,   46951,   74537,   23500,   68600,   13887,\n",
              "         66000,   24400,   27500,   67840,  380000,  112880,   61915,\n",
              "        184000,    6200,   16700,    7967,    9656,   68609,   33360,\n",
              "         14317,   87237,   62960,   26634,  163720,   67998,   20706,\n",
              "        100581,   67303,   79139,   84784,  130376,   33500,   22053,\n",
              "         78432,  270000,    7200,  117500,   78500,  115717,    4000,\n",
              "         26432,   46702,   46706,   53523,   56365,   49563,   56432,\n",
              "         52365,   53512,   46533,   58632,   65300,   39395,  230000,\n",
              "         32500,   64800,  248000,   66444,  218463,  153000,   87185,\n",
              "        137000,    3564,   48756,   80322,  173000,  148000,    6500,\n",
              "        220000,  108957,   22200,  260000,   42108,   79000,   17100,\n",
              "         43001,  100600,   92385,  116000,   72500,   82500,   50600,\n",
              "        121000,  101903,   85568,    3100,  186000,   59300,   89322,\n",
              "         48300,   23511,   22512,   62900,   52442,   34156,   34152,\n",
              "         62841,   38600,   27654,   48698,   32995,   90150,   85700,\n",
              "         25339,   41232,   68240,   92651,   88754,   23700,   69500,\n",
              "         28050,   22947,    7672,   36659,   44500,    9900,  124316,\n",
              "          6544,   49600,  198000,  103994,   35008,   31100,   42312,\n",
              "         54891,   18890,   75010,    4337,   14495,   83585,   48406,\n",
              "         56239,   33243,   15858,   87847,   87000,  112072,   52269,\n",
              "         15780, 2360457,  108800,   12500,  577414,  121941,  152186,\n",
              "         82246,   89580,    2789,   35278,    2860,   78562,   36088,\n",
              "        129000,  500000,  133000,   64500,   24500,   45500,   71500,\n",
              "         93500,   60300,   44391,   56315,   15151,  114321,   37333,\n",
              "        330000,  291000,   21500,  197000,   40300,   30030,   29029,\n",
              "         72072,   82082,   80600,   58609,   33003,  165500,    5800,\n",
              "         68700,  102996,   96500,   52412,   85472,   87452,   66530,\n",
              "         32331,  172000,   23456,  136500,  111000,   42500,   47200,\n",
              "        246000,    5200,   10500,   93331,  109000,    5400,  102000,\n",
              "         29700,    7600,   29340,   80800,   24265,   56900,   88200,\n",
              "         40800,    8588,  305000,  212000,  101200,  179150,   84487,\n",
              "        264000,   51146,  298000,  149000,  291977,   36800,   52200,\n",
              "        248200,    7720,   57882,  242000,   55380,   18816,   33019,\n",
              "         47747,   45900,   68697,  147279,   24700,   43526,   55885,\n",
              "         16034,  156040,   93415,  122000,   68519,   22966,    2350,\n",
              "         59872,   91182,   59500,   75500,  152500,   69123,   77524,\n",
              "         40523,   23600,  290000,   24177,  121779,   15381,   74800,\n",
              "        109322,  475000,   61000,   80500,   65755,    2600,   15500,\n",
              "         50700,  440000,  152000,  200400,    7300,    9750,  157138,\n",
              "        285000,  127991,   13120,   87500,   62200,   87540,  231438,\n",
              "        239451,  154000,  426000,  182000,  215000,   77300,   61260,\n",
              "         17601,    4773,   57900,    8600,   78010,   83844,   23999,\n",
              "         91400,  178500,   66953,  166000,  131000,  100750,   48676,\n",
              "         79500,  200185,   49025,   76460,   47370,   45217,  222300,\n",
              "         44600,   28080,   28800,   21900,   28100,    7673,   96272,\n",
              "         22500,    7400,  370000,  150360,   42130,  147500,   56194,\n",
              "         54188,   54043,   66657,   35582,   54327,    7949,   59734,\n",
              "         49185,   56389,   58245,   36422,   42535,   40736,   56246,\n",
              "         55403,  105358,   49200,   81500,    3177,   39414,   30078,\n",
              "         44588,   49907,   67082,  112879,   10200,    1300,  175802,\n",
              "        192000,   73840,  320000,   24857,   26442,   50800,   40142,\n",
              "          9400,   12584,    4300,   14548,   44772,   48500,   28782,\n",
              "         28451,   36500,   44885,  131111,   58400,   23400,    3010,\n",
              "        163000,   77088,  136511,   36710,   28180,   44077,   55768,\n",
              "        123278,   26500,   18484,    2560,  103655,   56975,  187000,\n",
              "        218000,   73257,   26320,   38426,  116700,  176062,   77500,\n",
              "         39500,   55896,   30400,  164000,  271000,   75262,   91863,\n",
              "         47552,   14700,   19700,  145241,   95500,   53473,   75958,\n",
              "         31596,   85710,  129627,   55130,   22522,   51856,   29434,\n",
              "         34500,    6825,  112011,   53534,  248119,   24019,   19600,\n",
              "        376412,  183000,  108916,   59865,   68140,   53190,   70100,\n",
              "         47725,   70195,   77395,   74321,   80235,   77150,   61100,\n",
              "         82300,   82050,   29899,   59235,  201000,   77215,   48228,\n",
              "         58559,   50856,   18300,   59292,   21147,   61173,   91567,\n",
              "         33400,   92686,   67600,   49500,  112048,   30646,   43011,\n",
              "        104300,   73500,  280000,   35700,   22700,   21871,   55425,\n",
              "         37659,   37500,   19800,   45629,   68850,   45775,   68203,\n",
              "         97343,   82507,   59400,  125876,   56800,   65204,    2286,\n",
              "         15732,   49523,   36521,   64481,   49060,   37161,   60175,\n",
              "         49957,   43235,   50699,       1,   50074,   30154,   26263,\n",
              "         84925,   46357,   46737,  110048,  186388,   20171,   37151,\n",
              "         58161,   50171,   55161,    9599,   16151,   28161,   80868,\n",
              "        194000,  191000])"
            ]
          },
          "metadata": {
            "tags": []
          },
          "execution_count": 403
        }
      ]
    },
    {
      "cell_type": "markdown",
      "metadata": {
        "id": "ZfROtDH0u5RN"
      },
      "source": [
        "- Essa variável \"km_rodado\" está formatado corretamente."
      ]
    },
    {
      "cell_type": "markdown",
      "metadata": {
        "id": "kDrIllFKvC47"
      },
      "source": [
        "# Variável 5 -  \"tipo_combustivel\""
      ]
    },
    {
      "cell_type": "code",
      "metadata": {
        "colab": {
          "base_uri": "https://localhost:8080/"
        },
        "id": "6n9Dxt5nvLDW",
        "outputId": "f8a8330a-ee2f-4f47-fdef-b83cb80707fb"
      },
      "source": [
        "#valores únicos:\n",
        "\n",
        "carros.tipo_combustivel.unique()"
      ],
      "execution_count": 404,
      "outputs": [
        {
          "output_type": "execute_result",
          "data": {
            "text/plain": [
              "array(['Diesel', 'Petrol', 'LPG', 'CNG'], dtype=object)"
            ]
          },
          "metadata": {
            "tags": []
          },
          "execution_count": 404
        }
      ]
    },
    {
      "cell_type": "markdown",
      "metadata": {
        "id": "FDPN38jtvRMa"
      },
      "source": [
        "- Essa variável \"tipo_combustivel\" está formatado corretamente."
      ]
    },
    {
      "cell_type": "markdown",
      "metadata": {
        "id": "Fvr1VcVZvnHz"
      },
      "source": [
        "# Variável 6 - \"tipo_do_vendedor\""
      ]
    },
    {
      "cell_type": "code",
      "metadata": {
        "colab": {
          "base_uri": "https://localhost:8080/"
        },
        "id": "gdQm9DRuvqQ1",
        "outputId": "a9a7c8ea-6313-40ae-a76a-976174057d89"
      },
      "source": [
        "#valores únicos:\n",
        "\n",
        "carros.tipo_do_vendedor.unique()"
      ],
      "execution_count": 405,
      "outputs": [
        {
          "output_type": "execute_result",
          "data": {
            "text/plain": [
              "array(['Individual', 'Dealer', 'Trustmark Dealer'], dtype=object)"
            ]
          },
          "metadata": {
            "tags": []
          },
          "execution_count": 405
        }
      ]
    },
    {
      "cell_type": "markdown",
      "metadata": {
        "id": "MEi5J8QKJUqT"
      },
      "source": [
        "- Essa variável \"tipo_do_vendedor\" está formatado corretamente."
      ]
    },
    {
      "cell_type": "markdown",
      "metadata": {
        "id": "5ud-0aTnv7uY"
      },
      "source": [
        "# Variável 7 - \"transmissao\""
      ]
    },
    {
      "cell_type": "code",
      "metadata": {
        "colab": {
          "base_uri": "https://localhost:8080/"
        },
        "id": "Fscbt_TWvrmu",
        "outputId": "3fecd79c-db89-4b8a-99d8-f2977a58a209"
      },
      "source": [
        "#valores únicos:\n",
        "\n",
        "carros.transmissao.unique()"
      ],
      "execution_count": 406,
      "outputs": [
        {
          "output_type": "execute_result",
          "data": {
            "text/plain": [
              "array(['Manual', 'Automatic'], dtype=object)"
            ]
          },
          "metadata": {
            "tags": []
          },
          "execution_count": 406
        }
      ]
    },
    {
      "cell_type": "markdown",
      "metadata": {
        "id": "lZCM9YNSJb46"
      },
      "source": [
        "Essa variável \"transmissao\" está formatado corretamente."
      ]
    },
    {
      "cell_type": "markdown",
      "metadata": {
        "id": "IS6V7QezwGIg"
      },
      "source": [
        "# Variável 8 - \"dono\""
      ]
    },
    {
      "cell_type": "code",
      "metadata": {
        "colab": {
          "base_uri": "https://localhost:8080/"
        },
        "id": "7MriiCh5wTNI",
        "outputId": "2399e8e7-80b8-45c0-bc47-a65fa709718d"
      },
      "source": [
        "#valores únicos:\n",
        "\n",
        "carros.dono.unique()"
      ],
      "execution_count": 407,
      "outputs": [
        {
          "output_type": "execute_result",
          "data": {
            "text/plain": [
              "array(['First Owner', 'Second Owner', 'Third Owner',\n",
              "       'Fourth & Above Owner', 'Test Drive Car'], dtype=object)"
            ]
          },
          "metadata": {
            "tags": []
          },
          "execution_count": 407
        }
      ]
    },
    {
      "cell_type": "markdown",
      "metadata": {
        "id": "VGzh_jrCJmMO"
      },
      "source": [
        "Essa variável \"dono\" está formatado corretamente."
      ]
    },
    {
      "cell_type": "markdown",
      "metadata": {
        "id": "aIK42N6ywR6P"
      },
      "source": [
        "# Variável 9 - \"consumo_do_combustivel\""
      ]
    },
    {
      "cell_type": "code",
      "metadata": {
        "colab": {
          "base_uri": "https://localhost:8080/"
        },
        "id": "plx34w0YwC35",
        "outputId": "49eb2c7f-7b24-4adb-d7d9-eba4241fe666"
      },
      "source": [
        "#valores únicos:\n",
        "\n",
        "carros.consumo_do_combustivel.unique()"
      ],
      "execution_count": 408,
      "outputs": [
        {
          "output_type": "execute_result",
          "data": {
            "text/plain": [
              "array(['23.4 kmpl', '21.14 kmpl', '17.7 kmpl', '23.0 kmpl', '16.1 kmpl',\n",
              "       '20.14 kmpl', '17.3 km/kg', '23.59 kmpl', '20.0 kmpl',\n",
              "       '19.01 kmpl', '17.3 kmpl', '19.3 kmpl', '18.9 kmpl', '18.15 kmpl',\n",
              "       '24.52 kmpl', '19.7 kmpl', '22.54 kmpl', '21.0 kmpl', '25.5 kmpl',\n",
              "       '26.59 kmpl', '21.5 kmpl', '20.3 kmpl', '21.4 kmpl', '24.7 kmpl',\n",
              "       '18.2 kmpl', '16.8 kmpl', '24.3 kmpl', '14.0 kmpl', '18.6 kmpl',\n",
              "       '33.44 km/kg', '23.95 kmpl', '17.0 kmpl', '20.63 kmpl',\n",
              "       '13.93 kmpl', '16.0 kmpl', '17.8 kmpl', '18.5 kmpl', '12.55 kmpl',\n",
              "       '12.99 kmpl', '14.8 kmpl', '13.5 kmpl', '26.0 kmpl', '20.65 kmpl',\n",
              "       '27.3 kmpl', '11.36 kmpl', '17.68 kmpl', '14.28 kmpl',\n",
              "       '18.53 kmpl', '14.84 kmpl', '21.12 kmpl', '20.36 kmpl',\n",
              "       '21.27 kmpl', '18.16 kmpl', '22.0 kmpl', '25.1 kmpl', '20.51 kmpl',\n",
              "       '21.66 kmpl', '25.2 kmpl', '22.9 kmpl', '16.02 kmpl', '20.54 kmpl',\n",
              "       '22.77 kmpl', '15.71 kmpl', '23.1 kmpl', '19.02 kmpl',\n",
              "       '19.81 kmpl', '26.2 km/kg', '16.47 kmpl', '15.04 kmpl',\n",
              "       '19.1 kmpl', '21.79 kmpl', '18.8 kmpl', '21.21 kmpl', '15.37 kmpl',\n",
              "       '11.79 kmpl', '19.0 kmpl', '14.3 kmpl', '15.8 kmpl', '15.1 kmpl',\n",
              "       '19.09 kmpl', '22.32 kmpl', '21.9 kmpl', '14.53 kmpl',\n",
              "       '21.63 kmpl', '20.85 kmpl', '20.45 kmpl', '19.67 kmpl',\n",
              "       '23.01 kmpl', '20.77 kmpl', '17.92 kmpl', '17.01 kmpl',\n",
              "       '22.37 kmpl', '19.33 kmpl', '9.5 kmpl', '12.83 kmpl', '22.48 kmpl',\n",
              "       '16.78 kmpl', '14.67 kmpl', '15.0 kmpl', '13.96 kmpl', '18.0 kmpl',\n",
              "       '12.07 kmpl', '26.21 kmpl', '10.8 kmpl', '16.3 kmpl', '13.6 kmpl',\n",
              "       '14.74 kmpl', '15.6 kmpl', '19.56 kmpl', '22.69 kmpl',\n",
              "       '19.16 kmpl', '18.12 kmpl', '12.1 kmpl', '17.5 kmpl', '42.0 kmpl',\n",
              "       '20.4 kmpl', '21.1 kmpl', '19.44 kmpl', '13.0 kmpl', '21.43 kmpl',\n",
              "       '22.95 kmpl', '16.2 kmpl', '15.3 kmpl', '28.09 kmpl', '17.4 kmpl',\n",
              "       '19.4 kmpl', '26.6 km/kg', '17.6 kmpl', '28.4 kmpl', '14.1 kmpl',\n",
              "       '25.17 kmpl', '22.74 kmpl', '17.57 kmpl', '16.95 kmpl',\n",
              "       '19.49 kmpl', '17.21 kmpl', '13.2 kmpl', '14.2 kmpl', '26.8 kmpl',\n",
              "       '25.4 kmpl', '11.5 kmpl', '27.28 kmpl', '17.97 kmpl', '12.8 kmpl',\n",
              "       '16.55 kmpl', '12.05 kmpl', '14.07 kmpl', '21.02 kmpl',\n",
              "       '11.57 kmpl', '17.9 kmpl', '15.96 kmpl', '17.1 kmpl', '17.19 kmpl',\n",
              "       '21.01 kmpl', '24.0 kmpl', '25.6 kmpl', '21.38 kmpl', '23.84 kmpl',\n",
              "       '23.08 kmpl', '14.24 kmpl', '20.71 kmpl', '15.64 kmpl',\n",
              "       '14.5 kmpl', '16.34 kmpl', '27.39 kmpl', '11.1 kmpl', '13.9 kmpl',\n",
              "       '20.88 km/kg', '20.92 kmpl', '23.8 kmpl', '24.4 kmpl',\n",
              "       '15.29 kmpl', '21.19 kmpl', '22.5 kmpl', '19.6 kmpl', '23.65 kmpl',\n",
              "       '25.32 kmpl', '23.5 kmpl', '16.6 kmpl', '23.9 kmpl', '20.8 kmpl',\n",
              "       '27.62 kmpl', '12.9 kmpl', '25.44 kmpl', '17.88 kmpl', '22.7 kmpl',\n",
              "       '17.2 kmpl', '15.42 kmpl', '19.68 kmpl', '18.7 kmpl', '15.4 kmpl',\n",
              "       '19.34 kmpl', '22.71 kmpl', '25.8 kmpl', '13.7 kmpl', '12.2 kmpl',\n",
              "       '18.49 kmpl', '9.0 kmpl', '0.0 kmpl', '13.58 kmpl', '10.1 kmpl',\n",
              "       '20.5 kmpl', '25.0 kmpl', '10.5 kmpl', '22.07 kmpl', '22.3 kmpl',\n",
              "       '15.26 kmpl', '20.62 kmpl', '27.4 kmpl', '23.2 kmpl', '14.4 kmpl',\n",
              "       '18.4 kmpl', '30.46 km/kg', '14.02 kmpl', '11.0 kmpl', '20.6 kmpl',\n",
              "       '22.05 kmpl', '20.2 kmpl', '18.1 kmpl', '22.1 kmpl', '19.87 kmpl',\n",
              "       '13.01 kmpl', '18.06 kmpl', '26.1 kmpl', '16.52 kmpl',\n",
              "       '13.55 kmpl', '24.2 kmpl', '25.83 kmpl', '11.2 kmpl', '17.09 kmpl',\n",
              "       '21.03 kmpl', '17.45 kmpl', '21.64 kmpl', '21.94 km/kg',\n",
              "       '13.87 kmpl', '19.98 kmpl', '20.52 kmpl', '23.57 kmpl',\n",
              "       '11.7 kmpl', '17.43 kmpl', '18.88 kmpl', '13.68 kmpl',\n",
              "       '11.18 kmpl', '20.89 kmpl', '11.8 kmpl', '19.62 kmpl', '21.7 kmpl',\n",
              "       '14.9 kmpl', '19.5 kmpl', '10.91 kmpl', '15.7 kmpl', '20.73 kmpl',\n",
              "       '15.85 kmpl', '20.7 kmpl', '14.23 kmpl', '16.5 kmpl', '17.36 kmpl',\n",
              "       '12.6 kmpl', '16.36 kmpl', '14.95 kmpl', '16.9 kmpl', '19.2 kmpl',\n",
              "       '16.96 kmpl', '22.15 kmpl', '18.78 kmpl', '19.61 kmpl',\n",
              "       '17.71 kmpl', '18.3 kmpl', '19.12 kmpl', '19.72 kmpl', '12.0 kmpl',\n",
              "       '11.4 kmpl', '23.03 kmpl', '11.07 kmpl', '15.9 kmpl', '17.67 kmpl',\n",
              "       '20.46 kmpl', '13.1 kmpl', '13.45 km/kg', '24.8 kmpl',\n",
              "       '15.73 kmpl', '15.11 kmpl', '12.7 kmpl', '21.2 kmpl', '20.38 kmpl',\n",
              "       '21.56 kmpl', '13.22 kmpl', '14.49 kmpl', '15.05 kmpl',\n",
              "       '23.26 kmpl', '15.41 kmpl', '13.8 kmpl', '22.27 kmpl',\n",
              "       '32.52 km/kg', '14.66 kmpl', '12.12 kmpl', '16.84 kmpl',\n",
              "       '14.09 kmpl', '14.7 kmpl', '13.4 kmpl', '15.5 kmpl', '13.49 kmpl',\n",
              "       '11.88 km/kg', '14.6 kmpl', '10.75 kmpl', '24.5 kmpl',\n",
              "       '11.74 kmpl', '16.07 kmpl', '15.63 kmpl', '26.3 km/kg',\n",
              "       '23.7 km/kg', '25.47 kmpl', '17.05 kmpl', '23.3 kmpl', '11.9 kmpl',\n",
              "       '13.38 kmpl', '20.86 kmpl', '19.2 km/kg', '10.9 kmpl',\n",
              "       '18.25 kmpl', '15.2 kmpl', '20.37 kmpl', '17.8 km/kg', '21.8 kmpl',\n",
              "       '11.96 kmpl', '24.04 kmpl', '19.69 kmpl', '13.73 kmpl',\n",
              "       '21.04 kmpl', '25.01 kmpl', '10.93 kmpl', '10.9 km/kg',\n",
              "       '24.29 kmpl', '13.44 kmpl', '20.07 kmpl', '21.1 km/kg',\n",
              "       '19.08 kmpl', '20.34 kmpl', '11.68 kmpl', '12.5 kmpl', '12.3 kmpl',\n",
              "       '23.87 kmpl', '16.38 kmpl', '17.42 kmpl', '10.0 kmpl',\n",
              "       '18.24 kmpl', '10.71 kmpl', '19.59 kmpl', '16.7 kmpl',\n",
              "       '19.83 kmpl', '21.76 kmpl', '16.05 kmpl', '20.28 kmpl',\n",
              "       '16.25 kmpl', '16.73 kmpl', '18.48 kmpl', '13.2 km/kg',\n",
              "       '21.4 km/kg', '14.99 kmpl', '18.76 kmpl', '16.4 kmpl',\n",
              "       '19.64 kmpl', '14.94 kmpl', '16.6 km/kg', '16.0 km/kg',\n",
              "       '17.11 kmpl', '22.8 km/kg', '32.26 km/kg', '33.0 km/kg',\n",
              "       '12.4 kmpl', '18.44 kmpl', '16.09 kmpl', '19.0 km/kg',\n",
              "       '12.62 kmpl', '21.13 kmpl', '15.17 kmpl', '21.73 kmpl',\n",
              "       '21.72 kmpl', '12.85 kmpl', '14.81 kmpl', '13.24 kmpl',\n",
              "       '14.4 km/kg', '21.49 kmpl', '14.62 kmpl', '26.83 km/kg',\n",
              "       '11.45 kmpl', '12.08 kmpl', '15.74 kmpl', '11.3 kmpl',\n",
              "       '15.1 km/kg', '14.21 kmpl', '11.72 kmpl', '16.51 kmpl'],\n",
              "      dtype=object)"
            ]
          },
          "metadata": {
            "tags": []
          },
          "execution_count": 408
        }
      ]
    },
    {
      "cell_type": "markdown",
      "metadata": {
        "id": "ALgnbPkEKNFT"
      },
      "source": [
        "#Observação:"
      ]
    },
    {
      "cell_type": "markdown",
      "metadata": {
        "id": "pYcFag5gKlzr"
      },
      "source": [
        "####Essa variável tem um grande problema a ser resolvido. Isso porque as unidades de alguns valores numéricos variam. Ao notar o resultado da função acima identifiquei que existem as seguintes unidades para \"consumo_do_combustivel\":\n",
        "\n",
        "-      1 - kmpl\n",
        "\n",
        "-      2 - km/kg"
      ]
    },
    {
      "cell_type": "markdown",
      "metadata": {
        "id": "jjPJiLg4yCz2"
      },
      "source": [
        "####Pela literatura* notei que não há como apenas converter uma variável pela outra, já que é necessária saber a pressão exata em que o gás é pressurizado no veículo, para assim, poder realizar a conversão.\n",
        "\n"
      ]
    },
    {
      "cell_type": "markdown",
      "metadata": {
        "id": "eOKflZqQK5P_"
      },
      "source": [
        "#####*Fonte da referencia: \n",
        "\n",
        "https://datascience.stackexchange.com/questions/55663/one-feature-several-units\n",
        "\n",
        "https://math.stackexchange.com/questions/1141752/how-to-convert-kilometers-kilogram-km-kg-to-miles-gallon-mpg"
      ]
    },
    {
      "cell_type": "markdown",
      "metadata": {
        "id": "UXLCBLKTKyCy"
      },
      "source": [
        "####Como não disponho dessas informações, para esse projeto em particular irei apenas **trabalhar com os valores que estão em \"kmpl\"**, ou seja, kilometros rodados por litro."
      ]
    },
    {
      "cell_type": "code",
      "metadata": {
        "id": "4dKJnUMl_mi-"
      },
      "source": [
        "# Vou remover as unidades de uma lista de valores\n",
        "\n",
        "# Usando replace() + strip() + list comprehension\n",
        "\n",
        "import re"
      ],
      "execution_count": 409,
      "outputs": []
    },
    {
      "cell_type": "code",
      "metadata": {
        "id": "3TX_TPhX_pqn"
      },
      "source": [
        "# criando uma nova lista\n",
        "\n",
        "test_list = carros.consumo_do_combustivel"
      ],
      "execution_count": 410,
      "outputs": []
    },
    {
      "cell_type": "code",
      "metadata": {
        "colab": {
          "base_uri": "https://localhost:8080/"
        },
        "id": "W0y0Rrgo_vx8",
        "outputId": "2f579372-dc4e-4924-c77f-8823134caa17"
      },
      "source": [
        "# Imprimindo a lista original\n",
        "print(\"A lista original é : \" + str(test_list))"
      ],
      "execution_count": 411,
      "outputs": [
        {
          "output_type": "stream",
          "text": [
            "A lista original é : 0        23.4 kmpl\n",
            "1       21.14 kmpl\n",
            "2        17.7 kmpl\n",
            "3        23.0 kmpl\n",
            "4        16.1 kmpl\n",
            "           ...    \n",
            "8123     18.5 kmpl\n",
            "8124     16.8 kmpl\n",
            "8125     19.3 kmpl\n",
            "8126    23.57 kmpl\n",
            "8127    23.57 kmpl\n",
            "Name: consumo_do_combustivel, Length: 7906, dtype: object\n"
          ],
          "name": "stdout"
        }
      ]
    },
    {
      "cell_type": "code",
      "metadata": {
        "id": "Iup2KbN2_5Lu"
      },
      "source": [
        "# Inicializando a unidade\n",
        "unit = \"kmpl\""
      ],
      "execution_count": 412,
      "outputs": []
    },
    {
      "cell_type": "code",
      "metadata": {
        "id": "q9PPmwsd_-Q8"
      },
      "source": [
        "# Removendo unidades de uma lista de valores\n",
        "# Usando replace() + strip() + list comprehension\n",
        "carros.consumo_do_combustivel = [sub.replace(unit, \"\").strip() for sub in test_list]"
      ],
      "execution_count": 413,
      "outputs": []
    },
    {
      "cell_type": "code",
      "metadata": {
        "colab": {
          "base_uri": "https://localhost:8080/"
        },
        "id": "e5mUDH_Wwhwb",
        "outputId": "6a30c542-144f-4a6f-c52d-3ba70d94dc0c"
      },
      "source": [
        "# Imprimindo o resultado \n",
        "print(\"Lista após a remoção das unidades : \" + str(carros.consumo_do_combustivel))"
      ],
      "execution_count": 414,
      "outputs": [
        {
          "output_type": "stream",
          "text": [
            "Lista após a remoção das unidades : 0        23.4\n",
            "1       21.14\n",
            "2        17.7\n",
            "3        23.0\n",
            "4        16.1\n",
            "        ...  \n",
            "8123     18.5\n",
            "8124     16.8\n",
            "8125     19.3\n",
            "8126    23.57\n",
            "8127    23.57\n",
            "Name: consumo_do_combustivel, Length: 7906, dtype: object\n"
          ],
          "name": "stdout"
        }
      ]
    },
    {
      "cell_type": "code",
      "metadata": {
        "colab": {
          "base_uri": "https://localhost:8080/",
          "height": 366
        },
        "id": "xfPSrWKOCe6b",
        "outputId": "b3158ed3-857f-40a3-9e57-f9e2e278b306"
      },
      "source": [
        "#Checando no dataset a variável \"consumo_do_combustivel\"\n",
        "\n",
        "carros.head(5)"
      ],
      "execution_count": 415,
      "outputs": [
        {
          "output_type": "execute_result",
          "data": {
            "text/html": [
              "<div>\n",
              "<style scoped>\n",
              "    .dataframe tbody tr th:only-of-type {\n",
              "        vertical-align: middle;\n",
              "    }\n",
              "\n",
              "    .dataframe tbody tr th {\n",
              "        vertical-align: top;\n",
              "    }\n",
              "\n",
              "    .dataframe thead th {\n",
              "        text-align: right;\n",
              "    }\n",
              "</style>\n",
              "<table border=\"1\" class=\"dataframe\">\n",
              "  <thead>\n",
              "    <tr style=\"text-align: right;\">\n",
              "      <th></th>\n",
              "      <th>nome_completo_do_carro</th>\n",
              "      <th>ano</th>\n",
              "      <th>preco_de_venda_USD</th>\n",
              "      <th>km_rodado</th>\n",
              "      <th>tipo_combustivel</th>\n",
              "      <th>tipo_do_vendedor</th>\n",
              "      <th>transmissao</th>\n",
              "      <th>dono</th>\n",
              "      <th>consumo_do_combustivel</th>\n",
              "      <th>motor</th>\n",
              "      <th>potencia_do_motor</th>\n",
              "      <th>torque</th>\n",
              "      <th>assentos</th>\n",
              "    </tr>\n",
              "  </thead>\n",
              "  <tbody>\n",
              "    <tr>\n",
              "      <th>0</th>\n",
              "      <td>Maruti Swift Dzire VDI</td>\n",
              "      <td>2014</td>\n",
              "      <td>6164.383562</td>\n",
              "      <td>145500</td>\n",
              "      <td>Diesel</td>\n",
              "      <td>Individual</td>\n",
              "      <td>Manual</td>\n",
              "      <td>First Owner</td>\n",
              "      <td>23.4</td>\n",
              "      <td>1248 CC</td>\n",
              "      <td>74 bhp</td>\n",
              "      <td>190Nm@ 2000rpm</td>\n",
              "      <td>5.0</td>\n",
              "    </tr>\n",
              "    <tr>\n",
              "      <th>1</th>\n",
              "      <td>Skoda Rapid 1.5 TDI Ambition</td>\n",
              "      <td>2014</td>\n",
              "      <td>5068.493151</td>\n",
              "      <td>120000</td>\n",
              "      <td>Diesel</td>\n",
              "      <td>Individual</td>\n",
              "      <td>Manual</td>\n",
              "      <td>Second Owner</td>\n",
              "      <td>21.14</td>\n",
              "      <td>1498 CC</td>\n",
              "      <td>103.52 bhp</td>\n",
              "      <td>250Nm@ 1500-2500rpm</td>\n",
              "      <td>5.0</td>\n",
              "    </tr>\n",
              "    <tr>\n",
              "      <th>2</th>\n",
              "      <td>Honda City 2017-2020 EXi</td>\n",
              "      <td>2006</td>\n",
              "      <td>2164.383562</td>\n",
              "      <td>140000</td>\n",
              "      <td>Petrol</td>\n",
              "      <td>Individual</td>\n",
              "      <td>Manual</td>\n",
              "      <td>Third Owner</td>\n",
              "      <td>17.7</td>\n",
              "      <td>1497 CC</td>\n",
              "      <td>78 bhp</td>\n",
              "      <td>12.7@ 2,700(kgm@ rpm)</td>\n",
              "      <td>5.0</td>\n",
              "    </tr>\n",
              "    <tr>\n",
              "      <th>3</th>\n",
              "      <td>Hyundai i20 Sportz Diesel</td>\n",
              "      <td>2010</td>\n",
              "      <td>3082.191781</td>\n",
              "      <td>127000</td>\n",
              "      <td>Diesel</td>\n",
              "      <td>Individual</td>\n",
              "      <td>Manual</td>\n",
              "      <td>First Owner</td>\n",
              "      <td>23.0</td>\n",
              "      <td>1396 CC</td>\n",
              "      <td>90 bhp</td>\n",
              "      <td>22.4 kgm at 1750-2750rpm</td>\n",
              "      <td>5.0</td>\n",
              "    </tr>\n",
              "    <tr>\n",
              "      <th>4</th>\n",
              "      <td>Maruti Swift VXI BSIII</td>\n",
              "      <td>2007</td>\n",
              "      <td>1780.821918</td>\n",
              "      <td>120000</td>\n",
              "      <td>Petrol</td>\n",
              "      <td>Individual</td>\n",
              "      <td>Manual</td>\n",
              "      <td>First Owner</td>\n",
              "      <td>16.1</td>\n",
              "      <td>1298 CC</td>\n",
              "      <td>88.2 bhp</td>\n",
              "      <td>11.5@ 4,500(kgm@ rpm)</td>\n",
              "      <td>5.0</td>\n",
              "    </tr>\n",
              "  </tbody>\n",
              "</table>\n",
              "</div>"
            ],
            "text/plain": [
              "         nome_completo_do_carro   ano  ...                    torque  assentos\n",
              "0        Maruti Swift Dzire VDI  2014  ...            190Nm@ 2000rpm       5.0\n",
              "1  Skoda Rapid 1.5 TDI Ambition  2014  ...       250Nm@ 1500-2500rpm       5.0\n",
              "2      Honda City 2017-2020 EXi  2006  ...     12.7@ 2,700(kgm@ rpm)       5.0\n",
              "3     Hyundai i20 Sportz Diesel  2010  ...  22.4 kgm at 1750-2750rpm       5.0\n",
              "4        Maruti Swift VXI BSIII  2007  ...     11.5@ 4,500(kgm@ rpm)       5.0\n",
              "\n",
              "[5 rows x 13 columns]"
            ]
          },
          "metadata": {
            "tags": []
          },
          "execution_count": 415
        }
      ]
    },
    {
      "cell_type": "markdown",
      "metadata": {
        "id": "IZai-myeDsck"
      },
      "source": [
        "Vou ficar apenas com os valores em \"kmpl\""
      ]
    },
    {
      "cell_type": "code",
      "metadata": {
        "colab": {
          "base_uri": "https://localhost:8080/",
          "height": 366
        },
        "id": "NmmyBJP9Dfkd",
        "outputId": "79442ba5-f6cc-4fb7-af83-69fb6f1e6e2d"
      },
      "source": [
        "#Removendo os valores que não são numéricos da variável \"consumo_do_combustivel\"\n",
        "\n",
        "carros = carros[pd.to_numeric(carros['consumo_do_combustivel'], errors='coerce').notnull()]\n",
        "\n",
        "carros.head()"
      ],
      "execution_count": 416,
      "outputs": [
        {
          "output_type": "execute_result",
          "data": {
            "text/html": [
              "<div>\n",
              "<style scoped>\n",
              "    .dataframe tbody tr th:only-of-type {\n",
              "        vertical-align: middle;\n",
              "    }\n",
              "\n",
              "    .dataframe tbody tr th {\n",
              "        vertical-align: top;\n",
              "    }\n",
              "\n",
              "    .dataframe thead th {\n",
              "        text-align: right;\n",
              "    }\n",
              "</style>\n",
              "<table border=\"1\" class=\"dataframe\">\n",
              "  <thead>\n",
              "    <tr style=\"text-align: right;\">\n",
              "      <th></th>\n",
              "      <th>nome_completo_do_carro</th>\n",
              "      <th>ano</th>\n",
              "      <th>preco_de_venda_USD</th>\n",
              "      <th>km_rodado</th>\n",
              "      <th>tipo_combustivel</th>\n",
              "      <th>tipo_do_vendedor</th>\n",
              "      <th>transmissao</th>\n",
              "      <th>dono</th>\n",
              "      <th>consumo_do_combustivel</th>\n",
              "      <th>motor</th>\n",
              "      <th>potencia_do_motor</th>\n",
              "      <th>torque</th>\n",
              "      <th>assentos</th>\n",
              "    </tr>\n",
              "  </thead>\n",
              "  <tbody>\n",
              "    <tr>\n",
              "      <th>0</th>\n",
              "      <td>Maruti Swift Dzire VDI</td>\n",
              "      <td>2014</td>\n",
              "      <td>6164.383562</td>\n",
              "      <td>145500</td>\n",
              "      <td>Diesel</td>\n",
              "      <td>Individual</td>\n",
              "      <td>Manual</td>\n",
              "      <td>First Owner</td>\n",
              "      <td>23.4</td>\n",
              "      <td>1248 CC</td>\n",
              "      <td>74 bhp</td>\n",
              "      <td>190Nm@ 2000rpm</td>\n",
              "      <td>5.0</td>\n",
              "    </tr>\n",
              "    <tr>\n",
              "      <th>1</th>\n",
              "      <td>Skoda Rapid 1.5 TDI Ambition</td>\n",
              "      <td>2014</td>\n",
              "      <td>5068.493151</td>\n",
              "      <td>120000</td>\n",
              "      <td>Diesel</td>\n",
              "      <td>Individual</td>\n",
              "      <td>Manual</td>\n",
              "      <td>Second Owner</td>\n",
              "      <td>21.14</td>\n",
              "      <td>1498 CC</td>\n",
              "      <td>103.52 bhp</td>\n",
              "      <td>250Nm@ 1500-2500rpm</td>\n",
              "      <td>5.0</td>\n",
              "    </tr>\n",
              "    <tr>\n",
              "      <th>2</th>\n",
              "      <td>Honda City 2017-2020 EXi</td>\n",
              "      <td>2006</td>\n",
              "      <td>2164.383562</td>\n",
              "      <td>140000</td>\n",
              "      <td>Petrol</td>\n",
              "      <td>Individual</td>\n",
              "      <td>Manual</td>\n",
              "      <td>Third Owner</td>\n",
              "      <td>17.7</td>\n",
              "      <td>1497 CC</td>\n",
              "      <td>78 bhp</td>\n",
              "      <td>12.7@ 2,700(kgm@ rpm)</td>\n",
              "      <td>5.0</td>\n",
              "    </tr>\n",
              "    <tr>\n",
              "      <th>3</th>\n",
              "      <td>Hyundai i20 Sportz Diesel</td>\n",
              "      <td>2010</td>\n",
              "      <td>3082.191781</td>\n",
              "      <td>127000</td>\n",
              "      <td>Diesel</td>\n",
              "      <td>Individual</td>\n",
              "      <td>Manual</td>\n",
              "      <td>First Owner</td>\n",
              "      <td>23.0</td>\n",
              "      <td>1396 CC</td>\n",
              "      <td>90 bhp</td>\n",
              "      <td>22.4 kgm at 1750-2750rpm</td>\n",
              "      <td>5.0</td>\n",
              "    </tr>\n",
              "    <tr>\n",
              "      <th>4</th>\n",
              "      <td>Maruti Swift VXI BSIII</td>\n",
              "      <td>2007</td>\n",
              "      <td>1780.821918</td>\n",
              "      <td>120000</td>\n",
              "      <td>Petrol</td>\n",
              "      <td>Individual</td>\n",
              "      <td>Manual</td>\n",
              "      <td>First Owner</td>\n",
              "      <td>16.1</td>\n",
              "      <td>1298 CC</td>\n",
              "      <td>88.2 bhp</td>\n",
              "      <td>11.5@ 4,500(kgm@ rpm)</td>\n",
              "      <td>5.0</td>\n",
              "    </tr>\n",
              "  </tbody>\n",
              "</table>\n",
              "</div>"
            ],
            "text/plain": [
              "         nome_completo_do_carro   ano  ...                    torque  assentos\n",
              "0        Maruti Swift Dzire VDI  2014  ...            190Nm@ 2000rpm       5.0\n",
              "1  Skoda Rapid 1.5 TDI Ambition  2014  ...       250Nm@ 1500-2500rpm       5.0\n",
              "2      Honda City 2017-2020 EXi  2006  ...     12.7@ 2,700(kgm@ rpm)       5.0\n",
              "3     Hyundai i20 Sportz Diesel  2010  ...  22.4 kgm at 1750-2750rpm       5.0\n",
              "4        Maruti Swift VXI BSIII  2007  ...     11.5@ 4,500(kgm@ rpm)       5.0\n",
              "\n",
              "[5 rows x 13 columns]"
            ]
          },
          "metadata": {
            "tags": []
          },
          "execution_count": 416
        }
      ]
    },
    {
      "cell_type": "code",
      "metadata": {
        "colab": {
          "base_uri": "https://localhost:8080/"
        },
        "id": "kjeZPcOdXmrn",
        "outputId": "9082d6b9-8d26-445b-b99e-4b12fb02f99f"
      },
      "source": [
        "#Checando se os valores estão todos sem unidades\n",
        "\n",
        "carros.consumo_do_combustivel.unique()"
      ],
      "execution_count": 417,
      "outputs": [
        {
          "output_type": "execute_result",
          "data": {
            "text/plain": [
              "array(['23.4', '21.14', '17.7', '23.0', '16.1', '20.14', '23.59', '20.0',\n",
              "       '19.01', '17.3', '19.3', '18.9', '18.15', '24.52', '19.7', '22.54',\n",
              "       '21.0', '25.5', '26.59', '21.5', '20.3', '21.4', '24.7', '18.2',\n",
              "       '16.8', '24.3', '14.0', '18.6', '23.95', '17.0', '20.63', '13.93',\n",
              "       '16.0', '17.8', '18.5', '12.55', '12.99', '14.8', '13.5', '26.0',\n",
              "       '20.65', '27.3', '11.36', '17.68', '14.28', '18.53', '14.84',\n",
              "       '21.12', '20.36', '21.27', '18.16', '22.0', '25.1', '20.51',\n",
              "       '21.66', '25.2', '22.9', '16.02', '20.54', '22.77', '15.71',\n",
              "       '23.1', '19.02', '19.81', '16.47', '15.04', '19.1', '21.79',\n",
              "       '18.8', '21.21', '15.37', '11.79', '19.0', '14.3', '15.8', '15.1',\n",
              "       '19.09', '22.32', '21.9', '14.53', '21.63', '20.85', '20.45',\n",
              "       '19.67', '23.01', '20.77', '17.92', '17.01', '22.37', '19.33',\n",
              "       '9.5', '12.83', '22.48', '16.78', '14.67', '15.0', '13.96', '18.0',\n",
              "       '12.07', '26.21', '10.8', '16.3', '13.6', '14.74', '15.6', '19.56',\n",
              "       '22.69', '19.16', '18.12', '12.1', '17.5', '42.0', '20.4', '21.1',\n",
              "       '19.44', '13.0', '21.43', '22.95', '16.2', '15.3', '28.09', '17.4',\n",
              "       '19.4', '17.6', '28.4', '14.1', '25.17', '22.74', '17.57', '16.95',\n",
              "       '19.49', '17.21', '13.2', '14.2', '26.8', '25.4', '11.5', '27.28',\n",
              "       '17.97', '12.8', '16.55', '12.05', '14.07', '21.02', '11.57',\n",
              "       '17.9', '15.96', '17.1', '17.19', '21.01', '24.0', '25.6', '21.38',\n",
              "       '23.84', '23.08', '14.24', '20.71', '15.64', '14.5', '16.34',\n",
              "       '27.39', '11.1', '13.9', '20.92', '23.8', '24.4', '15.29', '21.19',\n",
              "       '22.5', '19.6', '23.65', '25.32', '23.5', '16.6', '23.9', '20.8',\n",
              "       '27.62', '12.9', '25.44', '17.88', '22.7', '17.2', '15.42',\n",
              "       '19.68', '18.7', '15.4', '19.34', '22.71', '25.8', '13.7', '12.2',\n",
              "       '18.49', '9.0', '0.0', '13.58', '10.1', '20.5', '25.0', '10.5',\n",
              "       '22.07', '22.3', '15.26', '20.62', '27.4', '23.2', '14.4', '18.4',\n",
              "       '14.02', '11.0', '20.6', '22.05', '20.2', '18.1', '22.1', '19.87',\n",
              "       '13.01', '18.06', '26.1', '16.52', '13.55', '24.2', '25.83',\n",
              "       '11.2', '17.09', '21.03', '17.45', '21.64', '13.87', '19.98',\n",
              "       '20.52', '23.57', '11.7', '17.43', '18.88', '13.68', '11.18',\n",
              "       '20.89', '11.8', '19.62', '21.7', '14.9', '19.5', '10.91', '15.7',\n",
              "       '20.73', '15.85', '20.7', '14.23', '16.5', '17.36', '12.6',\n",
              "       '16.36', '14.95', '16.9', '19.2', '16.96', '22.15', '18.78',\n",
              "       '19.61', '17.71', '18.3', '19.12', '19.72', '12.0', '11.4',\n",
              "       '23.03', '11.07', '15.9', '17.67', '20.46', '13.1', '24.8',\n",
              "       '15.73', '15.11', '12.7', '21.2', '20.38', '21.56', '13.22',\n",
              "       '14.49', '15.05', '23.26', '15.41', '13.8', '22.27', '14.66',\n",
              "       '12.12', '16.84', '14.09', '14.7', '13.4', '15.5', '13.49', '14.6',\n",
              "       '10.75', '24.5', '11.74', '16.07', '15.63', '25.47', '17.05',\n",
              "       '23.3', '11.9', '13.38', '20.86', '10.9', '18.25', '15.2', '20.37',\n",
              "       '21.8', '11.96', '24.04', '19.69', '13.73', '21.04', '25.01',\n",
              "       '10.93', '24.29', '13.44', '20.07', '19.08', '20.34', '11.68',\n",
              "       '12.5', '12.3', '23.87', '16.38', '17.42', '10.0', '18.24',\n",
              "       '10.71', '19.59', '16.7', '19.83', '21.76', '16.05', '20.28',\n",
              "       '16.25', '16.73', '18.48', '14.99', '18.76', '16.4', '19.64',\n",
              "       '14.94', '17.11', '12.4', '18.44', '16.09', '12.62', '21.13',\n",
              "       '15.17', '21.73', '21.72', '12.85', '14.81', '13.24', '21.49',\n",
              "       '14.62', '11.45', '12.08', '15.74', '11.3', '14.21', '11.72',\n",
              "       '16.51'], dtype=object)"
            ]
          },
          "metadata": {
            "tags": []
          },
          "execution_count": 417
        }
      ]
    },
    {
      "cell_type": "markdown",
      "metadata": {
        "id": "t0x2wJjpQ1sz"
      },
      "source": [
        "Observei pela função acima que apesar de não ter mais nenhuma unidade nessa variável, ela ainda está como \"object\". Preciso alterar para tipo numérico."
      ]
    },
    {
      "cell_type": "code",
      "metadata": {
        "colab": {
          "base_uri": "https://localhost:8080/"
        },
        "id": "nQZSq9RSZmhu",
        "outputId": "99b0566e-7ded-4926-9a10-29d587ca21d4"
      },
      "source": [
        "#Mudando o tipo da variável\n",
        "\n",
        "carros[\"consumo_do_combustivel\"]=carros[\"consumo_do_combustivel\"].astype(float)\n",
        "\n",
        "carros.consumo_do_combustivel.unique()"
      ],
      "execution_count": 418,
      "outputs": [
        {
          "output_type": "execute_result",
          "data": {
            "text/plain": [
              "array([23.4 , 21.14, 17.7 , 23.  , 16.1 , 20.14, 23.59, 20.  , 19.01,\n",
              "       17.3 , 19.3 , 18.9 , 18.15, 24.52, 19.7 , 22.54, 21.  , 25.5 ,\n",
              "       26.59, 21.5 , 20.3 , 21.4 , 24.7 , 18.2 , 16.8 , 24.3 , 14.  ,\n",
              "       18.6 , 23.95, 17.  , 20.63, 13.93, 16.  , 17.8 , 18.5 , 12.55,\n",
              "       12.99, 14.8 , 13.5 , 26.  , 20.65, 27.3 , 11.36, 17.68, 14.28,\n",
              "       18.53, 14.84, 21.12, 20.36, 21.27, 18.16, 22.  , 25.1 , 20.51,\n",
              "       21.66, 25.2 , 22.9 , 16.02, 20.54, 22.77, 15.71, 23.1 , 19.02,\n",
              "       19.81, 16.47, 15.04, 19.1 , 21.79, 18.8 , 21.21, 15.37, 11.79,\n",
              "       19.  , 14.3 , 15.8 , 15.1 , 19.09, 22.32, 21.9 , 14.53, 21.63,\n",
              "       20.85, 20.45, 19.67, 23.01, 20.77, 17.92, 17.01, 22.37, 19.33,\n",
              "        9.5 , 12.83, 22.48, 16.78, 14.67, 15.  , 13.96, 18.  , 12.07,\n",
              "       26.21, 10.8 , 16.3 , 13.6 , 14.74, 15.6 , 19.56, 22.69, 19.16,\n",
              "       18.12, 12.1 , 17.5 , 42.  , 20.4 , 21.1 , 19.44, 13.  , 21.43,\n",
              "       22.95, 16.2 , 15.3 , 28.09, 17.4 , 19.4 , 17.6 , 28.4 , 14.1 ,\n",
              "       25.17, 22.74, 17.57, 16.95, 19.49, 17.21, 13.2 , 14.2 , 26.8 ,\n",
              "       25.4 , 11.5 , 27.28, 17.97, 12.8 , 16.55, 12.05, 14.07, 21.02,\n",
              "       11.57, 17.9 , 15.96, 17.1 , 17.19, 21.01, 24.  , 25.6 , 21.38,\n",
              "       23.84, 23.08, 14.24, 20.71, 15.64, 14.5 , 16.34, 27.39, 11.1 ,\n",
              "       13.9 , 20.92, 23.8 , 24.4 , 15.29, 21.19, 22.5 , 19.6 , 23.65,\n",
              "       25.32, 23.5 , 16.6 , 23.9 , 20.8 , 27.62, 12.9 , 25.44, 17.88,\n",
              "       22.7 , 17.2 , 15.42, 19.68, 18.7 , 15.4 , 19.34, 22.71, 25.8 ,\n",
              "       13.7 , 12.2 , 18.49,  9.  ,  0.  , 13.58, 10.1 , 20.5 , 25.  ,\n",
              "       10.5 , 22.07, 22.3 , 15.26, 20.62, 27.4 , 23.2 , 14.4 , 18.4 ,\n",
              "       14.02, 11.  , 20.6 , 22.05, 20.2 , 18.1 , 22.1 , 19.87, 13.01,\n",
              "       18.06, 26.1 , 16.52, 13.55, 24.2 , 25.83, 11.2 , 17.09, 21.03,\n",
              "       17.45, 21.64, 13.87, 19.98, 20.52, 23.57, 11.7 , 17.43, 18.88,\n",
              "       13.68, 11.18, 20.89, 11.8 , 19.62, 21.7 , 14.9 , 19.5 , 10.91,\n",
              "       15.7 , 20.73, 15.85, 20.7 , 14.23, 16.5 , 17.36, 12.6 , 16.36,\n",
              "       14.95, 16.9 , 19.2 , 16.96, 22.15, 18.78, 19.61, 17.71, 18.3 ,\n",
              "       19.12, 19.72, 12.  , 11.4 , 23.03, 11.07, 15.9 , 17.67, 20.46,\n",
              "       13.1 , 24.8 , 15.73, 15.11, 12.7 , 21.2 , 20.38, 21.56, 13.22,\n",
              "       14.49, 15.05, 23.26, 15.41, 13.8 , 22.27, 14.66, 12.12, 16.84,\n",
              "       14.09, 14.7 , 13.4 , 15.5 , 13.49, 14.6 , 10.75, 24.5 , 11.74,\n",
              "       16.07, 15.63, 25.47, 17.05, 23.3 , 11.9 , 13.38, 20.86, 10.9 ,\n",
              "       18.25, 15.2 , 20.37, 21.8 , 11.96, 24.04, 19.69, 13.73, 21.04,\n",
              "       25.01, 10.93, 24.29, 13.44, 20.07, 19.08, 20.34, 11.68, 12.5 ,\n",
              "       12.3 , 23.87, 16.38, 17.42, 10.  , 18.24, 10.71, 19.59, 16.7 ,\n",
              "       19.83, 21.76, 16.05, 20.28, 16.25, 16.73, 18.48, 14.99, 18.76,\n",
              "       16.4 , 19.64, 14.94, 17.11, 12.4 , 18.44, 16.09, 12.62, 21.13,\n",
              "       15.17, 21.73, 21.72, 12.85, 14.81, 13.24, 21.49, 14.62, 11.45,\n",
              "       12.08, 15.74, 11.3 , 14.21, 11.72, 16.51])"
            ]
          },
          "metadata": {
            "tags": []
          },
          "execution_count": 418
        }
      ]
    },
    {
      "cell_type": "code",
      "metadata": {
        "colab": {
          "base_uri": "https://localhost:8080/"
        },
        "id": "hCG22uoiat1D",
        "outputId": "190d3344-c15d-408f-9c11-c12620c50281"
      },
      "source": [
        "#Checando se a variável está como tipo numérico\n",
        "\n",
        "carros.dtypes"
      ],
      "execution_count": 419,
      "outputs": [
        {
          "output_type": "execute_result",
          "data": {
            "text/plain": [
              "nome_completo_do_carro     object\n",
              "ano                         int64\n",
              "preco_de_venda_USD        float64\n",
              "km_rodado                   int64\n",
              "tipo_combustivel           object\n",
              "tipo_do_vendedor           object\n",
              "transmissao                object\n",
              "dono                       object\n",
              "consumo_do_combustivel    float64\n",
              "motor                      object\n",
              "potencia_do_motor          object\n",
              "torque                     object\n",
              "assentos                  float64\n",
              "dtype: object"
            ]
          },
          "metadata": {
            "tags": []
          },
          "execution_count": 419
        }
      ]
    },
    {
      "cell_type": "markdown",
      "metadata": {
        "id": "1tgw5I3TRTRV"
      },
      "source": [
        "Agora a variável está com o tipo de valores corretos. Falta apenas colocar no título da variável a unidade \"kmpl\""
      ]
    },
    {
      "cell_type": "code",
      "metadata": {
        "colab": {
          "base_uri": "https://localhost:8080/",
          "height": 366
        },
        "id": "OOXwUeNwgzz1",
        "outputId": "4adb6b13-08e4-4f88-878b-a385fa44175a"
      },
      "source": [
        "#Trocando o título da variável\n",
        "\n",
        "carros.rename(columns={\"consumo_do_combustivel\": \"consumo_do_combustivel_kmpl\"}, inplace=True)\n",
        "\n",
        "carros.head(5)"
      ],
      "execution_count": 420,
      "outputs": [
        {
          "output_type": "execute_result",
          "data": {
            "text/html": [
              "<div>\n",
              "<style scoped>\n",
              "    .dataframe tbody tr th:only-of-type {\n",
              "        vertical-align: middle;\n",
              "    }\n",
              "\n",
              "    .dataframe tbody tr th {\n",
              "        vertical-align: top;\n",
              "    }\n",
              "\n",
              "    .dataframe thead th {\n",
              "        text-align: right;\n",
              "    }\n",
              "</style>\n",
              "<table border=\"1\" class=\"dataframe\">\n",
              "  <thead>\n",
              "    <tr style=\"text-align: right;\">\n",
              "      <th></th>\n",
              "      <th>nome_completo_do_carro</th>\n",
              "      <th>ano</th>\n",
              "      <th>preco_de_venda_USD</th>\n",
              "      <th>km_rodado</th>\n",
              "      <th>tipo_combustivel</th>\n",
              "      <th>tipo_do_vendedor</th>\n",
              "      <th>transmissao</th>\n",
              "      <th>dono</th>\n",
              "      <th>consumo_do_combustivel_kmpl</th>\n",
              "      <th>motor</th>\n",
              "      <th>potencia_do_motor</th>\n",
              "      <th>torque</th>\n",
              "      <th>assentos</th>\n",
              "    </tr>\n",
              "  </thead>\n",
              "  <tbody>\n",
              "    <tr>\n",
              "      <th>0</th>\n",
              "      <td>Maruti Swift Dzire VDI</td>\n",
              "      <td>2014</td>\n",
              "      <td>6164.383562</td>\n",
              "      <td>145500</td>\n",
              "      <td>Diesel</td>\n",
              "      <td>Individual</td>\n",
              "      <td>Manual</td>\n",
              "      <td>First Owner</td>\n",
              "      <td>23.40</td>\n",
              "      <td>1248 CC</td>\n",
              "      <td>74 bhp</td>\n",
              "      <td>190Nm@ 2000rpm</td>\n",
              "      <td>5.0</td>\n",
              "    </tr>\n",
              "    <tr>\n",
              "      <th>1</th>\n",
              "      <td>Skoda Rapid 1.5 TDI Ambition</td>\n",
              "      <td>2014</td>\n",
              "      <td>5068.493151</td>\n",
              "      <td>120000</td>\n",
              "      <td>Diesel</td>\n",
              "      <td>Individual</td>\n",
              "      <td>Manual</td>\n",
              "      <td>Second Owner</td>\n",
              "      <td>21.14</td>\n",
              "      <td>1498 CC</td>\n",
              "      <td>103.52 bhp</td>\n",
              "      <td>250Nm@ 1500-2500rpm</td>\n",
              "      <td>5.0</td>\n",
              "    </tr>\n",
              "    <tr>\n",
              "      <th>2</th>\n",
              "      <td>Honda City 2017-2020 EXi</td>\n",
              "      <td>2006</td>\n",
              "      <td>2164.383562</td>\n",
              "      <td>140000</td>\n",
              "      <td>Petrol</td>\n",
              "      <td>Individual</td>\n",
              "      <td>Manual</td>\n",
              "      <td>Third Owner</td>\n",
              "      <td>17.70</td>\n",
              "      <td>1497 CC</td>\n",
              "      <td>78 bhp</td>\n",
              "      <td>12.7@ 2,700(kgm@ rpm)</td>\n",
              "      <td>5.0</td>\n",
              "    </tr>\n",
              "    <tr>\n",
              "      <th>3</th>\n",
              "      <td>Hyundai i20 Sportz Diesel</td>\n",
              "      <td>2010</td>\n",
              "      <td>3082.191781</td>\n",
              "      <td>127000</td>\n",
              "      <td>Diesel</td>\n",
              "      <td>Individual</td>\n",
              "      <td>Manual</td>\n",
              "      <td>First Owner</td>\n",
              "      <td>23.00</td>\n",
              "      <td>1396 CC</td>\n",
              "      <td>90 bhp</td>\n",
              "      <td>22.4 kgm at 1750-2750rpm</td>\n",
              "      <td>5.0</td>\n",
              "    </tr>\n",
              "    <tr>\n",
              "      <th>4</th>\n",
              "      <td>Maruti Swift VXI BSIII</td>\n",
              "      <td>2007</td>\n",
              "      <td>1780.821918</td>\n",
              "      <td>120000</td>\n",
              "      <td>Petrol</td>\n",
              "      <td>Individual</td>\n",
              "      <td>Manual</td>\n",
              "      <td>First Owner</td>\n",
              "      <td>16.10</td>\n",
              "      <td>1298 CC</td>\n",
              "      <td>88.2 bhp</td>\n",
              "      <td>11.5@ 4,500(kgm@ rpm)</td>\n",
              "      <td>5.0</td>\n",
              "    </tr>\n",
              "  </tbody>\n",
              "</table>\n",
              "</div>"
            ],
            "text/plain": [
              "         nome_completo_do_carro   ano  ...                    torque  assentos\n",
              "0        Maruti Swift Dzire VDI  2014  ...            190Nm@ 2000rpm       5.0\n",
              "1  Skoda Rapid 1.5 TDI Ambition  2014  ...       250Nm@ 1500-2500rpm       5.0\n",
              "2      Honda City 2017-2020 EXi  2006  ...     12.7@ 2,700(kgm@ rpm)       5.0\n",
              "3     Hyundai i20 Sportz Diesel  2010  ...  22.4 kgm at 1750-2750rpm       5.0\n",
              "4        Maruti Swift VXI BSIII  2007  ...     11.5@ 4,500(kgm@ rpm)       5.0\n",
              "\n",
              "[5 rows x 13 columns]"
            ]
          },
          "metadata": {
            "tags": []
          },
          "execution_count": 420
        }
      ]
    },
    {
      "cell_type": "markdown",
      "metadata": {
        "id": "zAhTs7Bcbb4o"
      },
      "source": [
        "Agora sim esta variável \"consumo_do_combustivel\" está devidamente formatada para as análises."
      ]
    },
    {
      "cell_type": "markdown",
      "metadata": {
        "id": "bNgGw5STbjLz"
      },
      "source": [
        "# Variável 10 - \"motor\""
      ]
    },
    {
      "cell_type": "code",
      "metadata": {
        "colab": {
          "base_uri": "https://localhost:8080/"
        },
        "id": "ft1tsFT6Rfc4",
        "outputId": "5fd43a91-7b37-4349-b57c-205b6decadbe"
      },
      "source": [
        "#valores únicos:\n",
        "\n",
        "carros.motor.unique()"
      ],
      "execution_count": 421,
      "outputs": [
        {
          "output_type": "execute_result",
          "data": {
            "text/plain": [
              "array(['1248 CC', '1498 CC', '1497 CC', '1396 CC', '1298 CC', '1197 CC',\n",
              "       '796 CC', '1364 CC', '1399 CC', '1461 CC', '993 CC', '1061 CC',\n",
              "       '1198 CC', '1199 CC', '998 CC', '1591 CC', '2179 CC', '1368 CC',\n",
              "       '2982 CC', '2494 CC', '2143 CC', '2477 CC', '1462 CC', '2755 CC',\n",
              "       '1968 CC', '1798 CC', '1196 CC', '1373 CC', '1598 CC', '1998 CC',\n",
              "       '1086 CC', '1194 CC', '1172 CC', '1405 CC', '1582 CC', '999 CC',\n",
              "       '2487 CC', '1999 CC', '3604 CC', '2987 CC', '1995 CC', '1451 CC',\n",
              "       '1969 CC', '2967 CC', '2497 CC', '1797 CC', '1991 CC', '2362 CC',\n",
              "       '1493 CC', '1599 CC', '1341 CC', '1794 CC', '799 CC', '1193 CC',\n",
              "       '2696 CC', '1495 CC', '1186 CC', '1047 CC', '2498 CC', '2956 CC',\n",
              "       '2523 CC', '1120 CC', '624 CC', '1496 CC', '1984 CC', '2354 CC',\n",
              "       '814 CC', '793 CC', '1799 CC', '936 CC', '1956 CC', '1997 CC',\n",
              "       '1499 CC', '1948 CC', '2997 CC', '2489 CC', '2499 CC', '2609 CC',\n",
              "       '2953 CC', '1150 CC', '1994 CC', '1388 CC', '1527 CC', '2199 CC',\n",
              "       '995 CC', '2993 CC', '1586 CC', '1390 CC', '909 CC', '2393 CC',\n",
              "       '3198 CC', '1339 CC', '2835 CC', '2092 CC', '1595 CC', '2496 CC',\n",
              "       '1596 CC', '1597 CC', '2596 CC', '2148 CC', '1299 CC', '1590 CC',\n",
              "       '2231 CC', '2694 CC', '2200 CC', '1795 CC', '1896 CC', '1796 CC',\n",
              "       '1422 CC', '1489 CC', '2359 CC', '2197 CC', '2999 CC', '1781 CC',\n",
              "       '2650 CC', '1343 CC', '2446 CC', '3498 CC', '2198 CC', '2776 CC',\n",
              "       '1950 CC'], dtype=object)"
            ]
          },
          "metadata": {
            "tags": []
          },
          "execution_count": 421
        }
      ]
    },
    {
      "cell_type": "markdown",
      "metadata": {
        "id": "yzS36QaGccaM"
      },
      "source": [
        "- Notei que esses valores estão com uma unidade chamada de \"CC\". Essa unidade pode vir descrita apenas na legenda dessa variável.\n",
        "\n",
        "- Assim, irei remover essa unidade dos respectivos valores e irei colocar na legenda a unidade \"CC\"."
      ]
    },
    {
      "cell_type": "code",
      "metadata": {
        "id": "P1b5Q52dcaBp"
      },
      "source": [
        "# Removendo as unidades de uma lista de valores\n",
        "# Usando replace() + strip() + list comprehension\n",
        "import re"
      ],
      "execution_count": 422,
      "outputs": []
    },
    {
      "cell_type": "code",
      "metadata": {
        "id": "W5kzhdUxdA6e"
      },
      "source": [
        "# Iniciando uma nova lista\n",
        "test_list = carros.motor"
      ],
      "execution_count": 423,
      "outputs": []
    },
    {
      "cell_type": "code",
      "metadata": {
        "colab": {
          "base_uri": "https://localhost:8080/"
        },
        "id": "bdKKJ3KndHWf",
        "outputId": "45f84354-3360-4229-f17b-c8548252be1d"
      },
      "source": [
        "# Imprimindo a lista original\n",
        "print(\"A lista original é : \" + str(test_list))"
      ],
      "execution_count": 424,
      "outputs": [
        {
          "output_type": "stream",
          "text": [
            "A lista original é : 0       1248 CC\n",
            "1       1498 CC\n",
            "2       1497 CC\n",
            "3       1396 CC\n",
            "4       1298 CC\n",
            "         ...   \n",
            "8123    1197 CC\n",
            "8124    1493 CC\n",
            "8125    1248 CC\n",
            "8126    1396 CC\n",
            "8127    1396 CC\n",
            "Name: motor, Length: 7819, dtype: object\n"
          ],
          "name": "stdout"
        }
      ]
    },
    {
      "cell_type": "code",
      "metadata": {
        "id": "pn9ikOIOdL3e"
      },
      "source": [
        "# Inicializando a unidade\n",
        "unit = \"CC\""
      ],
      "execution_count": 425,
      "outputs": []
    },
    {
      "cell_type": "code",
      "metadata": {
        "id": "RGYOmhU9dPZy"
      },
      "source": [
        "# Removendo as unidades de uma lista de valores\n",
        "# Usando replace() + strip() + list comprehension\n",
        "carros.motor = [sub.replace(unit, \"\").strip() for sub in test_list]"
      ],
      "execution_count": 426,
      "outputs": []
    },
    {
      "cell_type": "code",
      "metadata": {
        "colab": {
          "base_uri": "https://localhost:8080/"
        },
        "id": "HDHqTarndSzB",
        "outputId": "8fc9f1a2-3a01-4e78-9436-7c258da76615"
      },
      "source": [
        "# Imprimindo o resultado \n",
        "print(\"Lista após a remoção das unidades : \" + str(carros.motor))"
      ],
      "execution_count": 427,
      "outputs": [
        {
          "output_type": "stream",
          "text": [
            "Lista após a remoção das unidades : 0       1248\n",
            "1       1498\n",
            "2       1497\n",
            "3       1396\n",
            "4       1298\n",
            "        ... \n",
            "8123    1197\n",
            "8124    1493\n",
            "8125    1248\n",
            "8126    1396\n",
            "8127    1396\n",
            "Name: motor, Length: 7819, dtype: object\n"
          ],
          "name": "stdout"
        }
      ]
    },
    {
      "cell_type": "code",
      "metadata": {
        "colab": {
          "base_uri": "https://localhost:8080/"
        },
        "id": "Hs-rxa1ge9KO",
        "outputId": "4399ea54-3339-4853-ca11-1025d8a9c554"
      },
      "source": [
        "#valores únicos:\n",
        "\n",
        "carros.motor.unique()"
      ],
      "execution_count": 428,
      "outputs": [
        {
          "output_type": "execute_result",
          "data": {
            "text/plain": [
              "array(['1248', '1498', '1497', '1396', '1298', '1197', '796', '1364',\n",
              "       '1399', '1461', '993', '1061', '1198', '1199', '998', '1591',\n",
              "       '2179', '1368', '2982', '2494', '2143', '2477', '1462', '2755',\n",
              "       '1968', '1798', '1196', '1373', '1598', '1998', '1086', '1194',\n",
              "       '1172', '1405', '1582', '999', '2487', '1999', '3604', '2987',\n",
              "       '1995', '1451', '1969', '2967', '2497', '1797', '1991', '2362',\n",
              "       '1493', '1599', '1341', '1794', '799', '1193', '2696', '1495',\n",
              "       '1186', '1047', '2498', '2956', '2523', '1120', '624', '1496',\n",
              "       '1984', '2354', '814', '793', '1799', '936', '1956', '1997',\n",
              "       '1499', '1948', '2997', '2489', '2499', '2609', '2953', '1150',\n",
              "       '1994', '1388', '1527', '2199', '995', '2993', '1586', '1390',\n",
              "       '909', '2393', '3198', '1339', '2835', '2092', '1595', '2496',\n",
              "       '1596', '1597', '2596', '2148', '1299', '1590', '2231', '2694',\n",
              "       '2200', '1795', '1896', '1796', '1422', '1489', '2359', '2197',\n",
              "       '2999', '1781', '2650', '1343', '2446', '3498', '2198', '2776',\n",
              "       '1950'], dtype=object)"
            ]
          },
          "metadata": {
            "tags": []
          },
          "execution_count": 428
        }
      ]
    },
    {
      "cell_type": "code",
      "metadata": {
        "colab": {
          "base_uri": "https://localhost:8080/"
        },
        "id": "Ah2MJ5i-dsMK",
        "outputId": "27d2b174-0844-4ff7-890a-0212e11f8a50"
      },
      "source": [
        "#Checando se o tipo da variável está como numérica\n",
        "\n",
        "carros.dtypes"
      ],
      "execution_count": 429,
      "outputs": [
        {
          "output_type": "execute_result",
          "data": {
            "text/plain": [
              "nome_completo_do_carro          object\n",
              "ano                              int64\n",
              "preco_de_venda_USD             float64\n",
              "km_rodado                        int64\n",
              "tipo_combustivel                object\n",
              "tipo_do_vendedor                object\n",
              "transmissao                     object\n",
              "dono                            object\n",
              "consumo_do_combustivel_kmpl    float64\n",
              "motor                           object\n",
              "potencia_do_motor               object\n",
              "torque                          object\n",
              "assentos                       float64\n",
              "dtype: object"
            ]
          },
          "metadata": {
            "tags": []
          },
          "execution_count": 429
        }
      ]
    },
    {
      "cell_type": "markdown",
      "metadata": {
        "id": "QW8pVwMpe_lf"
      },
      "source": [
        "Ainda está como \"object\". Terei de trocar por tipo de valor numérico."
      ]
    },
    {
      "cell_type": "code",
      "metadata": {
        "colab": {
          "base_uri": "https://localhost:8080/"
        },
        "id": "2JZGEjoSfFBd",
        "outputId": "7f9be647-6f6e-4b37-b374-a5bf034d4e03"
      },
      "source": [
        "carros[\"motor\"]=carros[\"motor\"].astype(float)\n",
        "\n",
        "carros.motor.unique()"
      ],
      "execution_count": 430,
      "outputs": [
        {
          "output_type": "execute_result",
          "data": {
            "text/plain": [
              "array([1248., 1498., 1497., 1396., 1298., 1197.,  796., 1364., 1399.,\n",
              "       1461.,  993., 1061., 1198., 1199.,  998., 1591., 2179., 1368.,\n",
              "       2982., 2494., 2143., 2477., 1462., 2755., 1968., 1798., 1196.,\n",
              "       1373., 1598., 1998., 1086., 1194., 1172., 1405., 1582.,  999.,\n",
              "       2487., 1999., 3604., 2987., 1995., 1451., 1969., 2967., 2497.,\n",
              "       1797., 1991., 2362., 1493., 1599., 1341., 1794.,  799., 1193.,\n",
              "       2696., 1495., 1186., 1047., 2498., 2956., 2523., 1120.,  624.,\n",
              "       1496., 1984., 2354.,  814.,  793., 1799.,  936., 1956., 1997.,\n",
              "       1499., 1948., 2997., 2489., 2499., 2609., 2953., 1150., 1994.,\n",
              "       1388., 1527., 2199.,  995., 2993., 1586., 1390.,  909., 2393.,\n",
              "       3198., 1339., 2835., 2092., 1595., 2496., 1596., 1597., 2596.,\n",
              "       2148., 1299., 1590., 2231., 2694., 2200., 1795., 1896., 1796.,\n",
              "       1422., 1489., 2359., 2197., 2999., 1781., 2650., 1343., 2446.,\n",
              "       3498., 2198., 2776., 1950.])"
            ]
          },
          "metadata": {
            "tags": []
          },
          "execution_count": 430
        }
      ]
    },
    {
      "cell_type": "code",
      "metadata": {
        "colab": {
          "base_uri": "https://localhost:8080/"
        },
        "id": "k92VaM_-daKp",
        "outputId": "062db1a6-63f7-4d73-fa0b-2dbbfd48f6b9"
      },
      "source": [
        "#Identificando os valores e o tipo da variável\n",
        "\n",
        "carros.motor"
      ],
      "execution_count": 431,
      "outputs": [
        {
          "output_type": "execute_result",
          "data": {
            "text/plain": [
              "0       1248.0\n",
              "1       1498.0\n",
              "2       1497.0\n",
              "3       1396.0\n",
              "4       1298.0\n",
              "         ...  \n",
              "8123    1197.0\n",
              "8124    1493.0\n",
              "8125    1248.0\n",
              "8126    1396.0\n",
              "8127    1396.0\n",
              "Name: motor, Length: 7819, dtype: float64"
            ]
          },
          "metadata": {
            "tags": []
          },
          "execution_count": 431
        }
      ]
    },
    {
      "cell_type": "markdown",
      "metadata": {
        "id": "4POntw7zS2-K"
      },
      "source": [
        "Agora sim  essa variável \"motor\" está com o tipo correto. Falta apenas colocar a unidade no título dessa variável."
      ]
    },
    {
      "cell_type": "code",
      "metadata": {
        "colab": {
          "base_uri": "https://localhost:8080/",
          "height": 366
        },
        "id": "6vkKlVp-gNkC",
        "outputId": "c9b2f043-6847-442d-bf24-197ff7abd16e"
      },
      "source": [
        "#Trocando o título da variável\n",
        "\n",
        "carros.rename(columns={\"motor\": \"motor_CC\"}, inplace=True)\n",
        "\n",
        "carros.head(5)"
      ],
      "execution_count": 432,
      "outputs": [
        {
          "output_type": "execute_result",
          "data": {
            "text/html": [
              "<div>\n",
              "<style scoped>\n",
              "    .dataframe tbody tr th:only-of-type {\n",
              "        vertical-align: middle;\n",
              "    }\n",
              "\n",
              "    .dataframe tbody tr th {\n",
              "        vertical-align: top;\n",
              "    }\n",
              "\n",
              "    .dataframe thead th {\n",
              "        text-align: right;\n",
              "    }\n",
              "</style>\n",
              "<table border=\"1\" class=\"dataframe\">\n",
              "  <thead>\n",
              "    <tr style=\"text-align: right;\">\n",
              "      <th></th>\n",
              "      <th>nome_completo_do_carro</th>\n",
              "      <th>ano</th>\n",
              "      <th>preco_de_venda_USD</th>\n",
              "      <th>km_rodado</th>\n",
              "      <th>tipo_combustivel</th>\n",
              "      <th>tipo_do_vendedor</th>\n",
              "      <th>transmissao</th>\n",
              "      <th>dono</th>\n",
              "      <th>consumo_do_combustivel_kmpl</th>\n",
              "      <th>motor_CC</th>\n",
              "      <th>potencia_do_motor</th>\n",
              "      <th>torque</th>\n",
              "      <th>assentos</th>\n",
              "    </tr>\n",
              "  </thead>\n",
              "  <tbody>\n",
              "    <tr>\n",
              "      <th>0</th>\n",
              "      <td>Maruti Swift Dzire VDI</td>\n",
              "      <td>2014</td>\n",
              "      <td>6164.383562</td>\n",
              "      <td>145500</td>\n",
              "      <td>Diesel</td>\n",
              "      <td>Individual</td>\n",
              "      <td>Manual</td>\n",
              "      <td>First Owner</td>\n",
              "      <td>23.40</td>\n",
              "      <td>1248.0</td>\n",
              "      <td>74 bhp</td>\n",
              "      <td>190Nm@ 2000rpm</td>\n",
              "      <td>5.0</td>\n",
              "    </tr>\n",
              "    <tr>\n",
              "      <th>1</th>\n",
              "      <td>Skoda Rapid 1.5 TDI Ambition</td>\n",
              "      <td>2014</td>\n",
              "      <td>5068.493151</td>\n",
              "      <td>120000</td>\n",
              "      <td>Diesel</td>\n",
              "      <td>Individual</td>\n",
              "      <td>Manual</td>\n",
              "      <td>Second Owner</td>\n",
              "      <td>21.14</td>\n",
              "      <td>1498.0</td>\n",
              "      <td>103.52 bhp</td>\n",
              "      <td>250Nm@ 1500-2500rpm</td>\n",
              "      <td>5.0</td>\n",
              "    </tr>\n",
              "    <tr>\n",
              "      <th>2</th>\n",
              "      <td>Honda City 2017-2020 EXi</td>\n",
              "      <td>2006</td>\n",
              "      <td>2164.383562</td>\n",
              "      <td>140000</td>\n",
              "      <td>Petrol</td>\n",
              "      <td>Individual</td>\n",
              "      <td>Manual</td>\n",
              "      <td>Third Owner</td>\n",
              "      <td>17.70</td>\n",
              "      <td>1497.0</td>\n",
              "      <td>78 bhp</td>\n",
              "      <td>12.7@ 2,700(kgm@ rpm)</td>\n",
              "      <td>5.0</td>\n",
              "    </tr>\n",
              "    <tr>\n",
              "      <th>3</th>\n",
              "      <td>Hyundai i20 Sportz Diesel</td>\n",
              "      <td>2010</td>\n",
              "      <td>3082.191781</td>\n",
              "      <td>127000</td>\n",
              "      <td>Diesel</td>\n",
              "      <td>Individual</td>\n",
              "      <td>Manual</td>\n",
              "      <td>First Owner</td>\n",
              "      <td>23.00</td>\n",
              "      <td>1396.0</td>\n",
              "      <td>90 bhp</td>\n",
              "      <td>22.4 kgm at 1750-2750rpm</td>\n",
              "      <td>5.0</td>\n",
              "    </tr>\n",
              "    <tr>\n",
              "      <th>4</th>\n",
              "      <td>Maruti Swift VXI BSIII</td>\n",
              "      <td>2007</td>\n",
              "      <td>1780.821918</td>\n",
              "      <td>120000</td>\n",
              "      <td>Petrol</td>\n",
              "      <td>Individual</td>\n",
              "      <td>Manual</td>\n",
              "      <td>First Owner</td>\n",
              "      <td>16.10</td>\n",
              "      <td>1298.0</td>\n",
              "      <td>88.2 bhp</td>\n",
              "      <td>11.5@ 4,500(kgm@ rpm)</td>\n",
              "      <td>5.0</td>\n",
              "    </tr>\n",
              "  </tbody>\n",
              "</table>\n",
              "</div>"
            ],
            "text/plain": [
              "         nome_completo_do_carro   ano  ...                    torque  assentos\n",
              "0        Maruti Swift Dzire VDI  2014  ...            190Nm@ 2000rpm       5.0\n",
              "1  Skoda Rapid 1.5 TDI Ambition  2014  ...       250Nm@ 1500-2500rpm       5.0\n",
              "2      Honda City 2017-2020 EXi  2006  ...     12.7@ 2,700(kgm@ rpm)       5.0\n",
              "3     Hyundai i20 Sportz Diesel  2010  ...  22.4 kgm at 1750-2750rpm       5.0\n",
              "4        Maruti Swift VXI BSIII  2007  ...     11.5@ 4,500(kgm@ rpm)       5.0\n",
              "\n",
              "[5 rows x 13 columns]"
            ]
          },
          "metadata": {
            "tags": []
          },
          "execution_count": 432
        }
      ]
    },
    {
      "cell_type": "markdown",
      "metadata": {
        "id": "tiGjUVkQfVhf"
      },
      "source": [
        "Agora sim esta variável \"motor\" está devidamente formatada."
      ]
    },
    {
      "cell_type": "markdown",
      "metadata": {
        "id": "uj1Sz-rofuOU"
      },
      "source": [
        "# Variável 11 - \"potencia_do_motor\""
      ]
    },
    {
      "cell_type": "code",
      "metadata": {
        "colab": {
          "base_uri": "https://localhost:8080/"
        },
        "id": "jBZpomZAf0NL",
        "outputId": "39d6a70f-4ee4-4acf-e8ed-50f9f11b60af"
      },
      "source": [
        "#valores únicos:\n",
        "\n",
        "carros.potencia_do_motor.unique()"
      ],
      "execution_count": 433,
      "outputs": [
        {
          "output_type": "execute_result",
          "data": {
            "text/plain": [
              "array(['74 bhp', '103.52 bhp', '78 bhp', '90 bhp', '88.2 bhp',\n",
              "       '81.86 bhp', '37 bhp', '67.1 bhp', '68.1 bhp', '108.45 bhp',\n",
              "       '60 bhp', '73.9 bhp', '67 bhp', '82 bhp', '88.5 bhp', '46.3 bhp',\n",
              "       '88.73 bhp', '64.1 bhp', '98.6 bhp', '88.8 bhp', '83.81 bhp',\n",
              "       '83.1 bhp', '47.3 bhp', '73.8 bhp', '34.2 bhp', '35 bhp',\n",
              "       '81.83 bhp', '121.3 bhp', '138.03 bhp', '160.77 bhp', '117.3 bhp',\n",
              "       '116.3 bhp', '83.14 bhp', '67.05 bhp', '168.5 bhp', '100 bhp',\n",
              "       '120.7 bhp', '98.63 bhp', '175.56 bhp', '103.25 bhp', '171.5 bhp',\n",
              "       '100.6 bhp', '174.33 bhp', '187.74 bhp', '170 bhp', '78.9 bhp',\n",
              "       '88.76 bhp', '86.8 bhp', '108.495 bhp', '108.62 bhp', '93.7 bhp',\n",
              "       '103.6 bhp', '98.59 bhp', '189 bhp', '67.04 bhp', '68.05 bhp',\n",
              "       '82.85 bhp', '81.80 bhp', '73 bhp', '120 bhp', '94.68 bhp',\n",
              "       '160 bhp', '65 bhp', '155 bhp', '69.01 bhp', '126.32 bhp',\n",
              "       '138.1 bhp', '83.8 bhp', '126.2 bhp', '98.96 bhp', '62.1 bhp',\n",
              "       '86.7 bhp', '188 bhp', '214.56 bhp', '177 bhp', '280 bhp',\n",
              "       '148.31 bhp', '254.79 bhp', '190 bhp', '177.46 bhp', '204 bhp',\n",
              "       '141 bhp', '117.6 bhp', '241.4 bhp', '282 bhp', '150 bhp',\n",
              "       '147.5 bhp', '108.5 bhp', '103.5 bhp', '183 bhp', '181.04 bhp',\n",
              "       '157.7 bhp', '164.7 bhp', '91.1 bhp', '400 bhp', '68 bhp',\n",
              "       '75 bhp', '85.8 bhp', '87.2 bhp', '53 bhp', '118 bhp', '103.2 bhp',\n",
              "       '83 bhp', '84 bhp', '147.94 bhp', '74.02 bhp', '53.3 bhp',\n",
              "       '80 bhp', '88.7 bhp', '97.7 bhp', '121.36 bhp', '162 bhp',\n",
              "       '140 bhp', '94 bhp', '100.57 bhp', '82.9 bhp', '83.11 bhp',\n",
              "       '70 bhp', '153.86 bhp', '121 bhp', '126.3 bhp', '73.97 bhp',\n",
              "       '171 bhp', '69 bhp', '99.6 bhp', '102 bhp', '105 bhp', '63 bhp',\n",
              "       '79.4 bhp', '97.9 bhp', '63.1 bhp', '66.1 bhp', '110 bhp',\n",
              "       '174.5 bhp', '53.26 bhp', '73.75 bhp', '67.06 bhp', '64.08 bhp',\n",
              "       '37.5 bhp', '189.3 bhp', '158.8 bhp', '55.2 bhp', '71.01 bhp',\n",
              "       '73.74 bhp', '147.9 bhp', '71 bhp', '77 bhp', '121.4 bhp',\n",
              "       '113.4 bhp', '47 bhp', '130 bhp', '57.6 bhp', '138 bhp',\n",
              "       '52.8 bhp', '53.64 bhp', '53.5 bhp', '76.8 bhp', '82.4 bhp',\n",
              "       '113.42 bhp', '76 bhp', '84.8 bhp', '56.3 bhp', '218 bhp',\n",
              "       '112 bhp', '92 bhp', '105.5 bhp', '169 bhp', '95 bhp', '72.4 bhp',\n",
              "       '115 bhp', '152 bhp', '91.2 bhp', '156 bhp', '74.9 bhp', '62 bhp',\n",
              "       '105.3 bhp', '73.94 bhp', '85.80 bhp', '85 bhp', '118.3 bhp',\n",
              "       '72 bhp', '147.51 bhp', '58 bhp', '64 bhp', '126.24 bhp',\n",
              "       '76.9 bhp', '194.3 bhp', '99.23 bhp', '89.84 bhp', '123.7 bhp',\n",
              "       '118.35 bhp', '99 bhp', '241 bhp', '136 bhp', '261.4 bhp',\n",
              "       '104.68 bhp', '37.48 bhp', '104 bhp', '88.50 bhp', '63.12 bhp',\n",
              "       '91.7 bhp', '102.5 bhp', '177.6 bhp', '45 bhp', '123.37 bhp',\n",
              "       '147.8 bhp', '184 bhp', '84.48 bhp', '68.07 bhp', '74.96 bhp',\n",
              "       '167.6 bhp', '152.87 bhp', '112.2 bhp', '83.83 bhp', '197 bhp',\n",
              "       '110.4 bhp', '104.55 bhp', '103 bhp', '103.3 bhp', '66 bhp',\n",
              "       '108.6 bhp', '165 bhp', '163.7 bhp', '116.9 bhp', '94.93 bhp',\n",
              "       '127 bhp', '198.5 bhp', '179.5 bhp', '120.69 bhp', '121.31 bhp',\n",
              "       '138.08 bhp', '187.7 bhp', '80.8 bhp', '86.79 bhp', '93.87 bhp',\n",
              "       '116.6 bhp', '143 bhp', '92.7 bhp', '88 bhp', '78.8 bhp',\n",
              "       '64.4 bhp', '125 bhp', '139.01 bhp', '254.8 bhp', '181 bhp',\n",
              "       '258 bhp', '270.9 bhp', '265 bhp', '157.75 bhp', '101 bhp',\n",
              "       '186 bhp', '187.4 bhp', '224 bhp', '64.9 bhp', '148 bhp',\n",
              "       '35.5 bhp', '89.75 bhp', '91.72 bhp', '106 bhp', '98.97 bhp',\n",
              "       '66.6 bhp', '86 bhp', '65.3 bhp', '98.82 bhp', '198.25 bhp',\n",
              "       '38 bhp', '142 bhp', '132 bhp', '174.57 bhp', '178 bhp',\n",
              "       '163.2 bhp', '203.2 bhp', '177.5 bhp', '175 bhp', '57 bhp',\n",
              "       '80.84 bhp', '68.4 bhp', '167.67 bhp', '170.63 bhp', '52 bhp',\n",
              "       '149.5 bhp', '48.21 bhp', '201.1 bhp', '100.5 bhp', '144 bhp',\n",
              "       '194.4 bhp', '168.7 bhp', '104.5 bhp', '103.26 bhp', '116.4 bhp',\n",
              "       '98.79 bhp', '272 bhp', '235 bhp', '167.62 bhp', '170.30 bhp',\n",
              "       '139.46 bhp', '158 bhp', '110.5 bhp', '82.5 bhp', '141.1 bhp',\n",
              "       '197.2 bhp', '161 bhp', '194 bhp', '122.4 bhp', '134.10 bhp',\n",
              "       '134 bhp', '203 bhp', '135.1 bhp'], dtype=object)"
            ]
          },
          "metadata": {
            "tags": []
          },
          "execution_count": 433
        }
      ]
    },
    {
      "cell_type": "markdown",
      "metadata": {
        "id": "6HiB-TjIh3zW"
      },
      "source": [
        "- Notei que esses valores estão com uma unidade chamada de \"bhp\". Essa unidade pode vir descrita apenas na legenda dessa variável.\n",
        "\n",
        "- Assim, irei remover essa unidade dos respectivos valores e irei colocar na legenda a unidade \"bhp\"."
      ]
    },
    {
      "cell_type": "code",
      "metadata": {
        "id": "W4_ISPhkf70h"
      },
      "source": [
        "# Removendo as unidades de uma lista de valores\n",
        "# Usando replace() + strip() + list comprehension\n",
        "import re"
      ],
      "execution_count": 434,
      "outputs": []
    },
    {
      "cell_type": "code",
      "metadata": {
        "id": "20PRHbL-iJTD"
      },
      "source": [
        "# Iniciailizando a lista\n",
        "test_list = carros.potencia_do_motor"
      ],
      "execution_count": 435,
      "outputs": []
    },
    {
      "cell_type": "code",
      "metadata": {
        "colab": {
          "base_uri": "https://localhost:8080/"
        },
        "id": "t_m4GTopiMQh",
        "outputId": "cfc309b8-f843-40c4-a84f-35a068283436"
      },
      "source": [
        "# Imprimindo a lista original\n",
        "print(\"A lista original é : \" + str(test_list))"
      ],
      "execution_count": 436,
      "outputs": [
        {
          "output_type": "stream",
          "text": [
            "A lista original é : 0           74 bhp\n",
            "1       103.52 bhp\n",
            "2           78 bhp\n",
            "3           90 bhp\n",
            "4         88.2 bhp\n",
            "           ...    \n",
            "8123     82.85 bhp\n",
            "8124       110 bhp\n",
            "8125      73.9 bhp\n",
            "8126        70 bhp\n",
            "8127        70 bhp\n",
            "Name: potencia_do_motor, Length: 7819, dtype: object\n"
          ],
          "name": "stdout"
        }
      ]
    },
    {
      "cell_type": "code",
      "metadata": {
        "id": "CFA8Ey7_iPxc"
      },
      "source": [
        "# Inicializando as unidades \n",
        "unit = \"bhp\""
      ],
      "execution_count": 437,
      "outputs": []
    },
    {
      "cell_type": "code",
      "metadata": {
        "id": "aDgvf_VliTH8"
      },
      "source": [
        "# Removendo unidades de uma lista de valores\n",
        "# Usando replace() + strip() + list comprehension\n",
        "carros.potencia_do_motor = [sub.replace(unit, \"\").strip() for sub in test_list]"
      ],
      "execution_count": 438,
      "outputs": []
    },
    {
      "cell_type": "code",
      "metadata": {
        "colab": {
          "base_uri": "https://localhost:8080/"
        },
        "id": "W2kp0cD3iVzG",
        "outputId": "9f9a7c53-b37d-4526-dfc8-66fc1e901856"
      },
      "source": [
        "# Imprimindo resultado \n",
        "print(\"Lista após remoção das unidades : \" + str(carros.potencia_do_motor))"
      ],
      "execution_count": 439,
      "outputs": [
        {
          "output_type": "stream",
          "text": [
            "Lista após remoção das unidades : 0           74\n",
            "1       103.52\n",
            "2           78\n",
            "3           90\n",
            "4         88.2\n",
            "         ...  \n",
            "8123     82.85\n",
            "8124       110\n",
            "8125      73.9\n",
            "8126        70\n",
            "8127        70\n",
            "Name: potencia_do_motor, Length: 7819, dtype: object\n"
          ],
          "name": "stdout"
        }
      ]
    },
    {
      "cell_type": "code",
      "metadata": {
        "colab": {
          "base_uri": "https://localhost:8080/"
        },
        "id": "91AkNBGXiaIr",
        "outputId": "fbee3283-a70b-4c5f-c761-4fa7980d79de"
      },
      "source": [
        "carros.dtypes"
      ],
      "execution_count": 440,
      "outputs": [
        {
          "output_type": "execute_result",
          "data": {
            "text/plain": [
              "nome_completo_do_carro          object\n",
              "ano                              int64\n",
              "preco_de_venda_USD             float64\n",
              "km_rodado                        int64\n",
              "tipo_combustivel                object\n",
              "tipo_do_vendedor                object\n",
              "transmissao                     object\n",
              "dono                            object\n",
              "consumo_do_combustivel_kmpl    float64\n",
              "motor_CC                       float64\n",
              "potencia_do_motor               object\n",
              "torque                          object\n",
              "assentos                       float64\n",
              "dtype: object"
            ]
          },
          "metadata": {
            "tags": []
          },
          "execution_count": 440
        }
      ]
    },
    {
      "cell_type": "markdown",
      "metadata": {
        "id": "XXeuu9U-itdj"
      },
      "source": [
        "Tenho de trocar o tipo de valor dessa \"potencia_do_motor\"."
      ]
    },
    {
      "cell_type": "code",
      "metadata": {
        "colab": {
          "base_uri": "https://localhost:8080/"
        },
        "id": "OMLt-XU4iqWM",
        "outputId": "cbd30ad9-149a-4526-f66a-d85085b69875"
      },
      "source": [
        "carros[\"potencia_do_motor\"]=carros[\"potencia_do_motor\"].astype(float)\n",
        "\n",
        "carros.potencia_do_motor.unique()"
      ],
      "execution_count": 441,
      "outputs": [
        {
          "output_type": "execute_result",
          "data": {
            "text/plain": [
              "array([ 74.   , 103.52 ,  78.   ,  90.   ,  88.2  ,  81.86 ,  37.   ,\n",
              "        67.1  ,  68.1  , 108.45 ,  60.   ,  73.9  ,  67.   ,  82.   ,\n",
              "        88.5  ,  46.3  ,  88.73 ,  64.1  ,  98.6  ,  88.8  ,  83.81 ,\n",
              "        83.1  ,  47.3  ,  73.8  ,  34.2  ,  35.   ,  81.83 , 121.3  ,\n",
              "       138.03 , 160.77 , 117.3  , 116.3  ,  83.14 ,  67.05 , 168.5  ,\n",
              "       100.   , 120.7  ,  98.63 , 175.56 , 103.25 , 171.5  , 100.6  ,\n",
              "       174.33 , 187.74 , 170.   ,  78.9  ,  88.76 ,  86.8  , 108.495,\n",
              "       108.62 ,  93.7  , 103.6  ,  98.59 , 189.   ,  67.04 ,  68.05 ,\n",
              "        82.85 ,  81.8  ,  73.   , 120.   ,  94.68 , 160.   ,  65.   ,\n",
              "       155.   ,  69.01 , 126.32 , 138.1  ,  83.8  , 126.2  ,  98.96 ,\n",
              "        62.1  ,  86.7  , 188.   , 214.56 , 177.   , 280.   , 148.31 ,\n",
              "       254.79 , 190.   , 177.46 , 204.   , 141.   , 117.6  , 241.4  ,\n",
              "       282.   , 150.   , 147.5  , 108.5  , 103.5  , 183.   , 181.04 ,\n",
              "       157.7  , 164.7  ,  91.1  , 400.   ,  68.   ,  75.   ,  85.8  ,\n",
              "        87.2  ,  53.   , 118.   , 103.2  ,  83.   ,  84.   , 147.94 ,\n",
              "        74.02 ,  53.3  ,  80.   ,  88.7  ,  97.7  , 121.36 , 162.   ,\n",
              "       140.   ,  94.   , 100.57 ,  82.9  ,  83.11 ,  70.   , 153.86 ,\n",
              "       121.   , 126.3  ,  73.97 , 171.   ,  69.   ,  99.6  , 102.   ,\n",
              "       105.   ,  63.   ,  79.4  ,  97.9  ,  63.1  ,  66.1  , 110.   ,\n",
              "       174.5  ,  53.26 ,  73.75 ,  67.06 ,  64.08 ,  37.5  , 189.3  ,\n",
              "       158.8  ,  55.2  ,  71.01 ,  73.74 , 147.9  ,  71.   ,  77.   ,\n",
              "       121.4  , 113.4  ,  47.   , 130.   ,  57.6  , 138.   ,  52.8  ,\n",
              "        53.64 ,  53.5  ,  76.8  ,  82.4  , 113.42 ,  76.   ,  84.8  ,\n",
              "        56.3  , 218.   , 112.   ,  92.   , 105.5  , 169.   ,  95.   ,\n",
              "        72.4  , 115.   , 152.   ,  91.2  , 156.   ,  74.9  ,  62.   ,\n",
              "       105.3  ,  73.94 ,  85.   , 118.3  ,  72.   , 147.51 ,  58.   ,\n",
              "        64.   , 126.24 ,  76.9  , 194.3  ,  99.23 ,  89.84 , 123.7  ,\n",
              "       118.35 ,  99.   , 241.   , 136.   , 261.4  , 104.68 ,  37.48 ,\n",
              "       104.   ,  63.12 ,  91.7  , 102.5  , 177.6  ,  45.   , 123.37 ,\n",
              "       147.8  , 184.   ,  84.48 ,  68.07 ,  74.96 , 167.6  , 152.87 ,\n",
              "       112.2  ,  83.83 , 197.   , 110.4  , 104.55 , 103.   , 103.3  ,\n",
              "        66.   , 108.6  , 165.   , 163.7  , 116.9  ,  94.93 , 127.   ,\n",
              "       198.5  , 179.5  , 120.69 , 121.31 , 138.08 , 187.7  ,  80.8  ,\n",
              "        86.79 ,  93.87 , 116.6  , 143.   ,  92.7  ,  88.   ,  78.8  ,\n",
              "        64.4  , 125.   , 139.01 , 254.8  , 181.   , 258.   , 270.9  ,\n",
              "       265.   , 157.75 , 101.   , 186.   , 187.4  , 224.   ,  64.9  ,\n",
              "       148.   ,  35.5  ,  89.75 ,  91.72 , 106.   ,  98.97 ,  66.6  ,\n",
              "        86.   ,  65.3  ,  98.82 , 198.25 ,  38.   , 142.   , 132.   ,\n",
              "       174.57 , 178.   , 163.2  , 203.2  , 177.5  , 175.   ,  57.   ,\n",
              "        80.84 ,  68.4  , 167.67 , 170.63 ,  52.   , 149.5  ,  48.21 ,\n",
              "       201.1  , 100.5  , 144.   , 194.4  , 168.7  , 104.5  , 103.26 ,\n",
              "       116.4  ,  98.79 , 272.   , 235.   , 167.62 , 170.3  , 139.46 ,\n",
              "       158.   , 110.5  ,  82.5  , 141.1  , 197.2  , 161.   , 194.   ,\n",
              "       122.4  , 134.1  , 134.   , 203.   , 135.1  ])"
            ]
          },
          "metadata": {
            "tags": []
          },
          "execution_count": 441
        }
      ]
    },
    {
      "cell_type": "code",
      "metadata": {
        "colab": {
          "base_uri": "https://localhost:8080/"
        },
        "id": "YVLQc6HPjAiO",
        "outputId": "45b3d0a7-dc8b-4ec6-f00c-2d0673373658"
      },
      "source": [
        "carros.dtypes"
      ],
      "execution_count": 442,
      "outputs": [
        {
          "output_type": "execute_result",
          "data": {
            "text/plain": [
              "nome_completo_do_carro          object\n",
              "ano                              int64\n",
              "preco_de_venda_USD             float64\n",
              "km_rodado                        int64\n",
              "tipo_combustivel                object\n",
              "tipo_do_vendedor                object\n",
              "transmissao                     object\n",
              "dono                            object\n",
              "consumo_do_combustivel_kmpl    float64\n",
              "motor_CC                       float64\n",
              "potencia_do_motor              float64\n",
              "torque                          object\n",
              "assentos                       float64\n",
              "dtype: object"
            ]
          },
          "metadata": {
            "tags": []
          },
          "execution_count": 442
        }
      ]
    },
    {
      "cell_type": "markdown",
      "metadata": {
        "id": "xcRiNTuljKYD"
      },
      "source": [
        "Agora sim, essa variável \"poder_máximo\" está devidamente formatada. Falta apenas colocar a unidade no título da variável."
      ]
    },
    {
      "cell_type": "code",
      "metadata": {
        "colab": {
          "base_uri": "https://localhost:8080/",
          "height": 366
        },
        "id": "umtuHuJOJCAs",
        "outputId": "0c9039d7-57d2-4c3f-da56-85576ea7f38c"
      },
      "source": [
        "#Trocando o título da variável\n",
        "\n",
        "carros.rename(columns={\"potencia_do_motor\": \"potencia_do_motor_bhp\"}, inplace=True)\n",
        "\n",
        "carros.head(5)"
      ],
      "execution_count": 443,
      "outputs": [
        {
          "output_type": "execute_result",
          "data": {
            "text/html": [
              "<div>\n",
              "<style scoped>\n",
              "    .dataframe tbody tr th:only-of-type {\n",
              "        vertical-align: middle;\n",
              "    }\n",
              "\n",
              "    .dataframe tbody tr th {\n",
              "        vertical-align: top;\n",
              "    }\n",
              "\n",
              "    .dataframe thead th {\n",
              "        text-align: right;\n",
              "    }\n",
              "</style>\n",
              "<table border=\"1\" class=\"dataframe\">\n",
              "  <thead>\n",
              "    <tr style=\"text-align: right;\">\n",
              "      <th></th>\n",
              "      <th>nome_completo_do_carro</th>\n",
              "      <th>ano</th>\n",
              "      <th>preco_de_venda_USD</th>\n",
              "      <th>km_rodado</th>\n",
              "      <th>tipo_combustivel</th>\n",
              "      <th>tipo_do_vendedor</th>\n",
              "      <th>transmissao</th>\n",
              "      <th>dono</th>\n",
              "      <th>consumo_do_combustivel_kmpl</th>\n",
              "      <th>motor_CC</th>\n",
              "      <th>potencia_do_motor_bhp</th>\n",
              "      <th>torque</th>\n",
              "      <th>assentos</th>\n",
              "    </tr>\n",
              "  </thead>\n",
              "  <tbody>\n",
              "    <tr>\n",
              "      <th>0</th>\n",
              "      <td>Maruti Swift Dzire VDI</td>\n",
              "      <td>2014</td>\n",
              "      <td>6164.383562</td>\n",
              "      <td>145500</td>\n",
              "      <td>Diesel</td>\n",
              "      <td>Individual</td>\n",
              "      <td>Manual</td>\n",
              "      <td>First Owner</td>\n",
              "      <td>23.40</td>\n",
              "      <td>1248.0</td>\n",
              "      <td>74.00</td>\n",
              "      <td>190Nm@ 2000rpm</td>\n",
              "      <td>5.0</td>\n",
              "    </tr>\n",
              "    <tr>\n",
              "      <th>1</th>\n",
              "      <td>Skoda Rapid 1.5 TDI Ambition</td>\n",
              "      <td>2014</td>\n",
              "      <td>5068.493151</td>\n",
              "      <td>120000</td>\n",
              "      <td>Diesel</td>\n",
              "      <td>Individual</td>\n",
              "      <td>Manual</td>\n",
              "      <td>Second Owner</td>\n",
              "      <td>21.14</td>\n",
              "      <td>1498.0</td>\n",
              "      <td>103.52</td>\n",
              "      <td>250Nm@ 1500-2500rpm</td>\n",
              "      <td>5.0</td>\n",
              "    </tr>\n",
              "    <tr>\n",
              "      <th>2</th>\n",
              "      <td>Honda City 2017-2020 EXi</td>\n",
              "      <td>2006</td>\n",
              "      <td>2164.383562</td>\n",
              "      <td>140000</td>\n",
              "      <td>Petrol</td>\n",
              "      <td>Individual</td>\n",
              "      <td>Manual</td>\n",
              "      <td>Third Owner</td>\n",
              "      <td>17.70</td>\n",
              "      <td>1497.0</td>\n",
              "      <td>78.00</td>\n",
              "      <td>12.7@ 2,700(kgm@ rpm)</td>\n",
              "      <td>5.0</td>\n",
              "    </tr>\n",
              "    <tr>\n",
              "      <th>3</th>\n",
              "      <td>Hyundai i20 Sportz Diesel</td>\n",
              "      <td>2010</td>\n",
              "      <td>3082.191781</td>\n",
              "      <td>127000</td>\n",
              "      <td>Diesel</td>\n",
              "      <td>Individual</td>\n",
              "      <td>Manual</td>\n",
              "      <td>First Owner</td>\n",
              "      <td>23.00</td>\n",
              "      <td>1396.0</td>\n",
              "      <td>90.00</td>\n",
              "      <td>22.4 kgm at 1750-2750rpm</td>\n",
              "      <td>5.0</td>\n",
              "    </tr>\n",
              "    <tr>\n",
              "      <th>4</th>\n",
              "      <td>Maruti Swift VXI BSIII</td>\n",
              "      <td>2007</td>\n",
              "      <td>1780.821918</td>\n",
              "      <td>120000</td>\n",
              "      <td>Petrol</td>\n",
              "      <td>Individual</td>\n",
              "      <td>Manual</td>\n",
              "      <td>First Owner</td>\n",
              "      <td>16.10</td>\n",
              "      <td>1298.0</td>\n",
              "      <td>88.20</td>\n",
              "      <td>11.5@ 4,500(kgm@ rpm)</td>\n",
              "      <td>5.0</td>\n",
              "    </tr>\n",
              "  </tbody>\n",
              "</table>\n",
              "</div>"
            ],
            "text/plain": [
              "         nome_completo_do_carro   ano  ...                    torque  assentos\n",
              "0        Maruti Swift Dzire VDI  2014  ...            190Nm@ 2000rpm       5.0\n",
              "1  Skoda Rapid 1.5 TDI Ambition  2014  ...       250Nm@ 1500-2500rpm       5.0\n",
              "2      Honda City 2017-2020 EXi  2006  ...     12.7@ 2,700(kgm@ rpm)       5.0\n",
              "3     Hyundai i20 Sportz Diesel  2010  ...  22.4 kgm at 1750-2750rpm       5.0\n",
              "4        Maruti Swift VXI BSIII  2007  ...     11.5@ 4,500(kgm@ rpm)       5.0\n",
              "\n",
              "[5 rows x 13 columns]"
            ]
          },
          "metadata": {
            "tags": []
          },
          "execution_count": 443
        }
      ]
    },
    {
      "cell_type": "markdown",
      "metadata": {
        "id": "F6O4UUuGjwTs"
      },
      "source": [
        "# Variável 12 - torque"
      ]
    },
    {
      "cell_type": "code",
      "metadata": {
        "colab": {
          "base_uri": "https://localhost:8080/"
        },
        "id": "Qx5cXMJ4i5Ka",
        "outputId": "a1c2aec7-5bcd-4234-f12d-80c5ade00180"
      },
      "source": [
        "#valores únicos:\n",
        "\n",
        "carros.torque.unique()"
      ],
      "execution_count": 444,
      "outputs": [
        {
          "output_type": "execute_result",
          "data": {
            "text/plain": [
              "array(['190Nm@ 2000rpm', '250Nm@ 1500-2500rpm', '12.7@ 2,700(kgm@ rpm)',\n",
              "       '22.4 kgm at 1750-2750rpm', '11.5@ 4,500(kgm@ rpm)',\n",
              "       '113.75nm@ 4000rpm', '59Nm@ 2500rpm', '170Nm@ 1800-2400rpm',\n",
              "       '160Nm@ 2000rpm', '248Nm@ 2250rpm', '78Nm@ 4500rpm',\n",
              "       '84Nm@ 3500rpm', '115Nm@ 3500-3600rpm', '200Nm@ 1750rpm',\n",
              "       '62Nm@ 3000rpm', '219.7Nm@ 1500-2750rpm', '114Nm@ 3500rpm',\n",
              "       '115Nm@ 4000rpm', '69Nm@ 3500rpm', '172.5Nm@ 1750rpm',\n",
              "       '6.1kgm@ 3000rpm', '114.7Nm@ 4000rpm', '90Nm@ 3500rpm',\n",
              "       '151Nm@ 4850rpm', '104Nm@ 4000rpm', '320Nm@ 1700-2700rpm',\n",
              "       '250Nm@ 1750-2500rpm', '145Nm@ 4600rpm', '146Nm@ 4800rpm',\n",
              "       '343Nm@ 1400-3400rpm', '200Nm@ 1400-3400rpm',\n",
              "       '200Nm@ 1250-4000rpm', '400Nm@ 2000-2500rpm', '138Nm@ 4400rpm',\n",
              "       '360Nm@ 1200-3400rpm', '200Nm@ 1200-3600rpm',\n",
              "       '380Nm@ 1750-2500rpm', '173Nm@ 4000rpm', '400Nm@ 1750-3000rpm',\n",
              "       '400Nm@ 1400-2800rpm', '200Nm@ 1750-3000rpm', '111.7Nm@ 4000rpm',\n",
              "       '219.6Nm@ 1500-2750rpm', '112Nm@ 4000rpm', '250Nm@ 1500-3000rpm',\n",
              "       '130Nm@ 4000rpm', '205Nm@ 1750-3250rpm', '280Nm@ 1350-4600rpm',\n",
              "       '99.04Nm@ 4500rpm', '110Nm@ 3750rpm', '153Nm@ 3800rpm',\n",
              "       '113.7Nm@ 4000rpm', '114Nm@ 4000rpm', '113Nm@ 4200rpm',\n",
              "       '101Nm@ 3000rpm', '290Nm@ 1800-2800rpm', '120Nm@ 4250rpm',\n",
              "       '250Nm@ 1500~4500rpm', '96 Nm at 3000 rpm', '360Nm@ 1750-2800rpm',\n",
              "       '135Nm@ 2500rpm', '259.8Nm@ 1900-2750rpm', '200Nm@ 1900rpm',\n",
              "       '259.9Nm@ 1900-2750rpm', '91Nm@ 4250rpm', '96.1Nm@ 3000rpm',\n",
              "       '109Nm@ 4500rpm', '400nm@ 1750-3000rpm', '202Nm@ 3600-5200rpm',\n",
              "       '430Nm@ 1750-2500rpm', '347Nm@ 4300rpm', '382nm@ 1750-2250rpm',\n",
              "       '620Nm@ 1600-2400rpm', '400Nm@ 1750-2500rpm', '250@ 1250-5000rpm',\n",
              "       '500Nm@ 1600-1800rpm', '250Nm@ 1600-3600rpm', '400Nm',\n",
              "       '550Nm@ 1750-2750rpm', '490Nm@ 1600rpm', '250 Nm at 2750 rpm',\n",
              "       '177.5Nm@ 4700rpm', '170Nm@ 1750-4000rpm', '300Nm@ 1200-4000rpm',\n",
              "       '300Nm@ 1200-1400rpm', '260Nm@ 1500-2750rpm', '213Nm@ 4500rpm',\n",
              "       '224Nm@ 4000rpm', '640Nm@ 1740rpm', '113Nm@ 4500rpm',\n",
              "       '95Nm@ 3000-4300rpm', '13.1kgm@ 4600rpm', '205Nm@ 1800-2800rpm',\n",
              "       '71Nm@ 3500rpm', '190Nm@ 1750-3000rpm', '146Nm at 4800 rpm',\n",
              "       '14.9 KGM at 3000 RPM', '115Nm@ 3200rpm', '117nm@ 4000rpm',\n",
              "       '320Nm@ 1500-3000rpm', '72Nm@ 4386rpm', '11.4 kgm at 4,000 rpm',\n",
              "       '140Nm@ 1500-4000rpm', '134Nm@ 4000rpm', '150Nm@ 4500rpm',\n",
              "       '340Nm@ 1800-3250rpm', '240Nm@ 1600-2800rpm',\n",
              "       '330Nm@ 1600-2800rpm', '12.5@ 3,500(kgm@ rpm)', '110Nm@ 4800rpm',\n",
              "       '111.8Nm@ 4000rpm', '11.8@ 3,200(kgm@ rpm)', '135.4Nm@ 2500rpm',\n",
              "       '300Nm@ 1750-2500rpm', '190.25nm@ 1750-2250rpm',\n",
              "       '140Nm@ 1800-3000rpm', '20.4@ 1400-3400(kgm@ rpm)',\n",
              "       '247Nm@ 1800-2000rpm', '223Nm@ 1600-2200rpm',\n",
              "       '180 Nm at 1440-1500rpm', '195Nm@ 1400-2200rpm',\n",
              "       '154.9Nm@ 4200rpm', '114.73Nm@ 4000rpm', '160Nm@ 1500-2750rpm',\n",
              "       '108Nm@ 4400rpm', '190.24nm@ 1750-2250rpm', '200Nm@ 2000-3500rpm',\n",
              "       '420Nm@ 1400-2600rpm', '100Nm@ 2700rpm', '51Nm@ 4000rpm',\n",
              "       '250Nm@ 1250-5300rpm', '132Nm@ 3000rpm', '350Nm@ 1500-2750rpm',\n",
              "       '218Nm@ 4200rpm', '14.9@ 3,000(kgm@ rpm)',\n",
              "       '24@ 1,900-2,750(kgm@ rpm)', '13.5@ 2,500(kgm@ rpm)',\n",
              "       '74.5Nm@ 4000rpm', '160Nm@ 1750rpm', '180.4Nm@ 1750-2500rpm',\n",
              "       '230Nm@ 1500-2500rpm', '113.75Nm@ 4000rpm',\n",
              "       '219.66nm@ 1500-2750rpm', '245Nm@ 1750rpm', '360Nm@ 1400-3200rpm',\n",
              "       '320Nm@ 2000rpm', '135 Nm at 2500  rpm ',\n",
              "       '24 KGM at 1900-2750 RPM', '190Nm@ 1750-2250rpm',\n",
              "       '204Nm@ 2000-2750rpm', '14.3@ 1,800-3,000(kgm@ rpm)',\n",
              "       '250nm@ 1500-2750rpm', '125Nm@ 2000rpm', '172Nm@ 4300rpm',\n",
              "       '150Nm@ 1750rpm', '102Nm@ 4000rpm', '85Nm@ 2500rpm',\n",
              "       '8.5@ 2,500(kgm@ rpm)', '180Nm@ 1440-1500rpm', '106.5Nm@ 4400rpm',\n",
              "       '108.5Nm@ 5000rpm', '350Nm@ 1750-2500rpm', '144.15nm@ 4500rpm',\n",
              "       '104Nm@ 4400rpm', '99Nm@ 4500rpm', '200Nm@ 2000rpm',\n",
              "       '280Nm@ 1800-2800rpm', '142.5Nm@ 1750rpm', '140Nm@ 4400rpm',\n",
              "       '115@ 2,500(kgm@ rpm)', '196Nm@ 5000rpm',\n",
              "       '260 Nm at 1800-2200 rpm', '9.8@ 3,000(kgm@ rpm)',\n",
              "       '209Nm@ 2000rpm', '135 Nm at 2500 rpm', '140Nm@ 4200rpm',\n",
              "       '220Nm at 1400-2600 rpm', '48Nm@ 3000rpm', '171Nm@ 1800rpm',\n",
              "       '277.5Nm@ 1700-2200rpm', '215Nm@ 3600rpm', '219.6Nm@ 1750-2750rpm',\n",
              "       '195Nm@ 1440-2200rpm', '13@ 2,500(kgm@ rpm)', '180Nm@ 2000rpm',\n",
              "       '200Nm@ 1400-2200rpm', '380Nm(38.7kgm)@ 2500rpm', '110Nm@ 4400rpm',\n",
              "       '72Nm@ 4388rpm', '263.7Nm@ 2500rpm', '320Nm@ 1600-2800rpm',\n",
              "       '25.5@ 1,500-3,000(kgm@ rpm)', '16.3@ 2,000(kgm@ rpm)',\n",
              "       '190 Nm at 1750 rpm ', '94.14Nm@ 3500rpm', '12@ 3,500(kgm@ rpm)',\n",
              "       '113Nm@ 5000rpm', '280Nm@ 2400-2800rpm', '96Nm@ 3500rpm',\n",
              "       '16@ 2,000(kgm@ rpm)', '320Nm@ 1750-3000rpm', '114.73nm@ 4000rpm',\n",
              "       '320Nm@ 1750-2500rpm', '138nm@ 4400rpm', '190Nm@ 1750rpm',\n",
              "       '789Nm@ 2250rpm', '259.87Nm@ 1900-2750rpm', '205Nm@ 1750rpm',\n",
              "       '436.39Nm@ 1800-2500rpm', '182.5Nm@ 1500-1800rpm',\n",
              "       '90.3Nm@ 4200rpm', '12.5@ 2,500(kgm@ rpm)', '215Nm@ 1750-3000rpm',\n",
              "       '215Nm@ 1750-3000', '305Nm@ 2000rpm', '540Nm@ 2000rpm',\n",
              "       '327Nm@ 2600rpm', '300Nm@ 1600-3000rpm', '620Nm@ 2000-2500rpm',\n",
              "       '450Nm@ 1600-2400rpm', '19@ 1,800(kgm@ rpm)',\n",
              "       '9.2@ 4,200(kgm@ rpm)', '145@ 4,100(kgm@ rpm)',\n",
              "       '51Nm@ 4000+/-500rpm', '110Nm@ 3000rpm', '148Nm@ 3500rpm',\n",
              "       '116Nm@ 4750rpm', '48@ 3,000+/-500(NM@ rpm)', '148Nm@ 4000rpm',\n",
              "       '222Nm@ 4300rpm', '135.3Nm@ 5000rpm', '98Nm@ 1600-3000rpm',\n",
              "       '170Nm@ 1400-4500rpm', '343Nm@ 1400-2800rpm',\n",
              "       '402Nm@ 1600-3000rpm', '113Nm@ 3300rpm', '99.07Nm@ 4500rpm',\n",
              "       '210nm@ 1600-2200rpm', '190 Nm at 1750  rpm ', '32.1kgm@ 2000rpm',\n",
              "       '224nm@ 1500-2750rpm', '400nm@ 1750-2500rpm',\n",
              "       '215Nm@ 1750-2500rpm', '25@ 1,800-2,800(kgm@ rpm)',\n",
              "       '197Nm@ 1750rpm', '136.3Nm@ 4200rpm', '470Nm@ 1750-2500rpm',\n",
              "       '11@ 3,000(kgm@ rpm)', '142Nm@ 4000rpm', '145Nm@ 4100rpm',\n",
              "       '320Nm@ 1500-2800rpm', '123Nm@ 1000-2500rpm',\n",
              "       '218Nm@ 1400-2600rpm', '510@ 1600-2400', '220Nm@ 1500-2750rpm',\n",
              "       '380Nm@ 2000rpm', '104Nm@ 3100rpm', '292Nm@ 2000rpm',\n",
              "       '20@ 3,750(kgm@ rpm)', '46.5@ 1,400-2,800(kgm@ rpm)',\n",
              "       '380Nm@ 2500rpm', '15@ 3,800(kgm@ rpm)', '136Nm@ 4250rpm',\n",
              "       '228Nm@ 4400rpm', '149Nm@ 4500rpm', '187Nm@ 2500rpm',\n",
              "       '146Nm@ 3400rpm', '8.6@ 3,500(kgm@ rpm)', '219.7Nm@ 1750-2750rpm',\n",
              "       '190Nm@ 2000-3000', '450Nm@ 2000rpm', '300Nm@ 2000rpm',\n",
              "       '230Nm@ 1800-2000rpm', '42@ 2,000(kgm@ rpm)',\n",
              "       '110Nm@ 3000-4300rpm', '110(11.2)@ 4800', '330Nm@ 1800rpm',\n",
              "       '225Nm@ 1500-2500rpm', '380Nm@ 1750-2750rpm',\n",
              "       '28.3@ 1,700-2,200(kgm@ rpm)', '259.88Nm@ 1900-2750rpm',\n",
              "       '580Nm@ 1400-3250rpm', '400 Nm /2000 rpm', '127Nm@ 3500rpm',\n",
              "       '300Nm@ 1500-2500rpm', '132.3Nm@ 4000rpm', '113nm@ 4400rpm',\n",
              "       '151NM@ 4850rpm', '153Nm@ 3750-3800rpm', '10.7@ 2,500(kgm@ rpm)',\n",
              "       '124.6Nm@ 3500rpm', '219.9Nm@ 1750-2750rpm',\n",
              "       '420.7Nm@ 1800-2500rpm', '130Nm@ 3000rpm', '424Nm@ 2000rpm',\n",
              "       '130@ 2500(kgm@ rpm)', '99.8Nm@ 2700rpm', '113Nm@ 4,500rpm',\n",
              "       '11.2@ 4,400(kgm@ rpm)', '240Nm@ 1850rpm', '16.1@ 4,200(kgm@ rpm)',\n",
              "       '320Nm@ 1750-2700rpm', '115Nm@ 4500rpm', '245Nm@ 4000rpm',\n",
              "       '321Nm@ 1600-2400rpm', '619Nm@ 1600-2400rpm',\n",
              "       '380Nm@ 1750-3000rpm', '560Nm@ 1500rpm', '230Nm@ 1500-2250rpm',\n",
              "       '260Nm@ 1800-2200rpm', '600Nm@ 2000rpm', '259.87nm@ 1500-3000rpm',\n",
              "       '16.6@ 4,500(kgm@ rpm)', '219.66NM@ 1500-2750rpm',\n",
              "       '12.5@ 3,000(kgm@ rpm)', '620Nm@ 1500-2500rpm',\n",
              "       '250Nm@ 1500-4500rpm', '14.9@ 3,400(kgm@ rpm)',\n",
              "       '25.5@ 1,900(kgm@ rpm)', '33.7@ 1,800(kgm@ rpm)',\n",
              "       '285Nm@ 2400-4000rpm', '10.7@ 2,600(kgm@ rpm)',\n",
              "       '250Nm@ 1000-2000rpm', '240Nm@ 1750rpm', '226Nm@ 4400rpm',\n",
              "       '510Nm@ 1600-2800rpm', '259.87NM@ 1500-3000rpm',\n",
              "       '155 Nm at 1600-2800 rpm', '240Nm@ 2000rpm', '103Nm@ 4500rpm',\n",
              "       '13.5@ 4,800(kgm@ rpm)', '400Nm@ 1750-2750rpm',\n",
              "       '175Nm@ 1500-4100rpm', '72.9Nm@ 2250rpm', '135.4Nm@ 2500',\n",
              "       '245Nm@ 5000rpm', '96Nm@ 2500rpm', '215nm@ 1750-2500rpm',\n",
              "       '10.4@ 3,200(kgm@ rpm)', '128Nm@ 3100rpm', '102Nm@ 2600rpm',\n",
              "       '131Nm@ 4400rpm', '11.4@ 4,000(kgm@ rpm)', '250Nm@ 4250rpm',\n",
              "       '343Nm@ 1600-2800rpm', '185Nm@ 1750-2750rpm', '12@ 2500(kgm@ rpm)',\n",
              "       '12.4@ 2,600(kgm@ rpm)', '170Nm@ 4200rpm', '176Nm@ 1500rpm',\n",
              "       '380NM@ 1800-2800rpm', '250Nm@ 1600-2000rpm',\n",
              "       '24.5@ 3,500-4,500(kgm@ rpm)', '22.9@ 1,950-4,700(kgm@ rpm)',\n",
              "       '113Nm@ 4400rpm', '121Nm@ 2800rpm', '210 / 1900',\n",
              "       '250Nm@ 1250-5000rpm', '400Nm@ 175-2750rpm', '350Nm@ 1500-3500rpm',\n",
              "       '175nm@ 1750-4000rpm', '115@ 2500(kgm@ rpm)', '110Nm@ 4500rpm',\n",
              "       '190Nm@ 2000-3000rpm', '106Nm@ 2200rpm',\n",
              "       '21.4@ 1,750-4,600(kgm@ rpm)', '96Nm@ 3000rpm',\n",
              "       '23.6@ 4,250(kgm@ rpm)', '11.3kgm@ 4700rpm', '450Nm@ 1750-2500rpm',\n",
              "       '35.7@ 1,750-3,000(kgm@ rpm)', '6@ 2,500(kgm@ rpm)',\n",
              "       '13.9 kgm at 4200 rpm', '320Nm@ 1400-4100rpm',\n",
              "       '150Nm@ 1700-4500rpm', '113.8Nm@ 4000rpm', '110@ 3,000(kgm@ rpm)',\n",
              "       '151Nm@ 2400rpm', '62Nm@ 2500rpm', '18@ 1,600-2,200(kgm@ rpm)',\n",
              "       '20@ 4,700(kgm@ rpm)', '300Nm@ 1600-4000rpm',\n",
              "       '171.6Nm@ 1500-4000rpm', '21.4@ 1,900(kgm@ rpm)',\n",
              "       '190@ 21,800(kgm@ rpm)', '250 Nm at 1,500-3,000 rpm',\n",
              "       '340nm@ 1750-3000rpm', '36.6@ 1,750-2,500(kgm@ rpm)',\n",
              "       '12.5kgm@ 3500rpm', '6.1@ 3,000(kgm@ rpm)', '350nm@ 1800-2600rpm',\n",
              "       '175nm@ 1500-4100rpm', '4.8kgm@ 3000rpm', '355Nm@ 4500rpm',\n",
              "       '51@ 1,750-3,000(kgm@ rpm)', '119Nm@ 4250rpm',\n",
              "       '410Nm@ 1600-2800rpm', '174Nm@ 4300rpm', '385Nm@ 1600-2500rpm',\n",
              "       '180 Nm at 2000rpm', '190 Nm at 1750 rpm',\n",
              "       '53@ 2,000-2,750(kgm@ rpm)', '360Nm@ 1400-2600rpm',\n",
              "       '420Nm@ 2000rpm', '124Nm@ 3500rpm', '17.5@ 4,300(kgm@ rpm)',\n",
              "       '360Nm@ 2000rpm', '145Nm@ 3750rpm', '190Nm@ 4200rpm',\n",
              "       '190 Nm at 2000rpm', '13.5@ 2500(kgm@ rpm)', '250nm@ 1500-3000rpm',\n",
              "       '159.8Nm@ 1500-2750rpm', '500Nm@ 2000rpm', '333Nm@ 1600-3200rpm',\n",
              "       '400nm@ 2800rpm', '33@ 2,000-2,680(kgm@ rpm)',\n",
              "       '10.2@ 2,600(kgm@ rpm)', '480Nm', '190Nm@ 4300rpm',\n",
              "       '320Nm@ 1800-2800rpm', '380Nm@ 1750rpm', '250.06nm@ 1500-2750rpm',\n",
              "       '90nm@ 3500rpm', '190Nm@ 3700rpm', '436.4Nm@ 1800-2500rpm',\n",
              "       '96  Nm at 3000  rpm '], dtype=object)"
            ]
          },
          "metadata": {
            "tags": []
          },
          "execution_count": 444
        }
      ]
    },
    {
      "cell_type": "markdown",
      "metadata": {
        "id": "wPkbtH-klVJh"
      },
      "source": [
        "Essa variável torque possui unidades não formatadas e com distintas amplitudes de valores dentro de uma mesma célula. Dessa forma, devido a falta de padronização dos dados optarei aqui por não analisá-las na sequência desse projeto, a fim de não influenciar negativamente nas análises dos dados."
      ]
    },
    {
      "cell_type": "markdown",
      "metadata": {
        "id": "rfa7tNtUmEVt"
      },
      "source": [
        "- Dessa forma, irei remover essa coluna do conjunto de dados."
      ]
    },
    {
      "cell_type": "code",
      "metadata": {
        "id": "goszPVUomKMW"
      },
      "source": [
        "del carros[\"torque\"]"
      ],
      "execution_count": 445,
      "outputs": []
    },
    {
      "cell_type": "code",
      "metadata": {
        "colab": {
          "base_uri": "https://localhost:8080/",
          "height": 299
        },
        "id": "7CMlKBLPmjK2",
        "outputId": "abecfb94-4c74-48af-9ba0-0da315fad780"
      },
      "source": [
        "carros.head(5)"
      ],
      "execution_count": 446,
      "outputs": [
        {
          "output_type": "execute_result",
          "data": {
            "text/html": [
              "<div>\n",
              "<style scoped>\n",
              "    .dataframe tbody tr th:only-of-type {\n",
              "        vertical-align: middle;\n",
              "    }\n",
              "\n",
              "    .dataframe tbody tr th {\n",
              "        vertical-align: top;\n",
              "    }\n",
              "\n",
              "    .dataframe thead th {\n",
              "        text-align: right;\n",
              "    }\n",
              "</style>\n",
              "<table border=\"1\" class=\"dataframe\">\n",
              "  <thead>\n",
              "    <tr style=\"text-align: right;\">\n",
              "      <th></th>\n",
              "      <th>nome_completo_do_carro</th>\n",
              "      <th>ano</th>\n",
              "      <th>preco_de_venda_USD</th>\n",
              "      <th>km_rodado</th>\n",
              "      <th>tipo_combustivel</th>\n",
              "      <th>tipo_do_vendedor</th>\n",
              "      <th>transmissao</th>\n",
              "      <th>dono</th>\n",
              "      <th>consumo_do_combustivel_kmpl</th>\n",
              "      <th>motor_CC</th>\n",
              "      <th>potencia_do_motor_bhp</th>\n",
              "      <th>assentos</th>\n",
              "    </tr>\n",
              "  </thead>\n",
              "  <tbody>\n",
              "    <tr>\n",
              "      <th>0</th>\n",
              "      <td>Maruti Swift Dzire VDI</td>\n",
              "      <td>2014</td>\n",
              "      <td>6164.383562</td>\n",
              "      <td>145500</td>\n",
              "      <td>Diesel</td>\n",
              "      <td>Individual</td>\n",
              "      <td>Manual</td>\n",
              "      <td>First Owner</td>\n",
              "      <td>23.40</td>\n",
              "      <td>1248.0</td>\n",
              "      <td>74.00</td>\n",
              "      <td>5.0</td>\n",
              "    </tr>\n",
              "    <tr>\n",
              "      <th>1</th>\n",
              "      <td>Skoda Rapid 1.5 TDI Ambition</td>\n",
              "      <td>2014</td>\n",
              "      <td>5068.493151</td>\n",
              "      <td>120000</td>\n",
              "      <td>Diesel</td>\n",
              "      <td>Individual</td>\n",
              "      <td>Manual</td>\n",
              "      <td>Second Owner</td>\n",
              "      <td>21.14</td>\n",
              "      <td>1498.0</td>\n",
              "      <td>103.52</td>\n",
              "      <td>5.0</td>\n",
              "    </tr>\n",
              "    <tr>\n",
              "      <th>2</th>\n",
              "      <td>Honda City 2017-2020 EXi</td>\n",
              "      <td>2006</td>\n",
              "      <td>2164.383562</td>\n",
              "      <td>140000</td>\n",
              "      <td>Petrol</td>\n",
              "      <td>Individual</td>\n",
              "      <td>Manual</td>\n",
              "      <td>Third Owner</td>\n",
              "      <td>17.70</td>\n",
              "      <td>1497.0</td>\n",
              "      <td>78.00</td>\n",
              "      <td>5.0</td>\n",
              "    </tr>\n",
              "    <tr>\n",
              "      <th>3</th>\n",
              "      <td>Hyundai i20 Sportz Diesel</td>\n",
              "      <td>2010</td>\n",
              "      <td>3082.191781</td>\n",
              "      <td>127000</td>\n",
              "      <td>Diesel</td>\n",
              "      <td>Individual</td>\n",
              "      <td>Manual</td>\n",
              "      <td>First Owner</td>\n",
              "      <td>23.00</td>\n",
              "      <td>1396.0</td>\n",
              "      <td>90.00</td>\n",
              "      <td>5.0</td>\n",
              "    </tr>\n",
              "    <tr>\n",
              "      <th>4</th>\n",
              "      <td>Maruti Swift VXI BSIII</td>\n",
              "      <td>2007</td>\n",
              "      <td>1780.821918</td>\n",
              "      <td>120000</td>\n",
              "      <td>Petrol</td>\n",
              "      <td>Individual</td>\n",
              "      <td>Manual</td>\n",
              "      <td>First Owner</td>\n",
              "      <td>16.10</td>\n",
              "      <td>1298.0</td>\n",
              "      <td>88.20</td>\n",
              "      <td>5.0</td>\n",
              "    </tr>\n",
              "  </tbody>\n",
              "</table>\n",
              "</div>"
            ],
            "text/plain": [
              "         nome_completo_do_carro   ano  ...  potencia_do_motor_bhp  assentos\n",
              "0        Maruti Swift Dzire VDI  2014  ...                  74.00       5.0\n",
              "1  Skoda Rapid 1.5 TDI Ambition  2014  ...                 103.52       5.0\n",
              "2      Honda City 2017-2020 EXi  2006  ...                  78.00       5.0\n",
              "3     Hyundai i20 Sportz Diesel  2010  ...                  90.00       5.0\n",
              "4        Maruti Swift VXI BSIII  2007  ...                  88.20       5.0\n",
              "\n",
              "[5 rows x 12 columns]"
            ]
          },
          "metadata": {
            "tags": []
          },
          "execution_count": 446
        }
      ]
    },
    {
      "cell_type": "markdown",
      "metadata": {
        "id": "onEBNGhQmvrJ"
      },
      "source": [
        "# Variável 13 - \"assentos\""
      ]
    },
    {
      "cell_type": "code",
      "metadata": {
        "colab": {
          "base_uri": "https://localhost:8080/"
        },
        "id": "_czsylEYmlMc",
        "outputId": "e223d319-43af-4b58-87a6-eaea59ff6ed9"
      },
      "source": [
        "#valores únicos:\n",
        "\n",
        "carros.assentos.unique()"
      ],
      "execution_count": 447,
      "outputs": [
        {
          "output_type": "execute_result",
          "data": {
            "text/plain": [
              "array([ 5.,  4.,  7.,  8.,  6.,  9., 10., 14.,  2.])"
            ]
          },
          "metadata": {
            "tags": []
          },
          "execution_count": 447
        }
      ]
    },
    {
      "cell_type": "code",
      "metadata": {
        "colab": {
          "base_uri": "https://localhost:8080/"
        },
        "id": "g8wOgk5nm53P",
        "outputId": "3474fbbb-a895-4374-e5b9-8ab239e9f4d7"
      },
      "source": [
        "carros.dtypes"
      ],
      "execution_count": 448,
      "outputs": [
        {
          "output_type": "execute_result",
          "data": {
            "text/plain": [
              "nome_completo_do_carro          object\n",
              "ano                              int64\n",
              "preco_de_venda_USD             float64\n",
              "km_rodado                        int64\n",
              "tipo_combustivel                object\n",
              "tipo_do_vendedor                object\n",
              "transmissao                     object\n",
              "dono                            object\n",
              "consumo_do_combustivel_kmpl    float64\n",
              "motor_CC                       float64\n",
              "potencia_do_motor_bhp          float64\n",
              "assentos                       float64\n",
              "dtype: object"
            ]
          },
          "metadata": {
            "tags": []
          },
          "execution_count": 448
        }
      ]
    },
    {
      "cell_type": "markdown",
      "metadata": {
        "id": "spL_QS1JnH4I"
      },
      "source": [
        "Essa variável \"assentos\" já está devidamente formatada."
      ]
    },
    {
      "cell_type": "markdown",
      "metadata": {
        "id": "mp0JB9UnAj58"
      },
      "source": [
        "# (3) Normalização dos dados"
      ]
    },
    {
      "cell_type": "markdown",
      "metadata": {
        "id": "NGNUQNG-Enes"
      },
      "source": [
        "- A normalização é uma etapa importante, uma vez que torna valores de variáveis específicas dentro de uma mesma escala de proporções. Isso permite que modelos preditivos possam ser criados de forma eficaz."
      ]
    },
    {
      "cell_type": "markdown",
      "metadata": {
        "id": "h_80YgDLAqBv"
      },
      "source": [
        "- Para demonstrar como posso realizar uma normalização de dados irei fazer isso para duas variáveis que são:"
      ]
    },
    {
      "cell_type": "markdown",
      "metadata": {
        "id": "U9-rKI_RA70J"
      },
      "source": [
        "- preco_de_venda_USD;\n",
        "\n",
        "- consumo_do_combustivel_kmpl."
      ]
    },
    {
      "cell_type": "markdown",
      "metadata": {
        "id": "FzU98PcMFOPH"
      },
      "source": [
        "Existem tres formas para normalizar os dados. Aqui irei normalizar utilizando o Z-Score"
      ]
    },
    {
      "cell_type": "code",
      "metadata": {
        "id": "gEdNerOGBaXM"
      },
      "source": [
        "# replace (original value) by (original value)/(maximum value)\n",
        "\n",
        "# Esses novos dados normalizados serão criados em duas novas colunas\n",
        "\n",
        "carros['preco_de_venda_USD_normalizado'] = (carros['preco_de_venda_USD']-carros['preco_de_venda_USD'].mean())/carros['preco_de_venda_USD'].std()\n",
        "\n",
        "carros['consumo_do_combustivel_kmpl_normalizado'] = (carros['consumo_do_combustivel_kmpl']-carros['consumo_do_combustivel_kmpl'].mean())/carros['consumo_do_combustivel_kmpl'].std()"
      ],
      "execution_count": 449,
      "outputs": []
    },
    {
      "cell_type": "code",
      "metadata": {
        "colab": {
          "base_uri": "https://localhost:8080/",
          "height": 299
        },
        "id": "u_DY1iS_CYL0",
        "outputId": "cf0c43ae-3e3a-4f41-fa1c-cd596f53c5e0"
      },
      "source": [
        "#Visualizando o dataset com os valores normalizados (duas últimas colunas):\n",
        "\n",
        "carros.head(5)"
      ],
      "execution_count": 450,
      "outputs": [
        {
          "output_type": "execute_result",
          "data": {
            "text/html": [
              "<div>\n",
              "<style scoped>\n",
              "    .dataframe tbody tr th:only-of-type {\n",
              "        vertical-align: middle;\n",
              "    }\n",
              "\n",
              "    .dataframe tbody tr th {\n",
              "        vertical-align: top;\n",
              "    }\n",
              "\n",
              "    .dataframe thead th {\n",
              "        text-align: right;\n",
              "    }\n",
              "</style>\n",
              "<table border=\"1\" class=\"dataframe\">\n",
              "  <thead>\n",
              "    <tr style=\"text-align: right;\">\n",
              "      <th></th>\n",
              "      <th>nome_completo_do_carro</th>\n",
              "      <th>ano</th>\n",
              "      <th>preco_de_venda_USD</th>\n",
              "      <th>km_rodado</th>\n",
              "      <th>tipo_combustivel</th>\n",
              "      <th>tipo_do_vendedor</th>\n",
              "      <th>transmissao</th>\n",
              "      <th>dono</th>\n",
              "      <th>consumo_do_combustivel_kmpl</th>\n",
              "      <th>motor_CC</th>\n",
              "      <th>potencia_do_motor_bhp</th>\n",
              "      <th>assentos</th>\n",
              "      <th>preco_de_venda_USD_normalizado</th>\n",
              "      <th>consumo_do_combustivel_kmpl_normalizado</th>\n",
              "    </tr>\n",
              "  </thead>\n",
              "  <tbody>\n",
              "    <tr>\n",
              "      <th>0</th>\n",
              "      <td>Maruti Swift Dzire VDI</td>\n",
              "      <td>2014</td>\n",
              "      <td>6164.383562</td>\n",
              "      <td>145500</td>\n",
              "      <td>Diesel</td>\n",
              "      <td>Individual</td>\n",
              "      <td>Manual</td>\n",
              "      <td>First Owner</td>\n",
              "      <td>23.40</td>\n",
              "      <td>1248.0</td>\n",
              "      <td>74.00</td>\n",
              "      <td>5.0</td>\n",
              "      <td>-0.249661</td>\n",
              "      <td>1.001961</td>\n",
              "    </tr>\n",
              "    <tr>\n",
              "      <th>1</th>\n",
              "      <td>Skoda Rapid 1.5 TDI Ambition</td>\n",
              "      <td>2014</td>\n",
              "      <td>5068.493151</td>\n",
              "      <td>120000</td>\n",
              "      <td>Diesel</td>\n",
              "      <td>Individual</td>\n",
              "      <td>Manual</td>\n",
              "      <td>Second Owner</td>\n",
              "      <td>21.14</td>\n",
              "      <td>1498.0</td>\n",
              "      <td>103.52</td>\n",
              "      <td>5.0</td>\n",
              "      <td>-0.347573</td>\n",
              "      <td>0.437212</td>\n",
              "    </tr>\n",
              "    <tr>\n",
              "      <th>2</th>\n",
              "      <td>Honda City 2017-2020 EXi</td>\n",
              "      <td>2006</td>\n",
              "      <td>2164.383562</td>\n",
              "      <td>140000</td>\n",
              "      <td>Petrol</td>\n",
              "      <td>Individual</td>\n",
              "      <td>Manual</td>\n",
              "      <td>Third Owner</td>\n",
              "      <td>17.70</td>\n",
              "      <td>1497.0</td>\n",
              "      <td>78.00</td>\n",
              "      <td>5.0</td>\n",
              "      <td>-0.607043</td>\n",
              "      <td>-0.422406</td>\n",
              "    </tr>\n",
              "    <tr>\n",
              "      <th>3</th>\n",
              "      <td>Hyundai i20 Sportz Diesel</td>\n",
              "      <td>2010</td>\n",
              "      <td>3082.191781</td>\n",
              "      <td>127000</td>\n",
              "      <td>Diesel</td>\n",
              "      <td>Individual</td>\n",
              "      <td>Manual</td>\n",
              "      <td>First Owner</td>\n",
              "      <td>23.00</td>\n",
              "      <td>1396.0</td>\n",
              "      <td>90.00</td>\n",
              "      <td>5.0</td>\n",
              "      <td>-0.525040</td>\n",
              "      <td>0.902006</td>\n",
              "    </tr>\n",
              "    <tr>\n",
              "      <th>4</th>\n",
              "      <td>Maruti Swift VXI BSIII</td>\n",
              "      <td>2007</td>\n",
              "      <td>1780.821918</td>\n",
              "      <td>120000</td>\n",
              "      <td>Petrol</td>\n",
              "      <td>Individual</td>\n",
              "      <td>Manual</td>\n",
              "      <td>First Owner</td>\n",
              "      <td>16.10</td>\n",
              "      <td>1298.0</td>\n",
              "      <td>88.20</td>\n",
              "      <td>5.0</td>\n",
              "      <td>-0.641312</td>\n",
              "      <td>-0.822228</td>\n",
              "    </tr>\n",
              "  </tbody>\n",
              "</table>\n",
              "</div>"
            ],
            "text/plain": [
              "         nome_completo_do_carro  ...  consumo_do_combustivel_kmpl_normalizado\n",
              "0        Maruti Swift Dzire VDI  ...                                 1.001961\n",
              "1  Skoda Rapid 1.5 TDI Ambition  ...                                 0.437212\n",
              "2      Honda City 2017-2020 EXi  ...                                -0.422406\n",
              "3     Hyundai i20 Sportz Diesel  ...                                 0.902006\n",
              "4        Maruti Swift VXI BSIII  ...                                -0.822228\n",
              "\n",
              "[5 rows x 14 columns]"
            ]
          },
          "metadata": {
            "tags": []
          },
          "execution_count": 450
        }
      ]
    },
    {
      "cell_type": "markdown",
      "metadata": {
        "id": "8luiSaPtHZFD"
      },
      "source": [
        "# (4) Binning"
      ]
    },
    {
      "cell_type": "markdown",
      "metadata": {
        "id": "kvF9Yx2sONMA"
      },
      "source": [
        "A compartimentação de valores em grupos conhecida como \"Binning\" é uma etapa importante para visualizarmos o tipo de distribuição que temos em algumas variáveis. "
      ]
    },
    {
      "cell_type": "markdown",
      "metadata": {
        "id": "eW8MRiE-O6_1"
      },
      "source": [
        "Binning é o ato de compartimentalizar dados de uma variável quantitativa em determinados grupos através de seus valores. Tal conversão ajuda a melhor entender a distribuição desses valores."
      ]
    },
    {
      "cell_type": "markdown",
      "metadata": {
        "id": "sCs9v8H3Oj8H"
      },
      "source": [
        "Para demonstrar como podemos realizar essa etapa utilizei a variável numérica \"preco_de_venda_USD\""
      ]
    },
    {
      "cell_type": "code",
      "metadata": {
        "colab": {
          "base_uri": "https://localhost:8080/",
          "height": 312
        },
        "id": "lCzR2ug0I2Br",
        "outputId": "65e82044-8d47-4bb7-a686-de1c4455419b"
      },
      "source": [
        "#Inicialmente vou checar a distribuição dos valores dessa variável sem fazer o binning.\n",
        "\n",
        "#Importando a biblioteca matplotlib\n",
        "%matplotlib inline\n",
        "import matplotlib as plt\n",
        "from matplotlib import pyplot\n",
        "\n",
        "plt.pyplot.hist(carros[\"preco_de_venda_USD\"])\n",
        "\n",
        "# Colocando os rótulos de x/y e o título da imagem\n",
        "\n",
        "plt.pyplot.xlabel(\"Preço de venda (USD)\")\n",
        "plt.pyplot.ylabel(\"Quantidade de veículos\")\n",
        "plt.pyplot.title(\"Preço de venda (USD)\")"
      ],
      "execution_count": 451,
      "outputs": [
        {
          "output_type": "execute_result",
          "data": {
            "text/plain": [
              "Text(0.5, 1.0, 'Preço de venda (USD)')"
            ]
          },
          "metadata": {
            "tags": []
          },
          "execution_count": 451
        },
        {
          "output_type": "display_data",
          "data": {
            "image/png": "[encoded data removed]",
            "text/plain": [
              "<Figure size 432x288 with 1 Axes>"
            ]
          },
          "metadata": {
            "tags": [],
            "needs_background": "light"
          }
        }
      ]
    },
    {
      "cell_type": "code",
      "metadata": {
        "colab": {
          "base_uri": "https://localhost:8080/"
        },
        "id": "Oi1yv-RTJXCd",
        "outputId": "f07acde4-11ee-44f4-b306-ad2a7d93b89c"
      },
      "source": [
        "#Construção de um array de compartimentalização\n",
        "\n",
        "bins = np.linspace(min(carros.preco_de_venda_USD),max(carros.preco_de_venda_USD), 4)\n",
        "\n",
        "bins"
      ],
      "execution_count": 452,
      "outputs": [
        {
          "output_type": "execute_result",
          "data": {
            "text/plain": [
              "array([   410.94520548,  45936.06392694,  91461.1826484 , 136986.30136986])"
            ]
          },
          "metadata": {
            "tags": []
          },
          "execution_count": 452
        }
      ]
    },
    {
      "cell_type": "code",
      "metadata": {
        "id": "MCSsuGO9KTxI"
      },
      "source": [
        "#Criando categorias/compartimentos\n",
        "\n",
        "group_names = [\"Baixo\", \"Médio\", \"Alto\"]"
      ],
      "execution_count": 453,
      "outputs": []
    },
    {
      "cell_type": "code",
      "metadata": {
        "colab": {
          "base_uri": "https://localhost:8080/",
          "height": 639
        },
        "id": "zQB-MZQKKhUd",
        "outputId": "d503c9df-5bef-4c90-e568-77bd966aa7a7"
      },
      "source": [
        "#Criando a função cortar (\"cut\"), o qual determina onde cada valor se localiza\n",
        "\n",
        "carros['preco_de_venda_USD_binned'] = pd.cut(carros['preco_de_venda_USD'], bins, labels=group_names, include_lowest=True)\n",
        "\n",
        "carros[['preco_de_venda_USD', 'preco_de_venda_USD_binned']].head(20) "
      ],
      "execution_count": 454,
      "outputs": [
        {
          "output_type": "execute_result",
          "data": {
            "text/html": [
              "<div>\n",
              "<style scoped>\n",
              "    .dataframe tbody tr th:only-of-type {\n",
              "        vertical-align: middle;\n",
              "    }\n",
              "\n",
              "    .dataframe tbody tr th {\n",
              "        vertical-align: top;\n",
              "    }\n",
              "\n",
              "    .dataframe thead th {\n",
              "        text-align: right;\n",
              "    }\n",
              "</style>\n",
              "<table border=\"1\" class=\"dataframe\">\n",
              "  <thead>\n",
              "    <tr style=\"text-align: right;\">\n",
              "      <th></th>\n",
              "      <th>preco_de_venda_USD</th>\n",
              "      <th>preco_de_venda_USD_binned</th>\n",
              "    </tr>\n",
              "  </thead>\n",
              "  <tbody>\n",
              "    <tr>\n",
              "      <th>0</th>\n",
              "      <td>6164.383562</td>\n",
              "      <td>Baixo</td>\n",
              "    </tr>\n",
              "    <tr>\n",
              "      <th>1</th>\n",
              "      <td>5068.493151</td>\n",
              "      <td>Baixo</td>\n",
              "    </tr>\n",
              "    <tr>\n",
              "      <th>2</th>\n",
              "      <td>2164.383562</td>\n",
              "      <td>Baixo</td>\n",
              "    </tr>\n",
              "    <tr>\n",
              "      <th>3</th>\n",
              "      <td>3082.191781</td>\n",
              "      <td>Baixo</td>\n",
              "    </tr>\n",
              "    <tr>\n",
              "      <th>4</th>\n",
              "      <td>1780.821918</td>\n",
              "      <td>Baixo</td>\n",
              "    </tr>\n",
              "    <tr>\n",
              "      <th>5</th>\n",
              "      <td>6027.397260</td>\n",
              "      <td>Baixo</td>\n",
              "    </tr>\n",
              "    <tr>\n",
              "      <th>7</th>\n",
              "      <td>616.438356</td>\n",
              "      <td>Baixo</td>\n",
              "    </tr>\n",
              "    <tr>\n",
              "      <th>8</th>\n",
              "      <td>4794.520548</td>\n",
              "      <td>Baixo</td>\n",
              "    </tr>\n",
              "    <tr>\n",
              "      <th>9</th>\n",
              "      <td>2739.726027</td>\n",
              "      <td>Baixo</td>\n",
              "    </tr>\n",
              "    <tr>\n",
              "      <th>10</th>\n",
              "      <td>6849.315068</td>\n",
              "      <td>Baixo</td>\n",
              "    </tr>\n",
              "    <tr>\n",
              "      <th>11</th>\n",
              "      <td>1260.273973</td>\n",
              "      <td>Baixo</td>\n",
              "    </tr>\n",
              "    <tr>\n",
              "      <th>12</th>\n",
              "      <td>3835.616438</td>\n",
              "      <td>Baixo</td>\n",
              "    </tr>\n",
              "    <tr>\n",
              "      <th>14</th>\n",
              "      <td>2465.753425</td>\n",
              "      <td>Baixo</td>\n",
              "    </tr>\n",
              "    <tr>\n",
              "      <th>15</th>\n",
              "      <td>5479.452055</td>\n",
              "      <td>Baixo</td>\n",
              "    </tr>\n",
              "    <tr>\n",
              "      <th>16</th>\n",
              "      <td>10657.534247</td>\n",
              "      <td>Baixo</td>\n",
              "    </tr>\n",
              "    <tr>\n",
              "      <th>17</th>\n",
              "      <td>6849.315068</td>\n",
              "      <td>Baixo</td>\n",
              "    </tr>\n",
              "    <tr>\n",
              "      <th>18</th>\n",
              "      <td>2054.794521</td>\n",
              "      <td>Baixo</td>\n",
              "    </tr>\n",
              "    <tr>\n",
              "      <th>19</th>\n",
              "      <td>9315.068493</td>\n",
              "      <td>Baixo</td>\n",
              "    </tr>\n",
              "    <tr>\n",
              "      <th>20</th>\n",
              "      <td>2383.561644</td>\n",
              "      <td>Baixo</td>\n",
              "    </tr>\n",
              "    <tr>\n",
              "      <th>21</th>\n",
              "      <td>13013.698630</td>\n",
              "      <td>Baixo</td>\n",
              "    </tr>\n",
              "  </tbody>\n",
              "</table>\n",
              "</div>"
            ],
            "text/plain": [
              "    preco_de_venda_USD preco_de_venda_USD_binned\n",
              "0          6164.383562                     Baixo\n",
              "1          5068.493151                     Baixo\n",
              "2          2164.383562                     Baixo\n",
              "3          3082.191781                     Baixo\n",
              "4          1780.821918                     Baixo\n",
              "5          6027.397260                     Baixo\n",
              "7           616.438356                     Baixo\n",
              "8          4794.520548                     Baixo\n",
              "9          2739.726027                     Baixo\n",
              "10         6849.315068                     Baixo\n",
              "11         1260.273973                     Baixo\n",
              "12         3835.616438                     Baixo\n",
              "14         2465.753425                     Baixo\n",
              "15         5479.452055                     Baixo\n",
              "16        10657.534247                     Baixo\n",
              "17         6849.315068                     Baixo\n",
              "18         2054.794521                     Baixo\n",
              "19         9315.068493                     Baixo\n",
              "20         2383.561644                     Baixo\n",
              "21        13013.698630                     Baixo"
            ]
          },
          "metadata": {
            "tags": []
          },
          "execution_count": 454
        }
      ]
    },
    {
      "cell_type": "code",
      "metadata": {
        "colab": {
          "base_uri": "https://localhost:8080/"
        },
        "id": "42wlmaQ4MM4Q",
        "outputId": "27ee6dfd-6746-4cc9-870e-58117b23b112"
      },
      "source": [
        "#Identificando quantos veículos estão presentes em cada compartimento\n",
        "\n",
        "carros[\"preco_de_venda_USD_binned\"].value_counts()"
      ],
      "execution_count": 455,
      "outputs": [
        {
          "output_type": "execute_result",
          "data": {
            "text/plain": [
              "Baixo    7641\n",
              "Médio     176\n",
              "Alto        2\n",
              "Name: preco_de_venda_USD_binned, dtype: int64"
            ]
          },
          "metadata": {
            "tags": []
          },
          "execution_count": 455
        }
      ]
    },
    {
      "cell_type": "code",
      "metadata": {
        "colab": {
          "base_uri": "https://localhost:8080/",
          "height": 312
        },
        "id": "rMvRwMDLMY7F",
        "outputId": "84cf87a0-da7d-4d05-99c1-c737b72ab7db"
      },
      "source": [
        "#Plotando a distribuição dos valores dessa variável agora com o binning\n",
        "\n",
        "#Importando a biblioteca matplotlib\n",
        "\n",
        "%matplotlib inline\n",
        "import matplotlib as plt\n",
        "from matplotlib import pyplot\n",
        "\n",
        "plt.pyplot.hist(carros[\"preco_de_venda_USD_binned\"])\n",
        "\n",
        "# set x/y labels and plot title\n",
        "plt.pyplot.xlabel(\"Preço de venda por categoria\")\n",
        "plt.pyplot.ylabel(\"Quantidade de veículos\")\n",
        "plt.pyplot.title(\"Categorias de preços de venda\")"
      ],
      "execution_count": 456,
      "outputs": [
        {
          "output_type": "execute_result",
          "data": {
            "text/plain": [
              "Text(0.5, 1.0, 'Categorias de preços de venda')"
            ]
          },
          "metadata": {
            "tags": []
          },
          "execution_count": 456
        },
        {
          "output_type": "display_data",
          "data": {
            "image/png": "[encoded data removed]",
            "text/plain": [
              "<Figure size 432x288 with 1 Axes>"
            ]
          },
          "metadata": {
            "tags": [],
            "needs_background": "light"
          }
        }
      ]
    },
    {
      "cell_type": "markdown",
      "metadata": {
        "id": "dNxztyy5UbnK"
      },
      "source": [
        "# (5) Transformação de valores categóricos para variáveis numéricas / Variável indicadora"
      ]
    },
    {
      "cell_type": "markdown",
      "metadata": {
        "id": "Bh91P0wfUxNu"
      },
      "source": [
        "- Uma variável indicadora, conhecida também como \"dummy variable\" é uma variável numérica que tem a função de rotular categorias."
      ]
    },
    {
      "cell_type": "markdown",
      "metadata": {
        "id": "A1oCSOs5ZQ5U"
      },
      "source": [
        "- É com o uso de variáveis indicadoras que conseguimos utilizar variáveis categóricas para análises de regressão."
      ]
    },
    {
      "cell_type": "markdown",
      "metadata": {
        "id": "LPw8fPvWa__a"
      },
      "source": [
        "Para exemplificar como tornamos uma variável categórica em uma variável indicadora vou utilizar a variável \"tipo_combustivel\""
      ]
    },
    {
      "cell_type": "code",
      "metadata": {
        "colab": {
          "base_uri": "https://localhost:8080/",
          "height": 343
        },
        "id": "nlGYISybVQt_",
        "outputId": "66ee7234-e829-47fe-84c7-ac08778697dc"
      },
      "source": [
        "#Transformando a variável categórica para uma variável indicadora\n",
        "\n",
        "dummy_variable_1 = pd.get_dummies(carros[\"tipo_combustivel\"])\n",
        "\n",
        "dummy_variable_1.head(10)"
      ],
      "execution_count": 457,
      "outputs": [
        {
          "output_type": "execute_result",
          "data": {
            "text/html": [
              "<div>\n",
              "<style scoped>\n",
              "    .dataframe tbody tr th:only-of-type {\n",
              "        vertical-align: middle;\n",
              "    }\n",
              "\n",
              "    .dataframe tbody tr th {\n",
              "        vertical-align: top;\n",
              "    }\n",
              "\n",
              "    .dataframe thead th {\n",
              "        text-align: right;\n",
              "    }\n",
              "</style>\n",
              "<table border=\"1\" class=\"dataframe\">\n",
              "  <thead>\n",
              "    <tr style=\"text-align: right;\">\n",
              "      <th></th>\n",
              "      <th>Diesel</th>\n",
              "      <th>Petrol</th>\n",
              "    </tr>\n",
              "  </thead>\n",
              "  <tbody>\n",
              "    <tr>\n",
              "      <th>0</th>\n",
              "      <td>1</td>\n",
              "      <td>0</td>\n",
              "    </tr>\n",
              "    <tr>\n",
              "      <th>1</th>\n",
              "      <td>1</td>\n",
              "      <td>0</td>\n",
              "    </tr>\n",
              "    <tr>\n",
              "      <th>2</th>\n",
              "      <td>0</td>\n",
              "      <td>1</td>\n",
              "    </tr>\n",
              "    <tr>\n",
              "      <th>3</th>\n",
              "      <td>1</td>\n",
              "      <td>0</td>\n",
              "    </tr>\n",
              "    <tr>\n",
              "      <th>4</th>\n",
              "      <td>0</td>\n",
              "      <td>1</td>\n",
              "    </tr>\n",
              "    <tr>\n",
              "      <th>5</th>\n",
              "      <td>0</td>\n",
              "      <td>1</td>\n",
              "    </tr>\n",
              "    <tr>\n",
              "      <th>7</th>\n",
              "      <td>0</td>\n",
              "      <td>1</td>\n",
              "    </tr>\n",
              "    <tr>\n",
              "      <th>8</th>\n",
              "      <td>1</td>\n",
              "      <td>0</td>\n",
              "    </tr>\n",
              "    <tr>\n",
              "      <th>9</th>\n",
              "      <td>1</td>\n",
              "      <td>0</td>\n",
              "    </tr>\n",
              "    <tr>\n",
              "      <th>10</th>\n",
              "      <td>1</td>\n",
              "      <td>0</td>\n",
              "    </tr>\n",
              "  </tbody>\n",
              "</table>\n",
              "</div>"
            ],
            "text/plain": [
              "    Diesel  Petrol\n",
              "0        1       0\n",
              "1        1       0\n",
              "2        0       1\n",
              "3        1       0\n",
              "4        0       1\n",
              "5        0       1\n",
              "7        0       1\n",
              "8        1       0\n",
              "9        1       0\n",
              "10       1       0"
            ]
          },
          "metadata": {
            "tags": []
          },
          "execution_count": 457
        }
      ]
    },
    {
      "cell_type": "code",
      "metadata": {
        "colab": {
          "base_uri": "https://localhost:8080/",
          "height": 343
        },
        "id": "EscN6LxKV_D3",
        "outputId": "120fc088-c2fb-4809-a2a1-29b2eab3520a"
      },
      "source": [
        "#Mudando os nomes das colunas para ilustrar o tipo de combustível\n",
        "\n",
        "dummy_variable_1.rename(columns={'Diesel':'tipo_de_combustivel_Diesel', 'Petrol':'tipo_de_combustivel_Petrol'}, inplace=True)\n",
        "\n",
        "dummy_variable_1.head(10)"
      ],
      "execution_count": 458,
      "outputs": [
        {
          "output_type": "execute_result",
          "data": {
            "text/html": [
              "<div>\n",
              "<style scoped>\n",
              "    .dataframe tbody tr th:only-of-type {\n",
              "        vertical-align: middle;\n",
              "    }\n",
              "\n",
              "    .dataframe tbody tr th {\n",
              "        vertical-align: top;\n",
              "    }\n",
              "\n",
              "    .dataframe thead th {\n",
              "        text-align: right;\n",
              "    }\n",
              "</style>\n",
              "<table border=\"1\" class=\"dataframe\">\n",
              "  <thead>\n",
              "    <tr style=\"text-align: right;\">\n",
              "      <th></th>\n",
              "      <th>tipo_de_combustivel_Diesel</th>\n",
              "      <th>tipo_de_combustivel_Petrol</th>\n",
              "    </tr>\n",
              "  </thead>\n",
              "  <tbody>\n",
              "    <tr>\n",
              "      <th>0</th>\n",
              "      <td>1</td>\n",
              "      <td>0</td>\n",
              "    </tr>\n",
              "    <tr>\n",
              "      <th>1</th>\n",
              "      <td>1</td>\n",
              "      <td>0</td>\n",
              "    </tr>\n",
              "    <tr>\n",
              "      <th>2</th>\n",
              "      <td>0</td>\n",
              "      <td>1</td>\n",
              "    </tr>\n",
              "    <tr>\n",
              "      <th>3</th>\n",
              "      <td>1</td>\n",
              "      <td>0</td>\n",
              "    </tr>\n",
              "    <tr>\n",
              "      <th>4</th>\n",
              "      <td>0</td>\n",
              "      <td>1</td>\n",
              "    </tr>\n",
              "    <tr>\n",
              "      <th>5</th>\n",
              "      <td>0</td>\n",
              "      <td>1</td>\n",
              "    </tr>\n",
              "    <tr>\n",
              "      <th>7</th>\n",
              "      <td>0</td>\n",
              "      <td>1</td>\n",
              "    </tr>\n",
              "    <tr>\n",
              "      <th>8</th>\n",
              "      <td>1</td>\n",
              "      <td>0</td>\n",
              "    </tr>\n",
              "    <tr>\n",
              "      <th>9</th>\n",
              "      <td>1</td>\n",
              "      <td>0</td>\n",
              "    </tr>\n",
              "    <tr>\n",
              "      <th>10</th>\n",
              "      <td>1</td>\n",
              "      <td>0</td>\n",
              "    </tr>\n",
              "  </tbody>\n",
              "</table>\n",
              "</div>"
            ],
            "text/plain": [
              "    tipo_de_combustivel_Diesel  tipo_de_combustivel_Petrol\n",
              "0                            1                           0\n",
              "1                            1                           0\n",
              "2                            0                           1\n",
              "3                            1                           0\n",
              "4                            0                           1\n",
              "5                            0                           1\n",
              "7                            0                           1\n",
              "8                            1                           0\n",
              "9                            1                           0\n",
              "10                           1                           0"
            ]
          },
          "metadata": {
            "tags": []
          },
          "execution_count": 458
        }
      ]
    },
    {
      "cell_type": "code",
      "metadata": {
        "id": "oE-imod4XeBN"
      },
      "source": [
        "# Unindo as colunas criadas ao dataset\n",
        "\n",
        "carros = pd.concat([carros, dummy_variable_1], axis=1)"
      ],
      "execution_count": 459,
      "outputs": []
    },
    {
      "cell_type": "code",
      "metadata": {
        "colab": {
          "base_uri": "https://localhost:8080/",
          "height": 299
        },
        "id": "Lo_kjXCzW8UE",
        "outputId": "cb74891b-35d0-461e-fa7f-bc4ca855639c"
      },
      "source": [
        "#Visualizando as duas novas tabelas. Elas estão no final do dataset\n",
        "\n",
        "carros.head(5)"
      ],
      "execution_count": 460,
      "outputs": [
        {
          "output_type": "execute_result",
          "data": {
            "text/html": [
              "<div>\n",
              "<style scoped>\n",
              "    .dataframe tbody tr th:only-of-type {\n",
              "        vertical-align: middle;\n",
              "    }\n",
              "\n",
              "    .dataframe tbody tr th {\n",
              "        vertical-align: top;\n",
              "    }\n",
              "\n",
              "    .dataframe thead th {\n",
              "        text-align: right;\n",
              "    }\n",
              "</style>\n",
              "<table border=\"1\" class=\"dataframe\">\n",
              "  <thead>\n",
              "    <tr style=\"text-align: right;\">\n",
              "      <th></th>\n",
              "      <th>nome_completo_do_carro</th>\n",
              "      <th>ano</th>\n",
              "      <th>preco_de_venda_USD</th>\n",
              "      <th>km_rodado</th>\n",
              "      <th>tipo_combustivel</th>\n",
              "      <th>tipo_do_vendedor</th>\n",
              "      <th>transmissao</th>\n",
              "      <th>dono</th>\n",
              "      <th>consumo_do_combustivel_kmpl</th>\n",
              "      <th>motor_CC</th>\n",
              "      <th>potencia_do_motor_bhp</th>\n",
              "      <th>assentos</th>\n",
              "      <th>preco_de_venda_USD_normalizado</th>\n",
              "      <th>consumo_do_combustivel_kmpl_normalizado</th>\n",
              "      <th>preco_de_venda_USD_binned</th>\n",
              "      <th>tipo_de_combustivel_Diesel</th>\n",
              "      <th>tipo_de_combustivel_Petrol</th>\n",
              "    </tr>\n",
              "  </thead>\n",
              "  <tbody>\n",
              "    <tr>\n",
              "      <th>0</th>\n",
              "      <td>Maruti Swift Dzire VDI</td>\n",
              "      <td>2014</td>\n",
              "      <td>6164.383562</td>\n",
              "      <td>145500</td>\n",
              "      <td>Diesel</td>\n",
              "      <td>Individual</td>\n",
              "      <td>Manual</td>\n",
              "      <td>First Owner</td>\n",
              "      <td>23.40</td>\n",
              "      <td>1248.0</td>\n",
              "      <td>74.00</td>\n",
              "      <td>5.0</td>\n",
              "      <td>-0.249661</td>\n",
              "      <td>1.001961</td>\n",
              "      <td>Baixo</td>\n",
              "      <td>1</td>\n",
              "      <td>0</td>\n",
              "    </tr>\n",
              "    <tr>\n",
              "      <th>1</th>\n",
              "      <td>Skoda Rapid 1.5 TDI Ambition</td>\n",
              "      <td>2014</td>\n",
              "      <td>5068.493151</td>\n",
              "      <td>120000</td>\n",
              "      <td>Diesel</td>\n",
              "      <td>Individual</td>\n",
              "      <td>Manual</td>\n",
              "      <td>Second Owner</td>\n",
              "      <td>21.14</td>\n",
              "      <td>1498.0</td>\n",
              "      <td>103.52</td>\n",
              "      <td>5.0</td>\n",
              "      <td>-0.347573</td>\n",
              "      <td>0.437212</td>\n",
              "      <td>Baixo</td>\n",
              "      <td>1</td>\n",
              "      <td>0</td>\n",
              "    </tr>\n",
              "    <tr>\n",
              "      <th>2</th>\n",
              "      <td>Honda City 2017-2020 EXi</td>\n",
              "      <td>2006</td>\n",
              "      <td>2164.383562</td>\n",
              "      <td>140000</td>\n",
              "      <td>Petrol</td>\n",
              "      <td>Individual</td>\n",
              "      <td>Manual</td>\n",
              "      <td>Third Owner</td>\n",
              "      <td>17.70</td>\n",
              "      <td>1497.0</td>\n",
              "      <td>78.00</td>\n",
              "      <td>5.0</td>\n",
              "      <td>-0.607043</td>\n",
              "      <td>-0.422406</td>\n",
              "      <td>Baixo</td>\n",
              "      <td>0</td>\n",
              "      <td>1</td>\n",
              "    </tr>\n",
              "    <tr>\n",
              "      <th>3</th>\n",
              "      <td>Hyundai i20 Sportz Diesel</td>\n",
              "      <td>2010</td>\n",
              "      <td>3082.191781</td>\n",
              "      <td>127000</td>\n",
              "      <td>Diesel</td>\n",
              "      <td>Individual</td>\n",
              "      <td>Manual</td>\n",
              "      <td>First Owner</td>\n",
              "      <td>23.00</td>\n",
              "      <td>1396.0</td>\n",
              "      <td>90.00</td>\n",
              "      <td>5.0</td>\n",
              "      <td>-0.525040</td>\n",
              "      <td>0.902006</td>\n",
              "      <td>Baixo</td>\n",
              "      <td>1</td>\n",
              "      <td>0</td>\n",
              "    </tr>\n",
              "    <tr>\n",
              "      <th>4</th>\n",
              "      <td>Maruti Swift VXI BSIII</td>\n",
              "      <td>2007</td>\n",
              "      <td>1780.821918</td>\n",
              "      <td>120000</td>\n",
              "      <td>Petrol</td>\n",
              "      <td>Individual</td>\n",
              "      <td>Manual</td>\n",
              "      <td>First Owner</td>\n",
              "      <td>16.10</td>\n",
              "      <td>1298.0</td>\n",
              "      <td>88.20</td>\n",
              "      <td>5.0</td>\n",
              "      <td>-0.641312</td>\n",
              "      <td>-0.822228</td>\n",
              "      <td>Baixo</td>\n",
              "      <td>0</td>\n",
              "      <td>1</td>\n",
              "    </tr>\n",
              "  </tbody>\n",
              "</table>\n",
              "</div>"
            ],
            "text/plain": [
              "         nome_completo_do_carro  ...  tipo_de_combustivel_Petrol\n",
              "0        Maruti Swift Dzire VDI  ...                           0\n",
              "1  Skoda Rapid 1.5 TDI Ambition  ...                           0\n",
              "2      Honda City 2017-2020 EXi  ...                           1\n",
              "3     Hyundai i20 Sportz Diesel  ...                           0\n",
              "4        Maruti Swift VXI BSIII  ...                           1\n",
              "\n",
              "[5 rows x 17 columns]"
            ]
          },
          "metadata": {
            "tags": []
          },
          "execution_count": 460
        }
      ]
    },
    {
      "cell_type": "markdown",
      "metadata": {
        "id": "Pw6dtxJARUrW"
      },
      "source": [
        "# ___________________________________________________________________"
      ]
    },
    {
      "cell_type": "markdown",
      "metadata": {
        "id": "DoDlLYZ4cACt"
      },
      "source": [
        "#A etapa acima finaliza esse projeto 01"
      ]
    },
    {
      "cell_type": "markdown",
      "metadata": {
        "id": "Ec3SlHeHnGSM"
      },
      "source": [
        "### Agora vou salvar essa planilha final para poder dar prosseguimento as análises no próximo projeto."
      ]
    },
    {
      "cell_type": "code",
      "metadata": {
        "colab": {
          "base_uri": "https://localhost:8080/",
          "height": 17
        },
        "id": "OixDzMo6nrqV",
        "outputId": "4643bb8a-da3e-4351-e024-52891595f102"
      },
      "source": [
        "from google.colab import files\n",
        "carros.to_csv('carros_formatado.csv', index=False) \n",
        "files.download('carros_formatado.csv')"
      ],
      "execution_count": 461,
      "outputs": [
        {
          "output_type": "display_data",
          "data": {
            "application/javascript": [
              "\n",
              "    async function download(id, filename, size) {\n",
              "      if (!google.colab.kernel.accessAllowed) {\n",
              "        return;\n",
              "      }\n",
              "      const div = document.createElement('div');\n",
              "      const label = document.createElement('label');\n",
              "      label.textContent = `Downloading \"${filename}\": `;\n",
              "      div.appendChild(label);\n",
              "      const progress = document.createElement('progress');\n",
              "      progress.max = size;\n",
              "      div.appendChild(progress);\n",
              "      document.body.appendChild(div);\n",
              "\n",
              "      const buffers = [];\n",
              "      let downloaded = 0;\n",
              "\n",
              "      const channel = await google.colab.kernel.comms.open(id);\n",
              "      // Send a message to notify the kernel that we're ready.\n",
              "      channel.send({})\n",
              "\n",
              "      for await (const message of channel.messages) {\n",
              "        // Send a message to notify the kernel that we're ready.\n",
              "        channel.send({})\n",
              "        if (message.buffers) {\n",
              "          for (const buffer of message.buffers) {\n",
              "            buffers.push(buffer);\n",
              "            downloaded += buffer.byteLength;\n",
              "            progress.value = downloaded;\n",
              "          }\n",
              "        }\n",
              "      }\n",
              "      const blob = new Blob(buffers, {type: 'application/binary'});\n",
              "      const a = document.createElement('a');\n",
              "      a.href = window.URL.createObjectURL(blob);\n",
              "      a.download = filename;\n",
              "      div.appendChild(a);\n",
              "      a.click();\n",
              "      div.remove();\n",
              "    }\n",
              "  "
            ],
            "text/plain": [
              "<IPython.core.display.Javascript object>"
            ]
          },
          "metadata": {
            "tags": []
          }
        },
        {
          "output_type": "display_data",
          "data": {
            "application/javascript": [
              "download(\"download_786e576d-ad0a-4df7-9ac4-8b163960d516\", \"carros_formatado.csv\", 1286607)"
            ],
            "text/plain": [
              "<IPython.core.display.Javascript object>"
            ]
          },
          "metadata": {
            "tags": []
          }
        }
      ]
    },
    {
      "cell_type": "markdown",
      "metadata": {
        "id": "9ujsZmt2DI7u"
      },
      "source": [
        "#Autor:\n"
      ]
    },
    {
      "cell_type": "markdown",
      "metadata": {
        "id": "S4cqm1fuqRZE"
      },
      "source": [
        "### - Lucas Andrei Campos-Silva\n",
        "\n",
        "- link para meu portifólio de projetos em Data Science: https://github.com/Campos-Silva \n",
        "- e-mail para contato: andrei.10@hotmail.com\n",
        "- linkedIn: https://www.linkedin.com/in/lucas-andrei-campos-silva/\n",
        "\n",
        "\n"
      ]
    }
  ]
}